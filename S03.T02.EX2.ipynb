{
 "cells": [
  {
   "cell_type": "markdown",
   "id": "fdb0a3ee",
   "metadata": {},
   "source": [
    "![Images](Images/ITAcademy.png)\n",
    "# DATA SCIENCE: S03.T02.EXERCICI 2\n",
    "#### Created by: Dani Planas Montserrat\n"
   ]
  },
  {
   "cell_type": "markdown",
   "id": "210f2a02",
   "metadata": {},
   "source": [
    "# RELATIONSHIPS BETWEEN VARIABLES"
   ]
  },
  {
   "cell_type": "markdown",
   "id": "def4a48c",
   "metadata": {},
   "source": [
    "<span style=color:darkred><b><u>To answer research questions, data must be collected</u></b></span>. \n",
    "\n",
    "Analyses are motivated by <span style=color:orange><b><i>looking</i></b></span> for a <span style=color:orange><b><i>relationship between two or more variables</i></b></span>.\n",
    "\n",
    "Examining <span style=color:orange><b>summary statistics</b></span> could provide insights for each of the research questions about the study.   \n",
    "\n",
    "A <span style=color:orange><b>summary statistics</b></span> is a <b><i>single number summarizing a large amount of data</i></b>. In other words, a <span style=color:orange><b>summary statistics</b></span> is a <b>value</b> computed from the <b>data</b>."
   ]
  },
  {
   "cell_type": "markdown",
   "id": "4d06b313",
   "metadata": {},
   "source": [
    "# <span style=color:orange>EXAMINING NUMERICAL DATA</span>"
   ]
  },
  {
   "cell_type": "markdown",
   "id": "d9c226a3",
   "metadata": {},
   "source": [
    "We will be introduced to techniques for <span style=color:orange>exploring</span> and <span style=color:orange>summarizing numerical</span> variables, working with two datasets : '$tips$', '$county$' and '$cars$'."
   ]
  },
  {
   "cell_type": "markdown",
   "id": "67fff11a",
   "metadata": {},
   "source": [
    "## <span style=color:orange>EXPLORING BIVARIATE VARIABLES WITH SCATTERPLOTS</span>"
   ]
  },
  {
   "cell_type": "markdown",
   "id": "bd4314b8",
   "metadata": {},
   "source": [
    "A <span style=color:orange>Scatterplot</span> provides a case-by-case view of data for <span style=color:orange>two <b>(bivariate)</b> numerical variables</span>. "
   ]
  },
  {
   "cell_type": "markdown",
   "id": "30fe75de",
   "metadata": {},
   "source": [
    "<span style=color:orange>Scatterplots</span> are helpful in quickly <span style=color:orange><b>spotting associations relating variables</b></span>, whether those associations come in the form of <b>simple trends</b> or whether those relationships are more <b>complex</b>."
   ]
  },
  {
   "cell_type": "code",
   "execution_count": 144,
   "id": "beb6ddc4",
   "metadata": {
    "code_folding": [],
    "run_control": {
     "marked": false
    },
    "scrolled": false
   },
   "outputs": [],
   "source": [
    "##########################################################################\n",
    "##           DATA SCIENCE: S03.T02: Nivell 2 Exercici 2                 ##\n",
    "##########################################################################\n",
    "# Exercici 2: Repeteix l'exercici 1 amb el dataset que disposem en el \n",
    "# repositori de GitHub PRE-PROCESSING-DATA, movies.dat\n",
    "\n",
    "# importing libraries\n",
    "import numpy as np\n",
    "import pandas as pd\n",
    "import matplotlib.pyplot as plt\n",
    "import seaborn as sns\n",
    "import warnings\n",
    "\n",
    "warnings.filterwarnings('ignore')\n",
    "\n",
    "\n"
   ]
  },
  {
   "cell_type": "code",
   "execution_count": 145,
   "id": "638e8ab1",
   "metadata": {
    "code_folding": [
     5,
     21
    ],
    "run_control": {
     "marked": true
    }
   },
   "outputs": [],
   "source": [
    "#************************************************************************************\n",
    "#******************************      PLOT Functions     *****************************\n",
    "#************************************************************************************\n",
    "\n",
    "#Function plot, with Seaborn Library and type ScatterPlot\n",
    "def plotSnsScatterplot(df, paramNum1, paramNum2, title, ylabel, xlabel):\n",
    "\n",
    "    g = sns.FacetGrid(df)\n",
    "    g.map(sns.scatterplot, paramNum1, paramNum2, alpha=.7)\n",
    "    g.add_legend()\n",
    "\n",
    "    plt.title(title)\n",
    "    plt.ylabel(ylabel)\n",
    "    plt.xlabel(xlabel)\n",
    "    \n",
    "    # Show graphic\n",
    "    fig = plt.gcf()\n",
    "    plt.show()\n",
    "\n",
    "    return fig\n",
    "\n",
    "def plotSnsLineplot(df, paramNum1, paramNum2, title, ylabel, xlabel):\n",
    "\n",
    "    g = sns.FacetGrid(df)\n",
    "    g.map(sns.lineplot, paramNum1, paramNum2, alpha=.7)\n",
    "    g.add_legend()\n",
    "    \n",
    "    plt.title(title)\n",
    "    plt.ylabel(ylabel)\n",
    "    plt.xlabel(xlabel)\n",
    "    \n",
    "    # Show graphic\n",
    "    fig = plt.gcf()\n",
    "    plt.show()\n",
    "\n",
    "    return fig\n",
    "\n",
    "def plotSnsHistplot(df, paramNum1, paramNum2, title, ylabel, xlabel, binsNum):\n",
    "  \n",
    "    sns.histplot(data=df, x=paramNum1, bins=binsNum, kde=True)\n",
    "    #g.add_legend()\n",
    "    \n",
    "    plt.title(title)\n",
    "    plt.ylabel(ylabel)\n",
    "    plt.xlabel(xlabel)\n",
    "    \n",
    "    # Show graphic\n",
    "    fig = plt.gcf()\n",
    "    plt.show()\n",
    "\n",
    "    return fig"
   ]
  },
  {
   "cell_type": "code",
   "execution_count": 153,
   "id": "f4ef513b",
   "metadata": {
    "code_folding": [],
    "run_control": {
     "marked": true
    }
   },
   "outputs": [
    {
     "name": "stdout",
     "output_type": "stream",
     "text": [
      "Taula de dades MOVIES: \n"
     ]
    },
    {
     "data": {
      "text/html": [
       "<div>\n",
       "<style scoped>\n",
       "    .dataframe tbody tr th:only-of-type {\n",
       "        vertical-align: middle;\n",
       "    }\n",
       "\n",
       "    .dataframe tbody tr th {\n",
       "        vertical-align: top;\n",
       "    }\n",
       "\n",
       "    .dataframe thead th {\n",
       "        text-align: right;\n",
       "    }\n",
       "</style>\n",
       "<table border=\"1\" class=\"dataframe\">\n",
       "  <thead>\n",
       "    <tr style=\"text-align: right;\">\n",
       "      <th></th>\n",
       "      <th>TitleYear</th>\n",
       "      <th>Genres</th>\n",
       "    </tr>\n",
       "  </thead>\n",
       "  <tbody>\n",
       "    <tr>\n",
       "      <th>1</th>\n",
       "      <td>Toy Story (1995)</td>\n",
       "      <td>Animation|Children's|Comedy</td>\n",
       "    </tr>\n",
       "    <tr>\n",
       "      <th>2</th>\n",
       "      <td>Jumanji (1995)</td>\n",
       "      <td>Adventure|Children's|Fantasy</td>\n",
       "    </tr>\n",
       "    <tr>\n",
       "      <th>3</th>\n",
       "      <td>Grumpier Old Men (1995)</td>\n",
       "      <td>Comedy|Romance</td>\n",
       "    </tr>\n",
       "    <tr>\n",
       "      <th>4</th>\n",
       "      <td>Waiting to Exhale (1995)</td>\n",
       "      <td>Comedy|Drama</td>\n",
       "    </tr>\n",
       "    <tr>\n",
       "      <th>5</th>\n",
       "      <td>Father of the Bride Part II (1995)</td>\n",
       "      <td>Comedy</td>\n",
       "    </tr>\n",
       "    <tr>\n",
       "      <th>...</th>\n",
       "      <td>...</td>\n",
       "      <td>...</td>\n",
       "    </tr>\n",
       "    <tr>\n",
       "      <th>3948</th>\n",
       "      <td>Meet the Parents (2000)</td>\n",
       "      <td>Comedy</td>\n",
       "    </tr>\n",
       "    <tr>\n",
       "      <th>3949</th>\n",
       "      <td>Requiem for a Dream (2000)</td>\n",
       "      <td>Drama</td>\n",
       "    </tr>\n",
       "    <tr>\n",
       "      <th>3950</th>\n",
       "      <td>Tigerland (2000)</td>\n",
       "      <td>Drama</td>\n",
       "    </tr>\n",
       "    <tr>\n",
       "      <th>3951</th>\n",
       "      <td>Two Family House (2000)</td>\n",
       "      <td>Drama</td>\n",
       "    </tr>\n",
       "    <tr>\n",
       "      <th>3952</th>\n",
       "      <td>Contender, The (2000)</td>\n",
       "      <td>Drama|Thriller</td>\n",
       "    </tr>\n",
       "  </tbody>\n",
       "</table>\n",
       "<p>3883 rows × 2 columns</p>\n",
       "</div>"
      ],
      "text/plain": [
       "                               TitleYear                        Genres\n",
       "1                       Toy Story (1995)   Animation|Children's|Comedy\n",
       "2                         Jumanji (1995)  Adventure|Children's|Fantasy\n",
       "3                Grumpier Old Men (1995)                Comedy|Romance\n",
       "4               Waiting to Exhale (1995)                  Comedy|Drama\n",
       "5     Father of the Bride Part II (1995)                        Comedy\n",
       "...                                  ...                           ...\n",
       "3948             Meet the Parents (2000)                        Comedy\n",
       "3949          Requiem for a Dream (2000)                         Drama\n",
       "3950                    Tigerland (2000)                         Drama\n",
       "3951             Two Family House (2000)                         Drama\n",
       "3952               Contender, The (2000)                Drama|Thriller\n",
       "\n",
       "[3883 rows x 2 columns]"
      ]
     },
     "metadata": {},
     "output_type": "display_data"
    },
    {
     "name": "stdout",
     "output_type": "stream",
     "text": [
      "Versió de Panda:  1.3.4\n",
      "Taula de dades MOVIES: \n"
     ]
    },
    {
     "data": {
      "text/html": [
       "<div>\n",
       "<style scoped>\n",
       "    .dataframe tbody tr th:only-of-type {\n",
       "        vertical-align: middle;\n",
       "    }\n",
       "\n",
       "    .dataframe tbody tr th {\n",
       "        vertical-align: top;\n",
       "    }\n",
       "\n",
       "    .dataframe thead th {\n",
       "        text-align: right;\n",
       "    }\n",
       "</style>\n",
       "<table border=\"1\" class=\"dataframe\">\n",
       "  <thead>\n",
       "    <tr style=\"text-align: right;\">\n",
       "      <th></th>\n",
       "      <th>TitleYear</th>\n",
       "    </tr>\n",
       "    <tr>\n",
       "      <th>Genres</th>\n",
       "      <th></th>\n",
       "    </tr>\n",
       "  </thead>\n",
       "  <tbody>\n",
       "    <tr>\n",
       "      <th>Action</th>\n",
       "      <td>65</td>\n",
       "    </tr>\n",
       "    <tr>\n",
       "      <th>Action|Adventure</th>\n",
       "      <td>25</td>\n",
       "    </tr>\n",
       "    <tr>\n",
       "      <th>Action|Adventure|Animation</th>\n",
       "      <td>1</td>\n",
       "    </tr>\n",
       "    <tr>\n",
       "      <th>Action|Adventure|Animation|Children's|Fantasy</th>\n",
       "      <td>1</td>\n",
       "    </tr>\n",
       "    <tr>\n",
       "      <th>Action|Adventure|Animation|Horror|Sci-Fi</th>\n",
       "      <td>1</td>\n",
       "    </tr>\n",
       "    <tr>\n",
       "      <th>...</th>\n",
       "      <td>...</td>\n",
       "    </tr>\n",
       "    <tr>\n",
       "      <th>Sci-Fi|Thriller|War</th>\n",
       "      <td>1</td>\n",
       "    </tr>\n",
       "    <tr>\n",
       "      <th>Sci-Fi|War</th>\n",
       "      <td>1</td>\n",
       "    </tr>\n",
       "    <tr>\n",
       "      <th>Thriller</th>\n",
       "      <td>101</td>\n",
       "    </tr>\n",
       "    <tr>\n",
       "      <th>War</th>\n",
       "      <td>12</td>\n",
       "    </tr>\n",
       "    <tr>\n",
       "      <th>Western</th>\n",
       "      <td>33</td>\n",
       "    </tr>\n",
       "  </tbody>\n",
       "</table>\n",
       "<p>301 rows × 1 columns</p>\n",
       "</div>"
      ],
      "text/plain": [
       "                                               TitleYear\n",
       "Genres                                                  \n",
       "Action                                                65\n",
       "Action|Adventure                                      25\n",
       "Action|Adventure|Animation                             1\n",
       "Action|Adventure|Animation|Children's|Fantasy          1\n",
       "Action|Adventure|Animation|Horror|Sci-Fi               1\n",
       "...                                                  ...\n",
       "Sci-Fi|Thriller|War                                    1\n",
       "Sci-Fi|War                                             1\n",
       "Thriller                                             101\n",
       "War                                                   12\n",
       "Western                                               33\n",
       "\n",
       "[301 rows x 1 columns]"
      ]
     },
     "metadata": {},
     "output_type": "display_data"
    },
    {
     "data": {
      "text/plain": [
       "array(['TitleYear'], dtype=object)"
      ]
     },
     "metadata": {},
     "output_type": "display_data"
    },
    {
     "data": {
      "text/plain": [
       "Genres\n",
       "Action                                            65\n",
       "Action|Adventure                                  25\n",
       "Action|Adventure|Animation                         1\n",
       "Action|Adventure|Animation|Children's|Fantasy      1\n",
       "Action|Adventure|Animation|Horror|Sci-Fi           1\n",
       "                                                ... \n",
       "Sci-Fi|Thriller|War                                1\n",
       "Sci-Fi|War                                         1\n",
       "Thriller                                         101\n",
       "War                                               12\n",
       "Western                                           33\n",
       "Name: TitleYear, Length: 301, dtype: int64"
      ]
     },
     "metadata": {},
     "output_type": "display_data"
    }
   ],
   "source": [
    "#************************************************************************************\n",
    "#********************************         Main       ********************************\n",
    "#************************************************************************************\n",
    "# Read *.csv file (Import Data)\n",
    "movies = pd.read_csv(\"https://raw.githubusercontent.com/IT-Academy-BCN/Data-Science/main/Pre-processing-data/movies.dat\",\n",
    "sep='::', encoding = 'ISO-8859-1', index_col=0, names=['TitleYear','Genres'], engine='python')\n",
    "\n",
    "print (\"Taula de dades MOVIES: \")                                 #Print Message\n",
    "display(movies)                                                   #Print Dataframe\n",
    "print (\"Versió de Panda: \", pd.__version__)                     #Print version of PANDA\n",
    "\n",
    "print (\"Taula de dades MOVIES: \")                                 #Print Message\n",
    "moviesG = movies.groupby([\"Genres\"]).count()\n",
    "\n",
    "display(moviesG)\n",
    "\n",
    "\n",
    "display(moviesG.columns.values)\n",
    "display(moviesG.TitleYear)"
   ]
  },
  {
   "cell_type": "markdown",
   "id": "bbee0a46",
   "metadata": {},
   "source": [
    "## <span style=color:orange>HISTOGRAMS</span>"
   ]
  },
  {
   "cell_type": "markdown",
   "id": "711d1702",
   "metadata": {},
   "source": [
    "Dot plots, like in <span style=color:orange>scatterplot</span>, show the <span style=color:orange><b>exact value for each observation</b></span>. This is useful for <b><i>small datasets</i></b>, but they can become hard to read with <b>larger samples</b>. \n",
    "\n",
    "Rather than showing the <span style=color:orange><i>value of each observation</i></span>, we prefer to think of the value as belonging to a <span style=color:orange><b>bin</b></span>.   \n",
    "\n",
    "These <span style=color:orange><b>bins</span> - ***(counts)*** are plotted as <span style=color:orange><u>bars</u></span> into what is called a <span style=color:orange><b><u>Histogram</u></b></span>."
   ]
  },
  {
   "cell_type": "markdown",
   "id": "57067bc4",
   "metadata": {},
   "source": [
    "<span style=color:orange><b><u>Histogram</u></b></span> provide a view of the <span style=color:orange>data density</span>. Higher bars represent where the data are relatively more common.\n",
    "\n",
    "<span style=color:orange><b><u>Histogram</u></b></span> are especially convenient for describing the <span style=color:orange><i>shape of the data distribution</i></span>.\n",
    "\n",
    "- When data <b>trail off</b> to the right and have a longer right tail, the shape is said to be\n",
    "<span style=color:orange><b><u>Right Skewed</u></b></span> or also called <span style=color:orange><b><u>Skewed to the Positive End</u></b></span>.   \n",
    "$%$   \n",
    "- Contrary, data with the <b>reverse</b> characteristic – <i>a long, thin tail to the left</i> – are said to be <span style=color:orange><b><u>Left Skewed</u></b></span>. We also say that such a distribution has a <span style=color:orange>long left tail</span>.   \n",
    "$%$   \n",
    "- Data that show roughly <b>equal</b> trailing off in both directions are called <span style=color:orange><b><u>Symmetric</u></b></span>."
   ]
  },
  {
   "cell_type": "code",
   "execution_count": 173,
   "id": "3d7f11c5",
   "metadata": {},
   "outputs": [
    {
     "data": {
      "text/plain": [
       "Text(0.5, 0, 'Genre by Film')"
      ]
     },
     "execution_count": 173,
     "metadata": {},
     "output_type": "execute_result"
    },
    {
     "data": {
      "image/png": "[encoded data removed]",
      "text/plain": [
       "<Figure size 432x288 with 1 Axes>"
      ]
     },
     "metadata": {},
     "output_type": "display_data"
    }
   ],
   "source": [
    "sns.distplot(movies.groupby([\"Genres\"]).count())\n",
    "plt.title('')\n",
    "plt.ylabel('Frequency')\n",
    "plt.xlabel('Genre by Film')\n",
    "\n",
    "    \n"
   ]
  },
  {
   "cell_type": "markdown",
   "id": "1f230ed7",
   "metadata": {},
   "source": [
    "<div class=\"alert alert-warning alert-warning\"><b><u>Long tails to identify skew</u></b>\n",
    "\n",
    "When data trail off in one direction, the distribution has a <b>long tail</b>. If a distribution has a long left tail, it is <b>Left Skewed</b>. If a distribution has a long right tail, it is <b>Right Skewed</b>.\n",
    "</div>"
   ]
  },
  {
   "cell_type": "markdown",
   "id": "7a4bf600",
   "metadata": {},
   "source": [
    "### <span style=color:darkred>Modal Distribution</span>"
   ]
  },
  {
   "cell_type": "markdown",
   "id": "ee5caf32",
   "metadata": {},
   "source": [
    "In addition to looking at whether a distribution is <span style=color:orange>Skewed</span> or <span style=color:orange>Symmetric</span>, histograms can be used to identify <span style=color:orange><b>Modes</b></span>.   \n",
    "$%$   \n",
    "A <span style=color:orange><b>mode</b></span> is the <span style=color:orange><i>value with the <b>most occurrences</b></i></span>.   \n",
    "$%$   \n",
    "However, It is common to have <span style=color:red><b>no</b> observations</span> with the same value in a dataset, which makes, <span style=color:orange><b>mode</b></span>, <span style=color:red>useless</span> for many real datasets.\n",
    "\n",
    "A <span style=color:orange><b>mode</b></span> is represented by a prominent peak in the <span style=color:orange>distribution</span>. There is only one prominent peak in the histogram of <b>num_char</b>."
   ]
  },
  {
   "cell_type": "markdown",
   "id": "54032bc2",
   "metadata": {},
   "source": [
    "<span style=color:orange>Histogram</span> that have one, two, or three prominent peaks are called <span style=color:orange><b><u>Unimodal,$\\:$ Bimodal,$\\:$ and $\\:$ Multimodal,</u></b></span> respectively. \n",
    "\n",
    "Any <span style=color:orange>distribution</span> with more than 2 prominent peaks is called <span style=color:orange>Multimodal</span>. \n",
    "\n",
    "Notice that there was <b>one prominent peak</b> in the <span style=color:orange>Unimodal</span> distribution with a <b>second less prominent peak</b> that was <b><u>not counted</u></b> since it only differs from its neighboring <span style=color:orange><b>bins</b></span> by a few <span "
   ]
  },
  {
   "cell_type": "markdown",
   "id": "6afca467",
   "metadata": {
    "run_control": {
     "marked": true
    }
   },
   "source": [
    "![Images](Images/SP03.T02/Distribution_Small.png)"
   ]
  },
  {
   "cell_type": "markdown",
   "id": "31fafd3d",
   "metadata": {},
   "source": [
    "<div class=\"alert alert-warning alert-warning\"><b><u>Looking for modes</u></b>\n",
    "\n",
    "Looking for <b>modes</b> isn’t about finding a clear and correct answer about the number of <b>modes</b> in a <b>distribution</b>. \n",
    "\n",
    "The important part of this examination is to better understand your data and how it might be structured.</div>"
   ]
  },
  {
   "cell_type": "markdown",
   "id": "2a351c19",
   "metadata": {},
   "source": [
    "# <span style=color:darkorange>SUMMARY STATISTICS</span>"
   ]
  },
  {
   "cell_type": "markdown",
   "id": "1adab8ea",
   "metadata": {},
   "source": [
    "## <span style=color:darkgreen>Mean - Average</span>"
   ]
  },
  {
   "cell_type": "markdown",
   "id": "0774c5b8",
   "metadata": {},
   "source": [
    "The <span style=color:orange><b>mean</b></span>, sometimes called the <span style=color:orange><b>average</b></span>, is a common way to measure the <span style=color:orange><b>center of a distribution of data</b></span>. \n",
    "\n",
    "To find the <span style=color:orange><b>mean</b></span> <span style=color:orange>number of characters <b>(num_char)</b></span> in the <b>50</b> emails, we <b>add up</b> all the character counts and <b>divide</b> by the number of emails. \n",
    "\n",
    "For <b>computational convenience</b>, the number of characters is listed in the <b>thousands</b> and <b>rounded</b> to the first decimal."
   ]
  },
  {
   "cell_type": "markdown",
   "id": "3a0de3ac",
   "metadata": {},
   "source": [
    "\\begin{align*}\\bar{x}\\:=\\:\\frac{65+25\\:+\\:...\\:+\\:1}{301}\\:=\\: 12.9\\end{align*}"
   ]
  },
  {
   "cell_type": "code",
   "execution_count": 175,
   "id": "d370c54e",
   "metadata": {
    "run_control": {
     "marked": true
    }
   },
   "outputs": [
    {
     "name": "stdout",
     "output_type": "stream",
     "text": [
      "TitleYear    12.9\n",
      "dtype: float64\n"
     ]
    }
   ],
   "source": [
    "x = round(moviesG.mean(),3)\n",
    "print (x)"
   ]
  },
  {
   "cell_type": "markdown",
   "id": "8d9d4f25",
   "metadata": {},
   "source": [
    "The <span style=color:orange><b>sample mean</b></span> is often labeled <span style=color:orange><b>$\\bar{x}$</b></span>. The tip <span style=color:orange><b>$x$</b></span> is being used as a <b>generic placeholder</b> for the variable of interest, $tip$, and the <b><i>bar over on the x</i></b> communicates that the <b>average</b> number of tips in the <b>245</b> bills is <b>3,0</b>. "
   ]
  },
  {
   "cell_type": "markdown",
   "id": "78bc93b8",
   "metadata": {},
   "source": [
    "<div class=\"alert alert-warning alert-warning\"><b><u>Mean</u></b>\n",
    "\n",
    "The <b><u>sample mean</u></b> <span style=color:orange><b>$\\bar{x}$</b></span> of a <em>numerical variable</em> is computed as the <b>sum</b> of all of the <em>observations</em> <b>divided</b> by the number of <em>observations</em>:   \n",
    "$%$   \n",
    "\\begin{align*}\\bar{x}\\:=\\:\\frac{x_1\\:+\\:x_2\\:+\\:· · ·\\:+\\:x_n}{n}\\end{align*}   \n",
    "$%$   \n",
    "where <b>$x_1$, $x_2$, . . . ,$x_n$</b> represent the <b>$n$</b> observed values.   \n",
    "$%$   \n",
    "<span style=color:darkred>It is useful to think of the <b>mean</b> as the <u>balancing point</u> of the <b>distribution</b>.</span>\n",
    "</div>"
   ]
  },
  {
   "cell_type": "markdown",
   "id": "67b899c8",
   "metadata": {},
   "source": [
    "<span style=color:red><b><u>EXERCISE - 3.1</u></b></span> \n",
    "\n",
    "Compare both Equations above. \n",
    "\n",
    "* What does $x_1$ correspond to ?,   \n",
    "* and **$x_2$** ?   \n",
    "* Can you infer a general meaning to what $x_i$ might represent?\n",
    "* What was $n$ in this sample of tips?"
   ]
  },
  {
   "cell_type": "markdown",
   "id": "458270ec",
   "metadata": {},
   "source": [
    "<span style=color:green><b><u>SOLUTION - 3.1</u></b></span> \n",
    "\n",
    "\n",
    "* $x_1$ corresponds to the quantity of tip in the first bill in the sample (65), \n",
    "* $x_2$ to the quanity fo tip in the second bill (25), and \n",
    "* $x_i$ corresponds to the number of tips in the $i^{th}$ bill in the dataset.\n",
    "* The sample size was $n$ = <b>301</b>."
   ]
  },
  {
   "cell_type": "markdown",
   "id": "b63446f7",
   "metadata": {},
   "source": [
    "<div class=\"alert alert-warning alert-warning\"><b><u>Population Mean</u></b>\n",
    "\n",
    "The <span style=color:orange><b><u>Population mean</u></b></span> has a special label :  <span style=color:orange>$\\mu$</span>. The symbol <span style=color:orange>$\\mu$</span> is the $Greek$ letter <span style=color:orange>$mu$</span> and represents the <span style=color:orange>average/mean of all observations in the <b>Population</b></span>.   \n",
    "$%$   \n",
    "Sometimes a subscript, such as <span style=color:orange><b>$_x$</b></span>, is used to represent which variable the <span style=color:orange><b>population mean</b></span> refers to, e.g. <span style=color:orange><b>$\\mu_x$</b></span>\n",
    "</div>"
   ]
  },
  {
   "cell_type": "markdown",
   "id": "96b8fc44",
   "metadata": {},
   "source": [
    "<span style=color:red><b><u>EXERCISE - 3.2</u></b></span>\n",
    "\n",
    "The <span style=color:orange>average</span> number of tips across all bills (<span style=color:orange><b>population</b></span>) can be estimated using the <span style=color:orange><b>sample data</b></span>.   \n",
    "\n",
    "Based on the <span style=color:orange>sample</span> of <b>301</b> $Genres$, what would be a reasonable estimate of <span style=color:orange><b>$\\mu_x$</b></span>, the <span style=color:orange><b>mean</b></span> quantity of movies in all Generes in the movies dataset? (Recall that $ 301 Genre$ is a sample from $group of movies$.)"
   ]
  },
  {
   "cell_type": "markdown",
   "id": "034d9bf9",
   "metadata": {},
   "source": [
    "<span style=color:green><b><u>SOLUTION - 3.2</u></b></span>\n",
    "\n",
    "\n",
    "The <span style=color:orange>sample mean</span>, <b>12.9</b>, may provide a reasonable estimate of <span style=color:orange>$\\mu_x$</span>.   \n",
    "\n",
    "While this number will not be perfect, it provides a <span style=color:orange><em><b>point estimate</b></em></span> of the <span style=color:orange>population mean</span>."
   ]
  },
  {
   "cell_type": "markdown",
   "id": "4ecc49ec",
   "metadata": {},
   "source": [
    "## <span style=color:darkgreen>Variance and Standard Deviation</span>"
   ]
  },
  {
   "cell_type": "code",
   "execution_count": 161,
   "id": "2016a1fc",
   "metadata": {},
   "outputs": [
    {
     "data": {
      "text/plain": [
       "TitleYear   -47.376723\n",
       "dtype: float64"
      ]
     },
     "execution_count": 161,
     "metadata": {},
     "output_type": "execute_result"
    }
   ],
   "source": [
    "moviesG.mean()- moviesG.std()"
   ]
  },
  {
   "cell_type": "markdown",
   "id": "443131a3",
   "metadata": {},
   "source": [
    "### <span style=color:darkred>Variance</span>"
   ]
  },
  {
   "cell_type": "markdown",
   "id": "ef596810",
   "metadata": {},
   "source": [
    "The <span style=color:orange><b>mean</b></span> was introduced as a method to describe the <span style=color:orange>center of a data set</span>, but the <span style=color:orange><b><u>variability in the data</u></b></span> is also <b>important</b>.   \n",
    "\n",
    "We introduce <span style=color:orange><b><u>two measures of variability</u></b></span>: the <span style=color:orange><b><u>Variance</u></b></span> and the <span style=color:orange><b><u>Standard Deviation</u></b></span>. Both are very useful in data analysis.   \n",
    "\n",
    "The <span style=color:orange><b>Standard Deviation</b></span> describes <b>how far away</b> the typical <b>observation</b> is from the <span style=color:orange>mean</span>."
   ]
  },
  {
   "cell_type": "markdown",
   "id": "0cf6e66f",
   "metadata": {},
   "source": [
    "We call the <span style=color:orange><em>distance of an observation from its mean</em></span> its <span style=color:orange><b><u>Deviation</u></b></span>. \n",
    "\n",
    "Below are the <b>deviations</b> for the 1st, 2nd, 3rd, and 301th observations in the <b>tip</b> variable. For computational convenience, the number of tips is listed in the thousands and rounded to the first decimal."
   ]
  },
  {
   "cell_type": "code",
   "execution_count": 29,
   "id": "4168bc50",
   "metadata": {},
   "outputs": [
    {
     "data": {
      "text/plain": [
       "1    1.66\n",
       "Name: tip, dtype: float64"
      ]
     },
     "execution_count": 29,
     "metadata": {},
     "output_type": "execute_result"
    }
   ],
   "source": [
    "tips.tip.iloc[[1], ]"
   ]
  },
  {
   "cell_type": "markdown",
   "id": "10bca087",
   "metadata": {},
   "source": [
    "\\begin{align*}x_1\\:−\\:\\bar{x} =65.0 − 12.9 = 63.12\\end{align*}\n",
    "\\begin{align*}x_2\\:−\\:\\bar{x} =\\hspace{2.5mm}25.0 − 12.9 = 12.1\\end{align*}\n",
    "\\begin{align*}x_3\\:−\\:\\bar{x} =\\hspace{2.5mm}1.0 − 12.9 = -11.9\\end{align*}\n",
    "\\begin{align*}.\\end{align*}\n",
    "\\begin{align*}.\\end{align*}\n",
    "\\begin{align*}.\\end{align*}\n",
    "\\begin{align*}x_{301} − \\bar{x} = 33.0 − 12.9 = 20.01\\end{align*}"
   ]
  },
  {
   "cell_type": "markdown",
   "id": "ca5c6865",
   "metadata": {},
   "source": [
    "If we **square** these <span style=color:orange><b>deviation</b></span> and then take an **average**, the result is about equal to the <span style=color:orange><b>sample variance</b></span>, denoted by <span style=color:orange><b>$s^2$</b></span>:"
   ]
  },
  {
   "cell_type": "code",
   "execution_count": 177,
   "id": "af8947ab",
   "metadata": {},
   "outputs": [
    {
     "data": {
      "text/plain": [
       "TitleYear    3633.323367\n",
       "dtype: float64"
      ]
     },
     "execution_count": 177,
     "metadata": {},
     "output_type": "execute_result"
    }
   ],
   "source": [
    "moviesG.var()"
   ]
  },
  {
   "cell_type": "markdown",
   "id": "94c71ca6",
   "metadata": {},
   "source": [
    "\\begin{align*}s^2\\:=\\:\\frac{63.12^2 + 12.1^2 + (-11.9)^2 + · · · + 20.01^2}{301 − 1} = 3633.23\\end{align*}"
   ]
  },
  {
   "cell_type": "markdown",
   "id": "efce3e3d",
   "metadata": {},
   "source": [
    "<div class=\"alert alert-warning alert-warning\"><b><u>Sample Variance $s^2$</u></b>   \n",
    "\n",
    "We divide by $n\\:−\\:1$, rather than dividing by $n$, when computing the <span style=color:orange><b>Variance</b></span>.   \n",
    "$%$   \n",
    "<span style=color:orange>squaring the deviations</span> does two things: \n",
    "\n",
    "- First, it <span style=color:orange>makes large values much larger</span>, seen by comparing $(63.12)^2$, $(12.1)^2$, $(-11.9)^2$, and $(20.01)^2$. \n",
    "- Second, it <span style=color:orange>gets rid of any negative signs</span>.   \n",
    "$%$   \n",
    "The <b>variance</b> is roughly the <span style=color:orange>average squared distance</span> from the <b>mean</b>.\n",
    "</div>"
   ]
  },
  {
   "cell_type": "markdown",
   "id": "b04b0b30",
   "metadata": {},
   "source": [
    "### <span style=color:darkred>Standard Deviation</span>"
   ]
  },
  {
   "cell_type": "markdown",
   "id": "3505c8c3",
   "metadata": {},
   "source": [
    "<div class=\"alert alert-warning alert-warning\"><b><u>Standard Deviation</u></b>   \n",
    "\n",
    "The <b>Standard Deviation</b> is defined as the <b>square root</b> of the <span style=color:blue><b>Variance</b></span> :   \n",
    "$%$   \n",
    "\\begin{align*}s = \\sqrt{3633.23} = 60.277\\end{align*}   \n",
    "$%$   \n",
    "The <b>Standard Deviation</b> is useful when considering how close the data are to the <b>Mean</b>.   \n",
    "$%$   \n",
    "Formulas and methods used to compute the <b>Variance</b> and <b>Standard Deviation</b> for a <b>Population</b> are similar to those used for a <b>sample</b><i> (The only difference is that the <b>Population Variance</b> has a division by $n$ instead of $n - 1$ )</i>.   \n",
    "$%$   \n",
    "However, like the <b>Mean</b>, the <b>Population</b> values have special symbols : \n",
    "- $\\sigma^2$ for the <b>Variance</b> and \n",
    "- $\\sigma$ for the <b>Standard Deviation</b>. \n",
    "\n",
    "The symbol $\\sigma$ is the $Greek$ letter $sigma$.\n",
    "</div>"
   ]
  },
  {
   "cell_type": "code",
   "execution_count": 179,
   "id": "2352c4e4",
   "metadata": {},
   "outputs": [
    {
     "data": {
      "text/plain": [
       "TitleYear    60.277\n",
       "dtype: float64"
      ]
     },
     "execution_count": 179,
     "metadata": {},
     "output_type": "execute_result"
    }
   ],
   "source": [
    "round(moviesG.std(),3)"
   ]
  },
  {
   "cell_type": "markdown",
   "id": "67691804",
   "metadata": {},
   "source": [
    "<span style=color:orange>Standard Deviation</span> describes <span style=color:orange>Variability</span>, so focus on the conceptual meaning of the <span style=color:orange>Standard Deviation</span> as a descriptor of <span style=color:orange>Variability</span> rather than the formulas. \n",
    "\n",
    "Usually <b>70%</b> of the data will be within <span style=color:orange>one standard deviation of the mean</span> and about <b>95%</b> will be within <span style=color:orange>two standard deviations</span> two standard deviations. However, these <b>percentages are not strict rules</b>."
   ]
  },
  {
   "cell_type": "markdown",
   "id": "e337d94d",
   "metadata": {},
   "source": [
    "<span style=color:red><b><u>EXERCISE - 3.6</u></b></span> \n",
    "\n",
    "A good <span style=color:orange>description of the shape of a distribution</span> should include <span style=color:orange>modality</span> and whether the <span style=color:orange>distribution</span> is <span style=color:orange>symmetric or skewed</span> to one side. \n",
    "\n",
    "Explore the figure as an example, explain why such a description is important :\n",
    "\n",
    "![Images](Images/SP03.T02/Std.png)"
   ]
  },
  {
   "cell_type": "markdown",
   "id": "fdb148e6",
   "metadata": {},
   "source": [
    "<span style=color:green><b><u>SOLUTION - 3.6</u></b></span> \n",
    "\n",
    "Figure shows three distributions that look quite different, but all have the same <b>Mean, Variance</b>, and <b>Standard Deviation</b>. \n",
    "\n",
    "Using <b>Modality</b>, we can distinguish between the first plot (<b>bimodal</b>) and the last two (<b>unimodal</b>). \n",
    "\n",
    "Using <b>Skewness</b>, we can distinguish between the last plot (<b>right skewed</b>) and the first two. \n",
    "\n",
    "While a picture, like a <b>histogram</b>, tells a more <b>complete</b> story, we can use <b>Modality</b> and shape (<b>Symmetry/Skew</b>) to characterize basic information about a <b>distribution</b>."
   ]
  },
  {
   "cell_type": "code",
   "execution_count": 180,
   "id": "681e810e",
   "metadata": {},
   "outputs": [
    {
     "data": {
      "text/plain": [
       "Text(0.5, 0, 'Genre by Film')"
      ]
     },
     "execution_count": 180,
     "metadata": {},
     "output_type": "execute_result"
    },
    {
     "data": {
      "image/png": "[encoded data removed]",
      "text/plain": [
       "<Figure size 432x288 with 1 Axes>"
      ]
     },
     "metadata": {},
     "output_type": "display_data"
    }
   ],
   "source": [
    "sns.distplot(movies.groupby([\"Genres\"]).count())\n",
    "plt.title('')\n",
    "plt.ylabel('Frequency')\n",
    "plt.xlabel('Genre by Film')\n",
    "\n",
    "    "
   ]
  },
  {
   "cell_type": "markdown",
   "id": "ba31932e",
   "metadata": {},
   "source": [
    "<span style=color:red><b><u>EXERCISE - 3.7</u></b></span> \n",
    "\n",
    "Describe the <b>distribution</b> of the <b>tip</b> variable using the histogram display above. \n",
    "\n",
    "The description should incorporate the center, variability, and shape of the distribution, and it should also be placed in context: the <b>quantity of tip</b> in one bill. Also note any especially <b>unusual cases</b>."
   ]
  },
  {
   "cell_type": "markdown",
   "id": "6c92ef1c",
   "metadata": {},
   "source": [
    "<span style=color:green><b><u>SOLUTION - 3.7</u></b></span> \n",
    "\n",
    "The distribution of movies counts is <b>unimodal</b>.The most movies genres left in the 301 types of Genres analyzed are between 1 and 25. The histogram also indicates that there is no one who has not left a tip. We also observe that there is a very large number of movie genres in which only 1 or 2 have been made. A very large number of Western genre films have been produced (843)."
   ]
  },
  {
   "cell_type": "code",
   "execution_count": 182,
   "id": "6c267bc6",
   "metadata": {},
   "outputs": [
    {
     "data": {
      "text/plain": [
       "TitleYear    60.28\n",
       "dtype: float64"
      ]
     },
     "execution_count": 182,
     "metadata": {},
     "output_type": "execute_result"
    }
   ],
   "source": [
    "round(moviesG.std(),2)"
   ]
  },
  {
   "cell_type": "markdown",
   "id": "d52a7ca3",
   "metadata": {},
   "source": [
    "We will use the <span style=color:orange><b>Variance</b></span> and <span style=color:orange><b>Standard Deviation</b></span> to <b>assess how close</b> the <span style=color:orange>Sample Mean ($\\bar{x}$)</span> is to the <span style=color:orange>Population Mean ($\\mu$)</span>."
   ]
  },
  {
   "cell_type": "markdown",
   "id": "4dcc3fd2",
   "metadata": {},
   "source": [
    "## <span style=color:darkgreen>BOX PLOTS</span>"
   ]
  },
  {
   "cell_type": "markdown",
   "id": "507978d0",
   "metadata": {},
   "source": [
    "A <span style=color:orange>Box Plot</span> summarizes a dataset using <span style=color:orange><b><i>five statistics</i></b></span> while also plotting <span style=color:orange>unusual observations - <b>Anomalies or Outliers</b></span>."
   ]
  },
  {
   "cell_type": "markdown",
   "id": "0671443e",
   "metadata": {},
   "source": [
    "### <span style=color:darkred>Quartiles, and the Median</span>"
   ]
  },
  {
   "cell_type": "code",
   "execution_count": 183,
   "id": "8bff65a2",
   "metadata": {},
   "outputs": [
    {
     "data": {
      "text/plain": [
       "(301, 1)"
      ]
     },
     "execution_count": 183,
     "metadata": {},
     "output_type": "execute_result"
    }
   ],
   "source": [
    "moviesG.shape"
   ]
  },
  {
   "cell_type": "code",
   "execution_count": 184,
   "id": "e6e072ce",
   "metadata": {},
   "outputs": [
    {
     "data": {
      "text/html": [
       "<div>\n",
       "<style scoped>\n",
       "    .dataframe tbody tr th:only-of-type {\n",
       "        vertical-align: middle;\n",
       "    }\n",
       "\n",
       "    .dataframe tbody tr th {\n",
       "        vertical-align: top;\n",
       "    }\n",
       "\n",
       "    .dataframe thead th {\n",
       "        text-align: right;\n",
       "    }\n",
       "</style>\n",
       "<table border=\"1\" class=\"dataframe\">\n",
       "  <thead>\n",
       "    <tr style=\"text-align: right;\">\n",
       "      <th></th>\n",
       "      <th>TitleYear</th>\n",
       "    </tr>\n",
       "  </thead>\n",
       "  <tbody>\n",
       "    <tr>\n",
       "      <th>count</th>\n",
       "      <td>301.000000</td>\n",
       "    </tr>\n",
       "    <tr>\n",
       "      <th>mean</th>\n",
       "      <td>12.900332</td>\n",
       "    </tr>\n",
       "    <tr>\n",
       "      <th>std</th>\n",
       "      <td>60.277055</td>\n",
       "    </tr>\n",
       "    <tr>\n",
       "      <th>min</th>\n",
       "      <td>1.000000</td>\n",
       "    </tr>\n",
       "    <tr>\n",
       "      <th>25%</th>\n",
       "      <td>1.000000</td>\n",
       "    </tr>\n",
       "    <tr>\n",
       "      <th>50%</th>\n",
       "      <td>2.000000</td>\n",
       "    </tr>\n",
       "    <tr>\n",
       "      <th>75%</th>\n",
       "      <td>5.000000</td>\n",
       "    </tr>\n",
       "    <tr>\n",
       "      <th>max</th>\n",
       "      <td>843.000000</td>\n",
       "    </tr>\n",
       "  </tbody>\n",
       "</table>\n",
       "</div>"
      ],
      "text/plain": [
       "        TitleYear\n",
       "count  301.000000\n",
       "mean    12.900332\n",
       "std     60.277055\n",
       "min      1.000000\n",
       "25%      1.000000\n",
       "50%      2.000000\n",
       "75%      5.000000\n",
       "max    843.000000"
      ]
     },
     "execution_count": 184,
     "metadata": {},
     "output_type": "execute_result"
    }
   ],
   "source": [
    "moviesG.describe()"
   ]
  },
  {
   "cell_type": "code",
   "execution_count": 187,
   "id": "d116e7ae",
   "metadata": {},
   "outputs": [
    {
     "data": {
      "text/plain": [
       "'Western'"
      ]
     },
     "execution_count": 187,
     "metadata": {},
     "output_type": "execute_result"
    }
   ],
   "source": [
    "moviesG.index.max()"
   ]
  },
  {
   "cell_type": "code",
   "execution_count": 189,
   "id": "402aaeda",
   "metadata": {},
   "outputs": [
    {
     "data": {
      "text/html": [
       "<div>\n",
       "<style scoped>\n",
       "    .dataframe tbody tr th:only-of-type {\n",
       "        vertical-align: middle;\n",
       "    }\n",
       "\n",
       "    .dataframe tbody tr th {\n",
       "        vertical-align: top;\n",
       "    }\n",
       "\n",
       "    .dataframe thead th {\n",
       "        text-align: right;\n",
       "    }\n",
       "</style>\n",
       "<table border=\"1\" class=\"dataframe\">\n",
       "  <thead>\n",
       "    <tr style=\"text-align: right;\">\n",
       "      <th></th>\n",
       "      <th>TitleYear</th>\n",
       "      <th>Genres</th>\n",
       "    </tr>\n",
       "  </thead>\n",
       "  <tbody>\n",
       "    <tr>\n",
       "      <th>count</th>\n",
       "      <td>3883</td>\n",
       "      <td>3883</td>\n",
       "    </tr>\n",
       "    <tr>\n",
       "      <th>unique</th>\n",
       "      <td>3883</td>\n",
       "      <td>301</td>\n",
       "    </tr>\n",
       "    <tr>\n",
       "      <th>top</th>\n",
       "      <td>Toy Story (1995)</td>\n",
       "      <td>Drama</td>\n",
       "    </tr>\n",
       "    <tr>\n",
       "      <th>freq</th>\n",
       "      <td>1</td>\n",
       "      <td>843</td>\n",
       "    </tr>\n",
       "  </tbody>\n",
       "</table>\n",
       "</div>"
      ],
      "text/plain": [
       "               TitleYear Genres\n",
       "count               3883   3883\n",
       "unique              3883    301\n",
       "top     Toy Story (1995)  Drama\n",
       "freq                   1    843"
      ]
     },
     "execution_count": 189,
     "metadata": {},
     "output_type": "execute_result"
    }
   ],
   "source": [
    "movies.describe()"
   ]
  },
  {
   "cell_type": "markdown",
   "id": "3ab62a64",
   "metadata": {},
   "source": [
    "The median (12,900), splits the data into the bottom 50% and the top 50%, marked in the dot plot by horizontal dashes and open circles, respectively."
   ]
  },
  {
   "cell_type": "markdown",
   "id": "f61eaa90",
   "metadata": {},
   "source": [
    "The first step in building a <span style=color:orange><b>box plot</b></span> is drawing a dark line denoting the <span style=color:orange><b>median</b></span>, which <b>splits</b> the data in half. <b>50%</b> of the data falling below the <span style=color:orange><b>median</b></span> and other <b>50%</b> falling above the <span style=color:orange><b>median</b></span>.\n",
    "\n",
    "There are $301$ Genres counts in the **dataset** (an odd number).\n",
    "\n",
    "When there are an odd number of observations, there will be exactly one observation that splits the data into two halves, and in such a case that observation is the <span style=color:orange><b>median</b></span> (no average needed)."
   ]
  },
  {
   "cell_type": "markdown",
   "id": "0e8b8ff4",
   "metadata": {},
   "source": [
    "<div class=\"alert alert-warning alert-warning\"><b><u>Median</u></b>\n",
    "\n",
    "If the data are <b>ordered from smallest to largest</b>, the <b>median</b> is the <b><u>observation</u></b> right in the <b>middle</b>.\n",
    "\n",
    "If there are an even number of observations, there will be two values in the middle, and the <b>median</b> is taken as their average.</div>"
   ]
  },
  {
   "cell_type": "markdown",
   "id": "02eaac07",
   "metadata": {},
   "source": [
    "The second step in building a box plot is drawing a rectangle to represent the middle $50%$ of the data. The total length of the box, is called the <span style=color:orange><b>interquartile range (IQR)</b></span>. It, like the <span style=color:orange><b>Standard Deviation</b></span>, is a measure of <b>Variability</b> in data. The <span style=color:red>more variable the data</span>, the larger the <span style=color:orange><b>Standard Deviation</b></span> and <span style=color:orange><b>IQR</b></span>.\n",
    "\n",
    "The <b>two boundaries</b> of the box are called the <span style=color:orange><b>first quartile</b></span> (the $25^{th}$ percentile),  i.e. $25%$ of the data fall below this value and the <span style=color:orange><b>third quartile</b></span> (the $75^{th}$ percentile), and these are often labeled $Q1$ and $Q3$, respectively."
   ]
  },
  {
   "cell_type": "markdown",
   "id": "091a827e",
   "metadata": {},
   "source": [
    "<div class=\"alert alert-warning alert-warning\"><b><u>Interquartile range (IQR)</u></b>\n",
    "\n",
    "The IQR is the length of the box in a box plot. It is computed as\n",
    "\n",
    "$$IQR = Q3 − Q1$$\n",
    "\n",
    "where $Q1$ and $Q3$ are the $25^{th}$ and $75^{th}$ percentiles.</div>"
   ]
  },
  {
   "cell_type": "markdown",
   "id": "1289ba9b",
   "metadata": {},
   "source": [
    "<span style=color:red><b><u>EXERCISE - 3.8</u></b></span> \n",
    "\n",
    "1. What percent of the data fall between Q1 and the median?\n",
    "2. What percent is between the median and Q3?"
   ]
  },
  {
   "cell_type": "markdown",
   "id": "3369a505",
   "metadata": {},
   "source": [
    "<span style=color:green><b><u>SOLUTION - 3.8</u></b></span> \n",
    "\n",
    "1. Since $Q1$ and $Q3$ capture the middle **50%** of the data and the <span style=color:orange>\n",
    "median</span> splits the data in the <span style=color:orange>middle</span>,\n",
    "2. **25%** of the data fall between $Q1$ and the <span style=color:orange>\n",
    "median</span>, and another **25%** falls between the <span style=color:orange>\n",
    "median</span> and $Q3$."
   ]
  },
  {
   "cell_type": "markdown",
   "id": "b4fe90ea",
   "metadata": {},
   "source": [
    "Extending out from the box, the <span style=color:orange>whiskers</span> attempt to capture the data outside of the box, however, their reach is never allowed to be more than <span style=color:orange><b>$1.5\\hspace{2mm}x\\hspace{2mm}IQR$</b></span>"
   ]
  },
  {
   "cell_type": "markdown",
   "id": "ef2da5ee",
   "metadata": {},
   "source": [
    "They capture everything within this reach. The <span style=color:orange><b><u>upper whisker</u></b></span> does not extend to the last three points, which is beyond $Q3\\hspace{2mm}+\\hspace{2mm}1.5\\hspace{2mm}x\\hspace{2mm}IQR$, and so it extends only to the last point below this limit. \n",
    "\n",
    "The <span style=color:orange><b><u>lower whisker</u></b></span> stops at the lowest value, **33**, since there is no additional data to reach; the <span style=color:orange><b><u>lower whisker’s limit</u></b></span> is not shown in the figure because the plot does not extend down to $Q1\\hspace{2mm}-\\hspace{2mm}1.5\\hspace{2mm}x\\hspace{2mm}IQR$. In a sense, the box is like the body of the box plot and the <span style=color:orange>whiskers</span> are like its arms trying to reach the rest of the data."
   ]
  },
  {
   "cell_type": "markdown",
   "id": "cff39ce7",
   "metadata": {},
   "source": [
    "<div class=\"alert alert-warning alert-warning\"><b><u>Outlier</u></b>\n",
    "\n",
    "An **outlier** is an *observation* that appears **extreme** relative to the rest of the **data**.   \n",
    "\n",
    "$%$\n",
    "\n",
    "<b><u>Why it is important to look for outliers</u></b>\n",
    "\n",
    "Examination of data for possible **outliers** serves many useful purposes, including :\n",
    "\n",
    "1. Identifying strong **skew** in the distribution.\n",
    "2. Identifying data collection or **entry errors**. For instance, we re-examined the \n",
    "    bill purported to have 10,00 € from tip to ensure this value was accurate.\n",
    "3. Providing **insight** into interesting **properties** of the **data**."
   ]
  },
  {
   "cell_type": "markdown",
   "id": "90190f63",
   "metadata": {},
   "source": [
    "<span style=color:red><b><u>EXERCISE - 3.9</u></b></span> \n",
    "\n",
    "estimate the following values for **tip** in the $tips$ dataset: \n",
    "\n",
    "a).- $Q1$,   \n",
    "b).- $Q3$, and    \n",
    "c).- $IQR$"
   ]
  },
  {
   "cell_type": "markdown",
   "id": "2391cb0f",
   "metadata": {},
   "source": [
    "<span style=color:green><b><u>SOLUTION - 3.9</u></b></span> \n",
    "\n",
    "These visual estimates will vary a little from one person to the next: Q1 = 1,000, Q3 = 5,000, IQR = Q3 - Q1 = 4,000. \n",
    "\n",
    "(The true values: Q1 = 1,000, Q3 = 5,000, IQR = 4,000.)"
   ]
  },
  {
   "cell_type": "code",
   "execution_count": null,
   "id": "cdaced04",
   "metadata": {},
   "outputs": [],
   "source": []
  }
 ],
 "metadata": {
  "hide_input": false,
  "kernelspec": {
   "display_name": "Python 3 (ipykernel)",
   "language": "python",
   "name": "python3"
  },
  "language_info": {
   "codemirror_mode": {
    "name": "ipython",
    "version": 3
   },
   "file_extension": ".py",
   "mimetype": "text/x-python",
   "name": "python",
   "nbconvert_exporter": "python",
   "pygments_lexer": "ipython3",
   "version": "3.9.7"
  },
  "nbTranslate": {
   "displayLangs": [
    "*"
   ],
   "hotkey": "alt-t",
   "langInMainMenu": true,
   "sourceLang": "en",
   "targetLang": "fr",
   "useGoogleTranslate": true
  },
  "toc": {
   "base_numbering": 1,
   "nav_menu": {},
   "number_sections": true,
   "sideBar": true,
   "skip_h1_title": false,
   "title_cell": "Table of Contents",
   "title_sidebar": "Contents",
   "toc_cell": false,
   "toc_position": {},
   "toc_section_display": true,
   "toc_window_display": false
  },
  "varInspector": {
   "cols": {
    "lenName": 16,
    "lenType": 16,
    "lenVar": 40
   },
   "kernels_config": {
    "python": {
     "delete_cmd_postfix": "",
     "delete_cmd_prefix": "del ",
     "library": "var_list.py",
     "varRefreshCmd": "print(var_dic_list())"
    },
    "r": {
     "delete_cmd_postfix": ") ",
     "delete_cmd_prefix": "rm(",
     "library": "var_list.r",
     "varRefreshCmd": "cat(var_dic_list()) "
    }
   },
   "types_to_exclude": [
    "module",
    "function",
    "builtin_function_or_method",
    "instance",
    "_Feature"
   ],
   "window_display": false
  }
 },
 "nbformat": 4,
 "nbformat_minor": 5
}
