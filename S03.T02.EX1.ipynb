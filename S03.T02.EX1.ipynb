{
 "cells": [
  {
   "cell_type": "markdown",
   "id": "fdb0a3ee",
   "metadata": {},
   "source": [
    "![Images](Images/ITAcademy.png)\n",
    "# DATA SCIENCE: S03.T02\n",
    "#### Created by: Dani Planas Montserrat\n"
   ]
  },
  {
   "cell_type": "markdown",
   "id": "210f2a02",
   "metadata": {},
   "source": [
    "# RELATIONSHIPS BETWEEN VARIABLES"
   ]
  },
  {
   "cell_type": "markdown",
   "id": "def4a48c",
   "metadata": {},
   "source": [
    "<span style=color:darkred><b><u>To answer research questions, data must be collected</u></b></span>. \n",
    "\n",
    "Analyses are motivated by <span style=color:orange><b><i>looking</i></b></span> for a <span style=color:orange><b><i>relationship between two or more variables</i></b></span>.\n",
    "\n",
    "Examining <span style=color:orange><b>summary statistics</b></span> could provide insights for each of the research questions about the study.   \n",
    "\n",
    "A <span style=color:orange><b>summary statistics</b></span> is a <b><i>single number summarizing a large amount of data</i></b>. In other words, a <span style=color:orange><b>summary statistics</b></span> is a <b>value</b> computed from the <b>data</b>."
   ]
  },
  {
   "cell_type": "markdown",
   "id": "4d06b313",
   "metadata": {},
   "source": [
    "# <span style=color:orange>EXAMINING NUMERICAL DATA</span>"
   ]
  },
  {
   "cell_type": "markdown",
   "id": "d9c226a3",
   "metadata": {},
   "source": [
    "We will be introduced to techniques for <span style=color:orange>exploring</span> and <span style=color:orange>summarizing numerical</span> variables, working with two datasets : '$tips$', '$county$' and '$cars$'."
   ]
  },
  {
   "cell_type": "markdown",
   "id": "67fff11a",
   "metadata": {},
   "source": [
    "## <span style=color:orange>EXPLORING BIVARIATE VARIABLES WITH SCATTERPLOTS</span>"
   ]
  },
  {
   "cell_type": "markdown",
   "id": "bd4314b8",
   "metadata": {},
   "source": [
    "A <span style=color:orange>Scatterplot</span> provides a case-by-case view of data for <span style=color:orange>two <b>(bivariate)</b> numerical variables</span>. "
   ]
  },
  {
   "cell_type": "markdown",
   "id": "30fe75de",
   "metadata": {},
   "source": [
    "<span style=color:orange>Scatterplots</span> are helpful in quickly <span style=color:orange><b>spotting associations relating variables</b></span>, whether those associations come in the form of <b>simple trends</b> or whether those relationships are more <b>complex</b>."
   ]
  },
  {
   "cell_type": "code",
   "execution_count": 79,
   "id": "beb6ddc4",
   "metadata": {
    "code_folding": [
     0
    ],
    "run_control": {
     "marked": true
    },
    "scrolled": false
   },
   "outputs": [],
   "source": [
    "##########################################################################\n",
    "##           DATA SCIENCE: S03.T02: Nivell 1 Exercici 1                 ##\n",
    "##########################################################################\n",
    "# Exercici 1: Realitza la pràctica del notebook a GitHub \"03 EXAMINING DATA\"\n",
    "# amb seaborn i el dataset \"tips\".\n",
    "\n",
    "# importing libraries\n",
    "import numpy as np\n",
    "import pandas as pd\n",
    "import matplotlib.pyplot as plt\n",
    "import seaborn as sns\n",
    "import warnings\n",
    "\n",
    "warnings.filterwarnings('ignore')\n",
    "\n",
    "\n"
   ]
  },
  {
   "cell_type": "code",
   "execution_count": 80,
   "id": "638e8ab1",
   "metadata": {
    "code_folding": [
     5,
     9,
     29,
     49,
     66,
     83,
     101,
     155,
     188,
     204,
     220
    ],
    "run_control": {
     "marked": true
    }
   },
   "outputs": [],
   "source": [
    "#************************************************************************************\n",
    "#******************************      PLOT Functions     *****************************\n",
    "#************************************************************************************\n",
    "\n",
    "#Function plot, with Seaborn Library and type ScatterPlot\n",
    "def plotSnsScatterplot(df, paramNum1, paramNum2, title, ylabel, xlabel):\n",
    "\n",
    "    g = sns.FacetGrid(df)\n",
    "    g.map(sns.scatterplot, paramNum1, paramNum2, alpha=.7)\n",
    "    g.add_legend()\n",
    "\n",
    "    plt.title(title)\n",
    "    plt.ylabel(ylabel)\n",
    "    plt.xlabel(xlabel)\n",
    "    \n",
    "    # Show graphic\n",
    "    fig = plt.gcf()\n",
    "    plt.show()\n",
    "\n",
    "    return fig\n",
    "\n",
    "def plotSnsLineplot(df, paramNum1, paramNum2, title, ylabel, xlabel):\n",
    "\n",
    "    g = sns.FacetGrid(df)\n",
    "    g.map(sns.lineplot, paramNum1, paramNum2, alpha=.7)\n",
    "    g.add_legend()\n",
    "    \n",
    "    plt.title(title)\n",
    "    plt.ylabel(ylabel)\n",
    "    plt.xlabel(xlabel)\n",
    "    \n",
    "    # Show graphic\n",
    "    fig = plt.gcf()\n",
    "    #plt.show()\n",
    "\n",
    "    return fig\n",
    "\n",
    "def plotSnsHistplot(df, paramNum1, paramNum2, title, ylabel, xlabel, binsNum):\n",
    "  \n",
    "    sns.histplot(data=df, x=paramNum1, bins=binsNum, kde=True)\n",
    "    #g.add_legend()\n",
    "    \n",
    "    plt.title(title)\n",
    "    plt.ylabel(ylabel)\n",
    "    plt.xlabel(xlabel)\n",
    "    \n",
    "    # Show graphic\n",
    "    #fig = plt.gcf()\n",
    "    #plt.show()\n",
    "\n",
    "    return fig"
   ]
  },
  {
   "cell_type": "code",
   "execution_count": 81,
   "id": "f4ef513b",
   "metadata": {
    "code_folding": [],
    "run_control": {
     "marked": true
    }
   },
   "outputs": [
    {
     "name": "stdout",
     "output_type": "stream",
     "text": [
      "Taula de dades TIPS: \n"
     ]
    },
    {
     "data": {
      "text/html": [
       "<div>\n",
       "<style scoped>\n",
       "    .dataframe tbody tr th:only-of-type {\n",
       "        vertical-align: middle;\n",
       "    }\n",
       "\n",
       "    .dataframe tbody tr th {\n",
       "        vertical-align: top;\n",
       "    }\n",
       "\n",
       "    .dataframe thead th {\n",
       "        text-align: right;\n",
       "    }\n",
       "</style>\n",
       "<table border=\"1\" class=\"dataframe\">\n",
       "  <thead>\n",
       "    <tr style=\"text-align: right;\">\n",
       "      <th></th>\n",
       "      <th>total_bill</th>\n",
       "      <th>tip</th>\n",
       "      <th>sex</th>\n",
       "      <th>smoker</th>\n",
       "      <th>day</th>\n",
       "      <th>time</th>\n",
       "      <th>size</th>\n",
       "    </tr>\n",
       "  </thead>\n",
       "  <tbody>\n",
       "    <tr>\n",
       "      <th>0</th>\n",
       "      <td>16.99</td>\n",
       "      <td>1.01</td>\n",
       "      <td>Female</td>\n",
       "      <td>No</td>\n",
       "      <td>Sun</td>\n",
       "      <td>Dinner</td>\n",
       "      <td>2</td>\n",
       "    </tr>\n",
       "    <tr>\n",
       "      <th>1</th>\n",
       "      <td>10.34</td>\n",
       "      <td>1.66</td>\n",
       "      <td>Male</td>\n",
       "      <td>No</td>\n",
       "      <td>Sun</td>\n",
       "      <td>Dinner</td>\n",
       "      <td>3</td>\n",
       "    </tr>\n",
       "    <tr>\n",
       "      <th>2</th>\n",
       "      <td>21.01</td>\n",
       "      <td>3.50</td>\n",
       "      <td>Male</td>\n",
       "      <td>No</td>\n",
       "      <td>Sun</td>\n",
       "      <td>Dinner</td>\n",
       "      <td>3</td>\n",
       "    </tr>\n",
       "    <tr>\n",
       "      <th>3</th>\n",
       "      <td>23.68</td>\n",
       "      <td>3.31</td>\n",
       "      <td>Male</td>\n",
       "      <td>No</td>\n",
       "      <td>Sun</td>\n",
       "      <td>Dinner</td>\n",
       "      <td>2</td>\n",
       "    </tr>\n",
       "    <tr>\n",
       "      <th>4</th>\n",
       "      <td>24.59</td>\n",
       "      <td>3.61</td>\n",
       "      <td>Female</td>\n",
       "      <td>No</td>\n",
       "      <td>Sun</td>\n",
       "      <td>Dinner</td>\n",
       "      <td>4</td>\n",
       "    </tr>\n",
       "    <tr>\n",
       "      <th>...</th>\n",
       "      <td>...</td>\n",
       "      <td>...</td>\n",
       "      <td>...</td>\n",
       "      <td>...</td>\n",
       "      <td>...</td>\n",
       "      <td>...</td>\n",
       "      <td>...</td>\n",
       "    </tr>\n",
       "    <tr>\n",
       "      <th>239</th>\n",
       "      <td>29.03</td>\n",
       "      <td>5.92</td>\n",
       "      <td>Male</td>\n",
       "      <td>No</td>\n",
       "      <td>Sat</td>\n",
       "      <td>Dinner</td>\n",
       "      <td>3</td>\n",
       "    </tr>\n",
       "    <tr>\n",
       "      <th>240</th>\n",
       "      <td>27.18</td>\n",
       "      <td>2.00</td>\n",
       "      <td>Female</td>\n",
       "      <td>Yes</td>\n",
       "      <td>Sat</td>\n",
       "      <td>Dinner</td>\n",
       "      <td>2</td>\n",
       "    </tr>\n",
       "    <tr>\n",
       "      <th>241</th>\n",
       "      <td>22.67</td>\n",
       "      <td>2.00</td>\n",
       "      <td>Male</td>\n",
       "      <td>Yes</td>\n",
       "      <td>Sat</td>\n",
       "      <td>Dinner</td>\n",
       "      <td>2</td>\n",
       "    </tr>\n",
       "    <tr>\n",
       "      <th>242</th>\n",
       "      <td>17.82</td>\n",
       "      <td>1.75</td>\n",
       "      <td>Male</td>\n",
       "      <td>No</td>\n",
       "      <td>Sat</td>\n",
       "      <td>Dinner</td>\n",
       "      <td>2</td>\n",
       "    </tr>\n",
       "    <tr>\n",
       "      <th>243</th>\n",
       "      <td>18.78</td>\n",
       "      <td>3.00</td>\n",
       "      <td>Female</td>\n",
       "      <td>No</td>\n",
       "      <td>Thur</td>\n",
       "      <td>Dinner</td>\n",
       "      <td>2</td>\n",
       "    </tr>\n",
       "  </tbody>\n",
       "</table>\n",
       "<p>244 rows × 7 columns</p>\n",
       "</div>"
      ],
      "text/plain": [
       "     total_bill   tip     sex smoker   day    time  size\n",
       "0         16.99  1.01  Female     No   Sun  Dinner     2\n",
       "1         10.34  1.66    Male     No   Sun  Dinner     3\n",
       "2         21.01  3.50    Male     No   Sun  Dinner     3\n",
       "3         23.68  3.31    Male     No   Sun  Dinner     2\n",
       "4         24.59  3.61  Female     No   Sun  Dinner     4\n",
       "..          ...   ...     ...    ...   ...     ...   ...\n",
       "239       29.03  5.92    Male     No   Sat  Dinner     3\n",
       "240       27.18  2.00  Female    Yes   Sat  Dinner     2\n",
       "241       22.67  2.00    Male    Yes   Sat  Dinner     2\n",
       "242       17.82  1.75    Male     No   Sat  Dinner     2\n",
       "243       18.78  3.00  Female     No  Thur  Dinner     2\n",
       "\n",
       "[244 rows x 7 columns]"
      ]
     },
     "metadata": {},
     "output_type": "display_data"
    },
    {
     "name": "stdout",
     "output_type": "stream",
     "text": [
      "Versió de Panda:  1.3.4\n",
      "(244, 7)\n",
      "Index(['total_bill', 'tip', 'sex', 'smoker', 'day', 'time', 'size'], dtype='object')\n",
      "['Sun' 'Sat' 'Thur' 'Fri']\n",
      "4\n",
      "       total_bill      tip     size\n",
      "count     244.000  244.000  244.000\n",
      "mean       19.786    2.998    2.570\n",
      "std         8.902    1.384    0.951\n",
      "min         3.070    1.000    1.000\n",
      "25%        13.348    2.000    2.000\n",
      "50%        17.795    2.900    2.000\n",
      "75%        24.127    3.562    3.000\n",
      "max        50.810   10.000    6.000\n",
      "19.785942622950824\n"
     ]
    }
   ],
   "source": [
    "#************************************************************************************\n",
    "#********************************         Main       ********************************\n",
    "#************************************************************************************\n",
    "# Read *.csv file (Import Data)\n",
    "tips = pd.read_csv(\"Data sets\\\\SP03\\\\tips.csv\")                 # nrows=10000)\n",
    "\n",
    "\n",
    "print (\"Taula de dades TIPS: \")                                 #Print Message\n",
    "display(tips)                                                   #Print Dataframe\n",
    "print (\"Versió de Panda: \", pd.__version__)                     #Print version of PANDA\n",
    "\n",
    "# Print the information of dataset\n",
    "print(tips.shape)\n",
    "print(tips.columns)\n",
    "print(tips.day.unique())\n",
    "print(tips.day.nunique())\n",
    "print(tips.describe().round(3))\n",
    "print(tips.total_bill.mean())"
   ]
  },
  {
   "cell_type": "markdown",
   "id": "1694fc2d",
   "metadata": {},
   "source": [
    "We will use a <span style=color:orange>Scatterplot</span> to examine how $Total$ $Bill$ and $Tips$ are related in the $tips$ dataset."
   ]
  },
  {
   "cell_type": "code",
   "execution_count": 89,
   "id": "b51c8b42",
   "metadata": {
    "code_folding": []
   },
   "outputs": [
    {
     "data": {
      "image/png": "[encoded data removed]",
      "text/plain": [
       "<Figure size 432x288 with 1 Axes>"
      ]
     },
     "metadata": {
      "needs_background": "light"
     },
     "output_type": "display_data"
    }
   ],
   "source": [
    "# Create data\n",
    "x = tips.total_bill  #total_bill\n",
    "y = tips.tip\n",
    "colors = 'darkOrange'\n",
    "area = np.pi*5\n",
    "\n",
    "plt.axis([-10, 100, 0, 30])\n",
    "\n",
    "# Plot\n",
    "plt.scatter(x, y, s=area, c=colors, alpha=0.4, edgecolors='red')\n",
    "\n",
    "plt.title('Tips vs Total Bill')\n",
    "plt.ylabel('Quantity of Tip')\n",
    "plt.xlabel('Total Bill')\n",
    "plt.show()"
   ]
  },
  {
   "cell_type": "code",
   "execution_count": 90,
   "id": "021b6da8",
   "metadata": {
    "run_control": {
     "marked": true
    }
   },
   "outputs": [
    {
     "data": {
      "image/png": "[encoded data removed]",
      "text/plain": [
       "<Figure size 224x216 with 1 Axes>"
      ]
     },
     "metadata": {
      "needs_background": "light"
     },
     "output_type": "display_data"
    }
   ],
   "source": [
    "# Call Function create plot with Seaborn\n",
    "fig1 = plotSnsScatterplot (tips, \n",
    "                          'total_bill', \n",
    "                          'tip',\n",
    "                          'Tips vs Total Bill',\n",
    "                          'Quantity of Tip',\n",
    "                          'Total Bill')\n"
   ]
  },
  {
   "cell_type": "markdown",
   "id": "61565a87",
   "metadata": {},
   "source": [
    "In any <span style=color:orange>Scatterplot</span>, each point represents a single <b><i>case/observation</i></b>. Since there are <b>244</b> cases in $tips$, there are <b>244</b> points"
   ]
  },
  {
   "cell_type": "markdown",
   "id": "6a6165b6",
   "metadata": {},
   "source": [
    "Now, We will compare the <span style=color:orange>number of line breaks <b>(line_breaks)</b></span> and <span style=color:orange>number of characters <b>(num_char)</b></span> in emails for the $email50$ dataset. "
   ]
  },
  {
   "cell_type": "code",
   "execution_count": 91,
   "id": "8999e1f2",
   "metadata": {},
   "outputs": [
    {
     "data": {
      "text/html": [
       "<div>\n",
       "<style scoped>\n",
       "    .dataframe tbody tr th:only-of-type {\n",
       "        vertical-align: middle;\n",
       "    }\n",
       "\n",
       "    .dataframe tbody tr th {\n",
       "        vertical-align: top;\n",
       "    }\n",
       "\n",
       "    .dataframe thead th {\n",
       "        text-align: right;\n",
       "    }\n",
       "</style>\n",
       "<table border=\"1\" class=\"dataframe\">\n",
       "  <thead>\n",
       "    <tr style=\"text-align: right;\">\n",
       "      <th></th>\n",
       "      <th>spam</th>\n",
       "      <th>to_multiple</th>\n",
       "      <th>from</th>\n",
       "      <th>cc</th>\n",
       "      <th>sent_email</th>\n",
       "      <th>time</th>\n",
       "      <th>image</th>\n",
       "      <th>attach</th>\n",
       "      <th>dollar</th>\n",
       "      <th>winner</th>\n",
       "      <th>...</th>\n",
       "      <th>viagra</th>\n",
       "      <th>password</th>\n",
       "      <th>num_char</th>\n",
       "      <th>line_breaks</th>\n",
       "      <th>format</th>\n",
       "      <th>re_subj</th>\n",
       "      <th>exclaim_subj</th>\n",
       "      <th>urgent_subj</th>\n",
       "      <th>exclaim_mess</th>\n",
       "      <th>number</th>\n",
       "    </tr>\n",
       "  </thead>\n",
       "  <tbody>\n",
       "    <tr>\n",
       "      <th>0</th>\n",
       "      <td>0</td>\n",
       "      <td>0</td>\n",
       "      <td>1</td>\n",
       "      <td>0</td>\n",
       "      <td>1</td>\n",
       "      <td>2012-01-04 05:19:16</td>\n",
       "      <td>0</td>\n",
       "      <td>0</td>\n",
       "      <td>0</td>\n",
       "      <td>no</td>\n",
       "      <td>...</td>\n",
       "      <td>0</td>\n",
       "      <td>0</td>\n",
       "      <td>21.705</td>\n",
       "      <td>551</td>\n",
       "      <td>1</td>\n",
       "      <td>1</td>\n",
       "      <td>0</td>\n",
       "      <td>0</td>\n",
       "      <td>8</td>\n",
       "      <td>small</td>\n",
       "    </tr>\n",
       "    <tr>\n",
       "      <th>1</th>\n",
       "      <td>0</td>\n",
       "      <td>0</td>\n",
       "      <td>1</td>\n",
       "      <td>0</td>\n",
       "      <td>0</td>\n",
       "      <td>2012-02-16 12:10:06</td>\n",
       "      <td>0</td>\n",
       "      <td>0</td>\n",
       "      <td>0</td>\n",
       "      <td>no</td>\n",
       "      <td>...</td>\n",
       "      <td>0</td>\n",
       "      <td>0</td>\n",
       "      <td>7.011</td>\n",
       "      <td>183</td>\n",
       "      <td>1</td>\n",
       "      <td>0</td>\n",
       "      <td>0</td>\n",
       "      <td>0</td>\n",
       "      <td>1</td>\n",
       "      <td>big</td>\n",
       "    </tr>\n",
       "    <tr>\n",
       "      <th>2</th>\n",
       "      <td>1</td>\n",
       "      <td>0</td>\n",
       "      <td>1</td>\n",
       "      <td>4</td>\n",
       "      <td>0</td>\n",
       "      <td>2012-01-04 07:36:23</td>\n",
       "      <td>0</td>\n",
       "      <td>2</td>\n",
       "      <td>0</td>\n",
       "      <td>no</td>\n",
       "      <td>...</td>\n",
       "      <td>0</td>\n",
       "      <td>0</td>\n",
       "      <td>0.631</td>\n",
       "      <td>28</td>\n",
       "      <td>0</td>\n",
       "      <td>0</td>\n",
       "      <td>0</td>\n",
       "      <td>0</td>\n",
       "      <td>2</td>\n",
       "      <td>none</td>\n",
       "    </tr>\n",
       "    <tr>\n",
       "      <th>3</th>\n",
       "      <td>0</td>\n",
       "      <td>0</td>\n",
       "      <td>1</td>\n",
       "      <td>0</td>\n",
       "      <td>0</td>\n",
       "      <td>2012-01-04 09:49:52</td>\n",
       "      <td>0</td>\n",
       "      <td>0</td>\n",
       "      <td>0</td>\n",
       "      <td>no</td>\n",
       "      <td>...</td>\n",
       "      <td>0</td>\n",
       "      <td>0</td>\n",
       "      <td>2.454</td>\n",
       "      <td>61</td>\n",
       "      <td>0</td>\n",
       "      <td>0</td>\n",
       "      <td>0</td>\n",
       "      <td>0</td>\n",
       "      <td>1</td>\n",
       "      <td>small</td>\n",
       "    </tr>\n",
       "    <tr>\n",
       "      <th>4</th>\n",
       "      <td>0</td>\n",
       "      <td>0</td>\n",
       "      <td>1</td>\n",
       "      <td>0</td>\n",
       "      <td>0</td>\n",
       "      <td>2012-01-27 01:34:45</td>\n",
       "      <td>0</td>\n",
       "      <td>0</td>\n",
       "      <td>9</td>\n",
       "      <td>no</td>\n",
       "      <td>...</td>\n",
       "      <td>0</td>\n",
       "      <td>1</td>\n",
       "      <td>41.623</td>\n",
       "      <td>1088</td>\n",
       "      <td>1</td>\n",
       "      <td>0</td>\n",
       "      <td>0</td>\n",
       "      <td>0</td>\n",
       "      <td>43</td>\n",
       "      <td>small</td>\n",
       "    </tr>\n",
       "    <tr>\n",
       "      <th>5</th>\n",
       "      <td>0</td>\n",
       "      <td>0</td>\n",
       "      <td>1</td>\n",
       "      <td>0</td>\n",
       "      <td>0</td>\n",
       "      <td>2012-01-17 09:31:57</td>\n",
       "      <td>0</td>\n",
       "      <td>0</td>\n",
       "      <td>0</td>\n",
       "      <td>no</td>\n",
       "      <td>...</td>\n",
       "      <td>0</td>\n",
       "      <td>0</td>\n",
       "      <td>0.057</td>\n",
       "      <td>5</td>\n",
       "      <td>0</td>\n",
       "      <td>0</td>\n",
       "      <td>0</td>\n",
       "      <td>0</td>\n",
       "      <td>0</td>\n",
       "      <td>small</td>\n",
       "    </tr>\n",
       "    <tr>\n",
       "      <th>6</th>\n",
       "      <td>0</td>\n",
       "      <td>0</td>\n",
       "      <td>1</td>\n",
       "      <td>0</td>\n",
       "      <td>0</td>\n",
       "      <td>2012-03-17 21:18:55</td>\n",
       "      <td>0</td>\n",
       "      <td>0</td>\n",
       "      <td>0</td>\n",
       "      <td>no</td>\n",
       "      <td>...</td>\n",
       "      <td>0</td>\n",
       "      <td>0</td>\n",
       "      <td>0.809</td>\n",
       "      <td>17</td>\n",
       "      <td>0</td>\n",
       "      <td>0</td>\n",
       "      <td>0</td>\n",
       "      <td>0</td>\n",
       "      <td>0</td>\n",
       "      <td>small</td>\n",
       "    </tr>\n",
       "    <tr>\n",
       "      <th>7</th>\n",
       "      <td>0</td>\n",
       "      <td>0</td>\n",
       "      <td>1</td>\n",
       "      <td>0</td>\n",
       "      <td>1</td>\n",
       "      <td>2012-03-31 06:58:56</td>\n",
       "      <td>0</td>\n",
       "      <td>0</td>\n",
       "      <td>0</td>\n",
       "      <td>no</td>\n",
       "      <td>...</td>\n",
       "      <td>0</td>\n",
       "      <td>0</td>\n",
       "      <td>5.229</td>\n",
       "      <td>88</td>\n",
       "      <td>1</td>\n",
       "      <td>1</td>\n",
       "      <td>0</td>\n",
       "      <td>0</td>\n",
       "      <td>2</td>\n",
       "      <td>small</td>\n",
       "    </tr>\n",
       "    <tr>\n",
       "      <th>8</th>\n",
       "      <td>0</td>\n",
       "      <td>0</td>\n",
       "      <td>1</td>\n",
       "      <td>1</td>\n",
       "      <td>1</td>\n",
       "      <td>2012-01-10 17:57:54</td>\n",
       "      <td>0</td>\n",
       "      <td>0</td>\n",
       "      <td>0</td>\n",
       "      <td>no</td>\n",
       "      <td>...</td>\n",
       "      <td>0</td>\n",
       "      <td>0</td>\n",
       "      <td>9.277</td>\n",
       "      <td>242</td>\n",
       "      <td>1</td>\n",
       "      <td>1</td>\n",
       "      <td>1</td>\n",
       "      <td>0</td>\n",
       "      <td>22</td>\n",
       "      <td>small</td>\n",
       "    </tr>\n",
       "    <tr>\n",
       "      <th>9</th>\n",
       "      <td>0</td>\n",
       "      <td>0</td>\n",
       "      <td>1</td>\n",
       "      <td>0</td>\n",
       "      <td>0</td>\n",
       "      <td>2012-01-07 11:29:16</td>\n",
       "      <td>0</td>\n",
       "      <td>0</td>\n",
       "      <td>23</td>\n",
       "      <td>no</td>\n",
       "      <td>...</td>\n",
       "      <td>0</td>\n",
       "      <td>0</td>\n",
       "      <td>17.170</td>\n",
       "      <td>578</td>\n",
       "      <td>1</td>\n",
       "      <td>0</td>\n",
       "      <td>0</td>\n",
       "      <td>0</td>\n",
       "      <td>3</td>\n",
       "      <td>small</td>\n",
       "    </tr>\n",
       "    <tr>\n",
       "      <th>10</th>\n",
       "      <td>0</td>\n",
       "      <td>0</td>\n",
       "      <td>1</td>\n",
       "      <td>0</td>\n",
       "      <td>0</td>\n",
       "      <td>2012-02-22 16:57:02</td>\n",
       "      <td>0</td>\n",
       "      <td>0</td>\n",
       "      <td>4</td>\n",
       "      <td>no</td>\n",
       "      <td>...</td>\n",
       "      <td>0</td>\n",
       "      <td>0</td>\n",
       "      <td>64.401</td>\n",
       "      <td>1167</td>\n",
       "      <td>1</td>\n",
       "      <td>0</td>\n",
       "      <td>0</td>\n",
       "      <td>0</td>\n",
       "      <td>13</td>\n",
       "      <td>small</td>\n",
       "    </tr>\n",
       "    <tr>\n",
       "      <th>11</th>\n",
       "      <td>0</td>\n",
       "      <td>0</td>\n",
       "      <td>1</td>\n",
       "      <td>0</td>\n",
       "      <td>0</td>\n",
       "      <td>2012-02-04 15:26:09</td>\n",
       "      <td>0</td>\n",
       "      <td>0</td>\n",
       "      <td>0</td>\n",
       "      <td>no</td>\n",
       "      <td>...</td>\n",
       "      <td>0</td>\n",
       "      <td>2</td>\n",
       "      <td>10.368</td>\n",
       "      <td>198</td>\n",
       "      <td>1</td>\n",
       "      <td>0</td>\n",
       "      <td>0</td>\n",
       "      <td>0</td>\n",
       "      <td>1</td>\n",
       "      <td>big</td>\n",
       "    </tr>\n",
       "    <tr>\n",
       "      <th>12</th>\n",
       "      <td>1</td>\n",
       "      <td>0</td>\n",
       "      <td>1</td>\n",
       "      <td>0</td>\n",
       "      <td>0</td>\n",
       "      <td>2012-01-24 08:15:56</td>\n",
       "      <td>0</td>\n",
       "      <td>0</td>\n",
       "      <td>3</td>\n",
       "      <td>yes</td>\n",
       "      <td>...</td>\n",
       "      <td>0</td>\n",
       "      <td>0</td>\n",
       "      <td>42.793</td>\n",
       "      <td>712</td>\n",
       "      <td>1</td>\n",
       "      <td>0</td>\n",
       "      <td>0</td>\n",
       "      <td>0</td>\n",
       "      <td>2</td>\n",
       "      <td>big</td>\n",
       "    </tr>\n",
       "    <tr>\n",
       "      <th>13</th>\n",
       "      <td>1</td>\n",
       "      <td>1</td>\n",
       "      <td>1</td>\n",
       "      <td>0</td>\n",
       "      <td>0</td>\n",
       "      <td>2012-02-08 18:22:46</td>\n",
       "      <td>0</td>\n",
       "      <td>2</td>\n",
       "      <td>2</td>\n",
       "      <td>no</td>\n",
       "      <td>...</td>\n",
       "      <td>0</td>\n",
       "      <td>0</td>\n",
       "      <td>0.451</td>\n",
       "      <td>24</td>\n",
       "      <td>0</td>\n",
       "      <td>0</td>\n",
       "      <td>0</td>\n",
       "      <td>0</td>\n",
       "      <td>2</td>\n",
       "      <td>small</td>\n",
       "    </tr>\n",
       "    <tr>\n",
       "      <th>14</th>\n",
       "      <td>0</td>\n",
       "      <td>0</td>\n",
       "      <td>1</td>\n",
       "      <td>0</td>\n",
       "      <td>0</td>\n",
       "      <td>2012-03-09 10:46:12</td>\n",
       "      <td>0</td>\n",
       "      <td>0</td>\n",
       "      <td>0</td>\n",
       "      <td>no</td>\n",
       "      <td>...</td>\n",
       "      <td>0</td>\n",
       "      <td>0</td>\n",
       "      <td>29.233</td>\n",
       "      <td>604</td>\n",
       "      <td>1</td>\n",
       "      <td>0</td>\n",
       "      <td>0</td>\n",
       "      <td>0</td>\n",
       "      <td>21</td>\n",
       "      <td>small</td>\n",
       "    </tr>\n",
       "    <tr>\n",
       "      <th>15</th>\n",
       "      <td>0</td>\n",
       "      <td>0</td>\n",
       "      <td>1</td>\n",
       "      <td>0</td>\n",
       "      <td>1</td>\n",
       "      <td>2012-01-12 08:17:53</td>\n",
       "      <td>0</td>\n",
       "      <td>0</td>\n",
       "      <td>0</td>\n",
       "      <td>no</td>\n",
       "      <td>...</td>\n",
       "      <td>0</td>\n",
       "      <td>0</td>\n",
       "      <td>9.794</td>\n",
       "      <td>197</td>\n",
       "      <td>1</td>\n",
       "      <td>1</td>\n",
       "      <td>0</td>\n",
       "      <td>0</td>\n",
       "      <td>10</td>\n",
       "      <td>small</td>\n",
       "    </tr>\n",
       "    <tr>\n",
       "      <th>16</th>\n",
       "      <td>0</td>\n",
       "      <td>0</td>\n",
       "      <td>1</td>\n",
       "      <td>0</td>\n",
       "      <td>1</td>\n",
       "      <td>2012-01-31 11:44:22</td>\n",
       "      <td>0</td>\n",
       "      <td>0</td>\n",
       "      <td>0</td>\n",
       "      <td>no</td>\n",
       "      <td>...</td>\n",
       "      <td>0</td>\n",
       "      <td>0</td>\n",
       "      <td>2.139</td>\n",
       "      <td>60</td>\n",
       "      <td>1</td>\n",
       "      <td>1</td>\n",
       "      <td>0</td>\n",
       "      <td>0</td>\n",
       "      <td>0</td>\n",
       "      <td>small</td>\n",
       "    </tr>\n",
       "    <tr>\n",
       "      <th>17</th>\n",
       "      <td>1</td>\n",
       "      <td>0</td>\n",
       "      <td>1</td>\n",
       "      <td>0</td>\n",
       "      <td>0</td>\n",
       "      <td>2012-03-20 19:00:30</td>\n",
       "      <td>0</td>\n",
       "      <td>1</td>\n",
       "      <td>0</td>\n",
       "      <td>no</td>\n",
       "      <td>...</td>\n",
       "      <td>0</td>\n",
       "      <td>0</td>\n",
       "      <td>0.130</td>\n",
       "      <td>5</td>\n",
       "      <td>0</td>\n",
       "      <td>0</td>\n",
       "      <td>0</td>\n",
       "      <td>0</td>\n",
       "      <td>0</td>\n",
       "      <td>none</td>\n",
       "    </tr>\n",
       "    <tr>\n",
       "      <th>18</th>\n",
       "      <td>0</td>\n",
       "      <td>0</td>\n",
       "      <td>1</td>\n",
       "      <td>1</td>\n",
       "      <td>1</td>\n",
       "      <td>2012-01-03 11:39:06</td>\n",
       "      <td>0</td>\n",
       "      <td>0</td>\n",
       "      <td>0</td>\n",
       "      <td>no</td>\n",
       "      <td>...</td>\n",
       "      <td>0</td>\n",
       "      <td>8</td>\n",
       "      <td>4.945</td>\n",
       "      <td>120</td>\n",
       "      <td>1</td>\n",
       "      <td>0</td>\n",
       "      <td>0</td>\n",
       "      <td>0</td>\n",
       "      <td>2</td>\n",
       "      <td>small</td>\n",
       "    </tr>\n",
       "    <tr>\n",
       "      <th>19</th>\n",
       "      <td>0</td>\n",
       "      <td>1</td>\n",
       "      <td>1</td>\n",
       "      <td>4</td>\n",
       "      <td>0</td>\n",
       "      <td>2012-03-28 17:48:08</td>\n",
       "      <td>0</td>\n",
       "      <td>0</td>\n",
       "      <td>2</td>\n",
       "      <td>no</td>\n",
       "      <td>...</td>\n",
       "      <td>0</td>\n",
       "      <td>0</td>\n",
       "      <td>11.533</td>\n",
       "      <td>291</td>\n",
       "      <td>1</td>\n",
       "      <td>1</td>\n",
       "      <td>0</td>\n",
       "      <td>0</td>\n",
       "      <td>4</td>\n",
       "      <td>small</td>\n",
       "    </tr>\n",
       "    <tr>\n",
       "      <th>20</th>\n",
       "      <td>0</td>\n",
       "      <td>0</td>\n",
       "      <td>1</td>\n",
       "      <td>0</td>\n",
       "      <td>0</td>\n",
       "      <td>2012-01-09 07:04:18</td>\n",
       "      <td>0</td>\n",
       "      <td>0</td>\n",
       "      <td>0</td>\n",
       "      <td>no</td>\n",
       "      <td>...</td>\n",
       "      <td>0</td>\n",
       "      <td>0</td>\n",
       "      <td>5.682</td>\n",
       "      <td>87</td>\n",
       "      <td>1</td>\n",
       "      <td>0</td>\n",
       "      <td>0</td>\n",
       "      <td>0</td>\n",
       "      <td>0</td>\n",
       "      <td>small</td>\n",
       "    </tr>\n",
       "    <tr>\n",
       "      <th>21</th>\n",
       "      <td>0</td>\n",
       "      <td>0</td>\n",
       "      <td>1</td>\n",
       "      <td>0</td>\n",
       "      <td>0</td>\n",
       "      <td>2012-01-14 02:07:03</td>\n",
       "      <td>0</td>\n",
       "      <td>0</td>\n",
       "      <td>0</td>\n",
       "      <td>no</td>\n",
       "      <td>...</td>\n",
       "      <td>0</td>\n",
       "      <td>0</td>\n",
       "      <td>6.768</td>\n",
       "      <td>81</td>\n",
       "      <td>1</td>\n",
       "      <td>0</td>\n",
       "      <td>0</td>\n",
       "      <td>0</td>\n",
       "      <td>3</td>\n",
       "      <td>small</td>\n",
       "    </tr>\n",
       "    <tr>\n",
       "      <th>22</th>\n",
       "      <td>0</td>\n",
       "      <td>0</td>\n",
       "      <td>1</td>\n",
       "      <td>0</td>\n",
       "      <td>1</td>\n",
       "      <td>2012-03-24 08:00:57</td>\n",
       "      <td>0</td>\n",
       "      <td>0</td>\n",
       "      <td>0</td>\n",
       "      <td>no</td>\n",
       "      <td>...</td>\n",
       "      <td>0</td>\n",
       "      <td>0</td>\n",
       "      <td>0.086</td>\n",
       "      <td>5</td>\n",
       "      <td>0</td>\n",
       "      <td>0</td>\n",
       "      <td>1</td>\n",
       "      <td>0</td>\n",
       "      <td>0</td>\n",
       "      <td>none</td>\n",
       "    </tr>\n",
       "    <tr>\n",
       "      <th>23</th>\n",
       "      <td>0</td>\n",
       "      <td>0</td>\n",
       "      <td>1</td>\n",
       "      <td>2</td>\n",
       "      <td>1</td>\n",
       "      <td>2012-01-12 13:43:42</td>\n",
       "      <td>0</td>\n",
       "      <td>0</td>\n",
       "      <td>0</td>\n",
       "      <td>no</td>\n",
       "      <td>...</td>\n",
       "      <td>0</td>\n",
       "      <td>0</td>\n",
       "      <td>3.070</td>\n",
       "      <td>65</td>\n",
       "      <td>1</td>\n",
       "      <td>1</td>\n",
       "      <td>0</td>\n",
       "      <td>0</td>\n",
       "      <td>0</td>\n",
       "      <td>small</td>\n",
       "    </tr>\n",
       "    <tr>\n",
       "      <th>24</th>\n",
       "      <td>0</td>\n",
       "      <td>0</td>\n",
       "      <td>1</td>\n",
       "      <td>0</td>\n",
       "      <td>0</td>\n",
       "      <td>2012-03-02 11:05:22</td>\n",
       "      <td>0</td>\n",
       "      <td>0</td>\n",
       "      <td>2</td>\n",
       "      <td>no</td>\n",
       "      <td>...</td>\n",
       "      <td>0</td>\n",
       "      <td>0</td>\n",
       "      <td>26.520</td>\n",
       "      <td>692</td>\n",
       "      <td>1</td>\n",
       "      <td>0</td>\n",
       "      <td>1</td>\n",
       "      <td>0</td>\n",
       "      <td>7</td>\n",
       "      <td>big</td>\n",
       "    </tr>\n",
       "    <tr>\n",
       "      <th>25</th>\n",
       "      <td>0</td>\n",
       "      <td>0</td>\n",
       "      <td>1</td>\n",
       "      <td>0</td>\n",
       "      <td>0</td>\n",
       "      <td>2012-02-15 20:01:40</td>\n",
       "      <td>0</td>\n",
       "      <td>0</td>\n",
       "      <td>0</td>\n",
       "      <td>no</td>\n",
       "      <td>...</td>\n",
       "      <td>0</td>\n",
       "      <td>0</td>\n",
       "      <td>26.255</td>\n",
       "      <td>654</td>\n",
       "      <td>1</td>\n",
       "      <td>0</td>\n",
       "      <td>0</td>\n",
       "      <td>0</td>\n",
       "      <td>1</td>\n",
       "      <td>small</td>\n",
       "    </tr>\n",
       "    <tr>\n",
       "      <th>26</th>\n",
       "      <td>0</td>\n",
       "      <td>0</td>\n",
       "      <td>1</td>\n",
       "      <td>0</td>\n",
       "      <td>1</td>\n",
       "      <td>2012-02-09 05:51:43</td>\n",
       "      <td>0</td>\n",
       "      <td>0</td>\n",
       "      <td>0</td>\n",
       "      <td>no</td>\n",
       "      <td>...</td>\n",
       "      <td>0</td>\n",
       "      <td>0</td>\n",
       "      <td>5.259</td>\n",
       "      <td>140</td>\n",
       "      <td>1</td>\n",
       "      <td>1</td>\n",
       "      <td>0</td>\n",
       "      <td>0</td>\n",
       "      <td>8</td>\n",
       "      <td>small</td>\n",
       "    </tr>\n",
       "    <tr>\n",
       "      <th>27</th>\n",
       "      <td>0</td>\n",
       "      <td>1</td>\n",
       "      <td>1</td>\n",
       "      <td>5</td>\n",
       "      <td>0</td>\n",
       "      <td>2012-01-23 06:03:19</td>\n",
       "      <td>0</td>\n",
       "      <td>0</td>\n",
       "      <td>0</td>\n",
       "      <td>no</td>\n",
       "      <td>...</td>\n",
       "      <td>0</td>\n",
       "      <td>0</td>\n",
       "      <td>2.780</td>\n",
       "      <td>69</td>\n",
       "      <td>0</td>\n",
       "      <td>1</td>\n",
       "      <td>0</td>\n",
       "      <td>0</td>\n",
       "      <td>1</td>\n",
       "      <td>small</td>\n",
       "    </tr>\n",
       "    <tr>\n",
       "      <th>28</th>\n",
       "      <td>0</td>\n",
       "      <td>0</td>\n",
       "      <td>1</td>\n",
       "      <td>0</td>\n",
       "      <td>1</td>\n",
       "      <td>2012-02-01 08:12:20</td>\n",
       "      <td>0</td>\n",
       "      <td>0</td>\n",
       "      <td>0</td>\n",
       "      <td>no</td>\n",
       "      <td>...</td>\n",
       "      <td>0</td>\n",
       "      <td>0</td>\n",
       "      <td>5.864</td>\n",
       "      <td>142</td>\n",
       "      <td>1</td>\n",
       "      <td>1</td>\n",
       "      <td>0</td>\n",
       "      <td>0</td>\n",
       "      <td>6</td>\n",
       "      <td>small</td>\n",
       "    </tr>\n",
       "    <tr>\n",
       "      <th>29</th>\n",
       "      <td>0</td>\n",
       "      <td>1</td>\n",
       "      <td>1</td>\n",
       "      <td>0</td>\n",
       "      <td>0</td>\n",
       "      <td>2012-03-23 10:42:28</td>\n",
       "      <td>0</td>\n",
       "      <td>0</td>\n",
       "      <td>0</td>\n",
       "      <td>no</td>\n",
       "      <td>...</td>\n",
       "      <td>0</td>\n",
       "      <td>0</td>\n",
       "      <td>9.928</td>\n",
       "      <td>219</td>\n",
       "      <td>1</td>\n",
       "      <td>0</td>\n",
       "      <td>0</td>\n",
       "      <td>0</td>\n",
       "      <td>4</td>\n",
       "      <td>small</td>\n",
       "    </tr>\n",
       "    <tr>\n",
       "      <th>30</th>\n",
       "      <td>0</td>\n",
       "      <td>0</td>\n",
       "      <td>1</td>\n",
       "      <td>0</td>\n",
       "      <td>0</td>\n",
       "      <td>2012-02-14 05:43:48</td>\n",
       "      <td>0</td>\n",
       "      <td>0</td>\n",
       "      <td>0</td>\n",
       "      <td>no</td>\n",
       "      <td>...</td>\n",
       "      <td>0</td>\n",
       "      <td>2</td>\n",
       "      <td>25.209</td>\n",
       "      <td>725</td>\n",
       "      <td>1</td>\n",
       "      <td>0</td>\n",
       "      <td>0</td>\n",
       "      <td>0</td>\n",
       "      <td>2</td>\n",
       "      <td>small</td>\n",
       "    </tr>\n",
       "    <tr>\n",
       "      <th>31</th>\n",
       "      <td>0</td>\n",
       "      <td>0</td>\n",
       "      <td>1</td>\n",
       "      <td>0</td>\n",
       "      <td>0</td>\n",
       "      <td>2012-01-19 15:33:55</td>\n",
       "      <td>0</td>\n",
       "      <td>0</td>\n",
       "      <td>0</td>\n",
       "      <td>no</td>\n",
       "      <td>...</td>\n",
       "      <td>0</td>\n",
       "      <td>0</td>\n",
       "      <td>6.563</td>\n",
       "      <td>140</td>\n",
       "      <td>1</td>\n",
       "      <td>0</td>\n",
       "      <td>0</td>\n",
       "      <td>0</td>\n",
       "      <td>2</td>\n",
       "      <td>big</td>\n",
       "    </tr>\n",
       "    <tr>\n",
       "      <th>32</th>\n",
       "      <td>0</td>\n",
       "      <td>0</td>\n",
       "      <td>1</td>\n",
       "      <td>0</td>\n",
       "      <td>0</td>\n",
       "      <td>2012-01-21 09:35:48</td>\n",
       "      <td>0</td>\n",
       "      <td>0</td>\n",
       "      <td>0</td>\n",
       "      <td>no</td>\n",
       "      <td>...</td>\n",
       "      <td>0</td>\n",
       "      <td>0</td>\n",
       "      <td>24.599</td>\n",
       "      <td>621</td>\n",
       "      <td>1</td>\n",
       "      <td>0</td>\n",
       "      <td>0</td>\n",
       "      <td>0</td>\n",
       "      <td>1</td>\n",
       "      <td>small</td>\n",
       "    </tr>\n",
       "    <tr>\n",
       "      <th>33</th>\n",
       "      <td>0</td>\n",
       "      <td>0</td>\n",
       "      <td>1</td>\n",
       "      <td>0</td>\n",
       "      <td>0</td>\n",
       "      <td>2012-01-25 14:37:06</td>\n",
       "      <td>0</td>\n",
       "      <td>0</td>\n",
       "      <td>0</td>\n",
       "      <td>no</td>\n",
       "      <td>...</td>\n",
       "      <td>0</td>\n",
       "      <td>0</td>\n",
       "      <td>25.757</td>\n",
       "      <td>645</td>\n",
       "      <td>1</td>\n",
       "      <td>0</td>\n",
       "      <td>0</td>\n",
       "      <td>0</td>\n",
       "      <td>1</td>\n",
       "      <td>small</td>\n",
       "    </tr>\n",
       "    <tr>\n",
       "      <th>34</th>\n",
       "      <td>0</td>\n",
       "      <td>1</td>\n",
       "      <td>1</td>\n",
       "      <td>0</td>\n",
       "      <td>0</td>\n",
       "      <td>2012-03-06 09:03:41</td>\n",
       "      <td>0</td>\n",
       "      <td>0</td>\n",
       "      <td>0</td>\n",
       "      <td>no</td>\n",
       "      <td>...</td>\n",
       "      <td>0</td>\n",
       "      <td>0</td>\n",
       "      <td>0.409</td>\n",
       "      <td>13</td>\n",
       "      <td>0</td>\n",
       "      <td>0</td>\n",
       "      <td>0</td>\n",
       "      <td>0</td>\n",
       "      <td>1</td>\n",
       "      <td>small</td>\n",
       "    </tr>\n",
       "    <tr>\n",
       "      <th>35</th>\n",
       "      <td>0</td>\n",
       "      <td>0</td>\n",
       "      <td>1</td>\n",
       "      <td>0</td>\n",
       "      <td>1</td>\n",
       "      <td>2012-03-25 14:08:44</td>\n",
       "      <td>0</td>\n",
       "      <td>0</td>\n",
       "      <td>0</td>\n",
       "      <td>no</td>\n",
       "      <td>...</td>\n",
       "      <td>0</td>\n",
       "      <td>0</td>\n",
       "      <td>11.223</td>\n",
       "      <td>512</td>\n",
       "      <td>1</td>\n",
       "      <td>0</td>\n",
       "      <td>0</td>\n",
       "      <td>0</td>\n",
       "      <td>9</td>\n",
       "      <td>big</td>\n",
       "    </tr>\n",
       "    <tr>\n",
       "      <th>36</th>\n",
       "      <td>0</td>\n",
       "      <td>0</td>\n",
       "      <td>1</td>\n",
       "      <td>0</td>\n",
       "      <td>0</td>\n",
       "      <td>2012-02-14 16:17:09</td>\n",
       "      <td>0</td>\n",
       "      <td>0</td>\n",
       "      <td>0</td>\n",
       "      <td>no</td>\n",
       "      <td>...</td>\n",
       "      <td>0</td>\n",
       "      <td>0</td>\n",
       "      <td>3.778</td>\n",
       "      <td>98</td>\n",
       "      <td>1</td>\n",
       "      <td>0</td>\n",
       "      <td>0</td>\n",
       "      <td>0</td>\n",
       "      <td>0</td>\n",
       "      <td>small</td>\n",
       "    </tr>\n",
       "    <tr>\n",
       "      <th>37</th>\n",
       "      <td>0</td>\n",
       "      <td>0</td>\n",
       "      <td>1</td>\n",
       "      <td>0</td>\n",
       "      <td>0</td>\n",
       "      <td>2012-03-01 02:00:01</td>\n",
       "      <td>0</td>\n",
       "      <td>0</td>\n",
       "      <td>0</td>\n",
       "      <td>no</td>\n",
       "      <td>...</td>\n",
       "      <td>0</td>\n",
       "      <td>2</td>\n",
       "      <td>1.493</td>\n",
       "      <td>35</td>\n",
       "      <td>0</td>\n",
       "      <td>0</td>\n",
       "      <td>0</td>\n",
       "      <td>0</td>\n",
       "      <td>1</td>\n",
       "      <td>none</td>\n",
       "    </tr>\n",
       "    <tr>\n",
       "      <th>38</th>\n",
       "      <td>0</td>\n",
       "      <td>0</td>\n",
       "      <td>1</td>\n",
       "      <td>0</td>\n",
       "      <td>0</td>\n",
       "      <td>2012-02-10 10:34:42</td>\n",
       "      <td>0</td>\n",
       "      <td>0</td>\n",
       "      <td>0</td>\n",
       "      <td>no</td>\n",
       "      <td>...</td>\n",
       "      <td>0</td>\n",
       "      <td>8</td>\n",
       "      <td>10.613</td>\n",
       "      <td>225</td>\n",
       "      <td>1</td>\n",
       "      <td>0</td>\n",
       "      <td>0</td>\n",
       "      <td>0</td>\n",
       "      <td>9</td>\n",
       "      <td>big</td>\n",
       "    </tr>\n",
       "    <tr>\n",
       "      <th>39</th>\n",
       "      <td>0</td>\n",
       "      <td>0</td>\n",
       "      <td>1</td>\n",
       "      <td>0</td>\n",
       "      <td>1</td>\n",
       "      <td>2012-01-12 13:44:54</td>\n",
       "      <td>0</td>\n",
       "      <td>0</td>\n",
       "      <td>0</td>\n",
       "      <td>no</td>\n",
       "      <td>...</td>\n",
       "      <td>0</td>\n",
       "      <td>0</td>\n",
       "      <td>0.493</td>\n",
       "      <td>13</td>\n",
       "      <td>1</td>\n",
       "      <td>0</td>\n",
       "      <td>0</td>\n",
       "      <td>0</td>\n",
       "      <td>0</td>\n",
       "      <td>none</td>\n",
       "    </tr>\n",
       "    <tr>\n",
       "      <th>40</th>\n",
       "      <td>0</td>\n",
       "      <td>1</td>\n",
       "      <td>1</td>\n",
       "      <td>0</td>\n",
       "      <td>0</td>\n",
       "      <td>2012-01-06 12:14:47</td>\n",
       "      <td>0</td>\n",
       "      <td>0</td>\n",
       "      <td>0</td>\n",
       "      <td>no</td>\n",
       "      <td>...</td>\n",
       "      <td>0</td>\n",
       "      <td>0</td>\n",
       "      <td>4.415</td>\n",
       "      <td>61</td>\n",
       "      <td>0</td>\n",
       "      <td>0</td>\n",
       "      <td>0</td>\n",
       "      <td>0</td>\n",
       "      <td>1</td>\n",
       "      <td>small</td>\n",
       "    </tr>\n",
       "    <tr>\n",
       "      <th>41</th>\n",
       "      <td>0</td>\n",
       "      <td>0</td>\n",
       "      <td>1</td>\n",
       "      <td>1</td>\n",
       "      <td>1</td>\n",
       "      <td>2012-03-21 08:39:21</td>\n",
       "      <td>0</td>\n",
       "      <td>0</td>\n",
       "      <td>0</td>\n",
       "      <td>no</td>\n",
       "      <td>...</td>\n",
       "      <td>0</td>\n",
       "      <td>0</td>\n",
       "      <td>14.156</td>\n",
       "      <td>300</td>\n",
       "      <td>1</td>\n",
       "      <td>1</td>\n",
       "      <td>0</td>\n",
       "      <td>0</td>\n",
       "      <td>0</td>\n",
       "      <td>small</td>\n",
       "    </tr>\n",
       "    <tr>\n",
       "      <th>42</th>\n",
       "      <td>0</td>\n",
       "      <td>0</td>\n",
       "      <td>1</td>\n",
       "      <td>0</td>\n",
       "      <td>1</td>\n",
       "      <td>2012-02-13 12:19:36</td>\n",
       "      <td>0</td>\n",
       "      <td>0</td>\n",
       "      <td>0</td>\n",
       "      <td>no</td>\n",
       "      <td>...</td>\n",
       "      <td>0</td>\n",
       "      <td>0</td>\n",
       "      <td>9.491</td>\n",
       "      <td>233</td>\n",
       "      <td>1</td>\n",
       "      <td>1</td>\n",
       "      <td>0</td>\n",
       "      <td>0</td>\n",
       "      <td>18</td>\n",
       "      <td>small</td>\n",
       "    </tr>\n",
       "    <tr>\n",
       "      <th>43</th>\n",
       "      <td>0</td>\n",
       "      <td>0</td>\n",
       "      <td>1</td>\n",
       "      <td>0</td>\n",
       "      <td>0</td>\n",
       "      <td>2012-01-25 14:18:37</td>\n",
       "      <td>0</td>\n",
       "      <td>0</td>\n",
       "      <td>0</td>\n",
       "      <td>no</td>\n",
       "      <td>...</td>\n",
       "      <td>0</td>\n",
       "      <td>0</td>\n",
       "      <td>24.837</td>\n",
       "      <td>629</td>\n",
       "      <td>1</td>\n",
       "      <td>0</td>\n",
       "      <td>0</td>\n",
       "      <td>0</td>\n",
       "      <td>1</td>\n",
       "      <td>small</td>\n",
       "    </tr>\n",
       "    <tr>\n",
       "      <th>44</th>\n",
       "      <td>0</td>\n",
       "      <td>0</td>\n",
       "      <td>1</td>\n",
       "      <td>0</td>\n",
       "      <td>0</td>\n",
       "      <td>2012-01-24 15:44:52</td>\n",
       "      <td>0</td>\n",
       "      <td>0</td>\n",
       "      <td>0</td>\n",
       "      <td>no</td>\n",
       "      <td>...</td>\n",
       "      <td>0</td>\n",
       "      <td>0</td>\n",
       "      <td>0.684</td>\n",
       "      <td>17</td>\n",
       "      <td>1</td>\n",
       "      <td>0</td>\n",
       "      <td>0</td>\n",
       "      <td>0</td>\n",
       "      <td>1</td>\n",
       "      <td>small</td>\n",
       "    </tr>\n",
       "    <tr>\n",
       "      <th>45</th>\n",
       "      <td>1</td>\n",
       "      <td>0</td>\n",
       "      <td>1</td>\n",
       "      <td>0</td>\n",
       "      <td>0</td>\n",
       "      <td>2012-02-29 15:36:55</td>\n",
       "      <td>0</td>\n",
       "      <td>0</td>\n",
       "      <td>0</td>\n",
       "      <td>no</td>\n",
       "      <td>...</td>\n",
       "      <td>0</td>\n",
       "      <td>0</td>\n",
       "      <td>13.502</td>\n",
       "      <td>193</td>\n",
       "      <td>0</td>\n",
       "      <td>0</td>\n",
       "      <td>0</td>\n",
       "      <td>0</td>\n",
       "      <td>1</td>\n",
       "      <td>none</td>\n",
       "    </tr>\n",
       "    <tr>\n",
       "      <th>46</th>\n",
       "      <td>0</td>\n",
       "      <td>1</td>\n",
       "      <td>1</td>\n",
       "      <td>0</td>\n",
       "      <td>0</td>\n",
       "      <td>2012-03-06 06:10:00</td>\n",
       "      <td>0</td>\n",
       "      <td>0</td>\n",
       "      <td>0</td>\n",
       "      <td>no</td>\n",
       "      <td>...</td>\n",
       "      <td>0</td>\n",
       "      <td>0</td>\n",
       "      <td>2.789</td>\n",
       "      <td>44</td>\n",
       "      <td>0</td>\n",
       "      <td>0</td>\n",
       "      <td>0</td>\n",
       "      <td>0</td>\n",
       "      <td>0</td>\n",
       "      <td>small</td>\n",
       "    </tr>\n",
       "    <tr>\n",
       "      <th>47</th>\n",
       "      <td>0</td>\n",
       "      <td>0</td>\n",
       "      <td>1</td>\n",
       "      <td>0</td>\n",
       "      <td>1</td>\n",
       "      <td>2012-03-14 10:08:27</td>\n",
       "      <td>0</td>\n",
       "      <td>0</td>\n",
       "      <td>0</td>\n",
       "      <td>no</td>\n",
       "      <td>...</td>\n",
       "      <td>0</td>\n",
       "      <td>0</td>\n",
       "      <td>1.169</td>\n",
       "      <td>35</td>\n",
       "      <td>1</td>\n",
       "      <td>1</td>\n",
       "      <td>0</td>\n",
       "      <td>0</td>\n",
       "      <td>0</td>\n",
       "      <td>small</td>\n",
       "    </tr>\n",
       "    <tr>\n",
       "      <th>48</th>\n",
       "      <td>0</td>\n",
       "      <td>0</td>\n",
       "      <td>1</td>\n",
       "      <td>1</td>\n",
       "      <td>1</td>\n",
       "      <td>2012-02-10 08:27:48</td>\n",
       "      <td>0</td>\n",
       "      <td>0</td>\n",
       "      <td>0</td>\n",
       "      <td>no</td>\n",
       "      <td>...</td>\n",
       "      <td>0</td>\n",
       "      <td>0</td>\n",
       "      <td>8.937</td>\n",
       "      <td>211</td>\n",
       "      <td>1</td>\n",
       "      <td>1</td>\n",
       "      <td>0</td>\n",
       "      <td>0</td>\n",
       "      <td>2</td>\n",
       "      <td>small</td>\n",
       "    </tr>\n",
       "    <tr>\n",
       "      <th>49</th>\n",
       "      <td>0</td>\n",
       "      <td>0</td>\n",
       "      <td>1</td>\n",
       "      <td>0</td>\n",
       "      <td>0</td>\n",
       "      <td>2012-01-04 10:27:36</td>\n",
       "      <td>0</td>\n",
       "      <td>0</td>\n",
       "      <td>0</td>\n",
       "      <td>no</td>\n",
       "      <td>...</td>\n",
       "      <td>0</td>\n",
       "      <td>0</td>\n",
       "      <td>15.829</td>\n",
       "      <td>242</td>\n",
       "      <td>1</td>\n",
       "      <td>0</td>\n",
       "      <td>0</td>\n",
       "      <td>0</td>\n",
       "      <td>4</td>\n",
       "      <td>small</td>\n",
       "    </tr>\n",
       "  </tbody>\n",
       "</table>\n",
       "<p>50 rows × 21 columns</p>\n",
       "</div>"
      ],
      "text/plain": [
       "    spam  to_multiple  from  cc  sent_email                 time  image  \\\n",
       "0      0            0     1   0           1  2012-01-04 05:19:16      0   \n",
       "1      0            0     1   0           0  2012-02-16 12:10:06      0   \n",
       "2      1            0     1   4           0  2012-01-04 07:36:23      0   \n",
       "3      0            0     1   0           0  2012-01-04 09:49:52      0   \n",
       "4      0            0     1   0           0  2012-01-27 01:34:45      0   \n",
       "5      0            0     1   0           0  2012-01-17 09:31:57      0   \n",
       "6      0            0     1   0           0  2012-03-17 21:18:55      0   \n",
       "7      0            0     1   0           1  2012-03-31 06:58:56      0   \n",
       "8      0            0     1   1           1  2012-01-10 17:57:54      0   \n",
       "9      0            0     1   0           0  2012-01-07 11:29:16      0   \n",
       "10     0            0     1   0           0  2012-02-22 16:57:02      0   \n",
       "11     0            0     1   0           0  2012-02-04 15:26:09      0   \n",
       "12     1            0     1   0           0  2012-01-24 08:15:56      0   \n",
       "13     1            1     1   0           0  2012-02-08 18:22:46      0   \n",
       "14     0            0     1   0           0  2012-03-09 10:46:12      0   \n",
       "15     0            0     1   0           1  2012-01-12 08:17:53      0   \n",
       "16     0            0     1   0           1  2012-01-31 11:44:22      0   \n",
       "17     1            0     1   0           0  2012-03-20 19:00:30      0   \n",
       "18     0            0     1   1           1  2012-01-03 11:39:06      0   \n",
       "19     0            1     1   4           0  2012-03-28 17:48:08      0   \n",
       "20     0            0     1   0           0  2012-01-09 07:04:18      0   \n",
       "21     0            0     1   0           0  2012-01-14 02:07:03      0   \n",
       "22     0            0     1   0           1  2012-03-24 08:00:57      0   \n",
       "23     0            0     1   2           1  2012-01-12 13:43:42      0   \n",
       "24     0            0     1   0           0  2012-03-02 11:05:22      0   \n",
       "25     0            0     1   0           0  2012-02-15 20:01:40      0   \n",
       "26     0            0     1   0           1  2012-02-09 05:51:43      0   \n",
       "27     0            1     1   5           0  2012-01-23 06:03:19      0   \n",
       "28     0            0     1   0           1  2012-02-01 08:12:20      0   \n",
       "29     0            1     1   0           0  2012-03-23 10:42:28      0   \n",
       "30     0            0     1   0           0  2012-02-14 05:43:48      0   \n",
       "31     0            0     1   0           0  2012-01-19 15:33:55      0   \n",
       "32     0            0     1   0           0  2012-01-21 09:35:48      0   \n",
       "33     0            0     1   0           0  2012-01-25 14:37:06      0   \n",
       "34     0            1     1   0           0  2012-03-06 09:03:41      0   \n",
       "35     0            0     1   0           1  2012-03-25 14:08:44      0   \n",
       "36     0            0     1   0           0  2012-02-14 16:17:09      0   \n",
       "37     0            0     1   0           0  2012-03-01 02:00:01      0   \n",
       "38     0            0     1   0           0  2012-02-10 10:34:42      0   \n",
       "39     0            0     1   0           1  2012-01-12 13:44:54      0   \n",
       "40     0            1     1   0           0  2012-01-06 12:14:47      0   \n",
       "41     0            0     1   1           1  2012-03-21 08:39:21      0   \n",
       "42     0            0     1   0           1  2012-02-13 12:19:36      0   \n",
       "43     0            0     1   0           0  2012-01-25 14:18:37      0   \n",
       "44     0            0     1   0           0  2012-01-24 15:44:52      0   \n",
       "45     1            0     1   0           0  2012-02-29 15:36:55      0   \n",
       "46     0            1     1   0           0  2012-03-06 06:10:00      0   \n",
       "47     0            0     1   0           1  2012-03-14 10:08:27      0   \n",
       "48     0            0     1   1           1  2012-02-10 08:27:48      0   \n",
       "49     0            0     1   0           0  2012-01-04 10:27:36      0   \n",
       "\n",
       "    attach  dollar winner  ...  viagra  password  num_char  line_breaks  \\\n",
       "0        0       0     no  ...       0         0    21.705          551   \n",
       "1        0       0     no  ...       0         0     7.011          183   \n",
       "2        2       0     no  ...       0         0     0.631           28   \n",
       "3        0       0     no  ...       0         0     2.454           61   \n",
       "4        0       9     no  ...       0         1    41.623         1088   \n",
       "5        0       0     no  ...       0         0     0.057            5   \n",
       "6        0       0     no  ...       0         0     0.809           17   \n",
       "7        0       0     no  ...       0         0     5.229           88   \n",
       "8        0       0     no  ...       0         0     9.277          242   \n",
       "9        0      23     no  ...       0         0    17.170          578   \n",
       "10       0       4     no  ...       0         0    64.401         1167   \n",
       "11       0       0     no  ...       0         2    10.368          198   \n",
       "12       0       3    yes  ...       0         0    42.793          712   \n",
       "13       2       2     no  ...       0         0     0.451           24   \n",
       "14       0       0     no  ...       0         0    29.233          604   \n",
       "15       0       0     no  ...       0         0     9.794          197   \n",
       "16       0       0     no  ...       0         0     2.139           60   \n",
       "17       1       0     no  ...       0         0     0.130            5   \n",
       "18       0       0     no  ...       0         8     4.945          120   \n",
       "19       0       2     no  ...       0         0    11.533          291   \n",
       "20       0       0     no  ...       0         0     5.682           87   \n",
       "21       0       0     no  ...       0         0     6.768           81   \n",
       "22       0       0     no  ...       0         0     0.086            5   \n",
       "23       0       0     no  ...       0         0     3.070           65   \n",
       "24       0       2     no  ...       0         0    26.520          692   \n",
       "25       0       0     no  ...       0         0    26.255          654   \n",
       "26       0       0     no  ...       0         0     5.259          140   \n",
       "27       0       0     no  ...       0         0     2.780           69   \n",
       "28       0       0     no  ...       0         0     5.864          142   \n",
       "29       0       0     no  ...       0         0     9.928          219   \n",
       "30       0       0     no  ...       0         2    25.209          725   \n",
       "31       0       0     no  ...       0         0     6.563          140   \n",
       "32       0       0     no  ...       0         0    24.599          621   \n",
       "33       0       0     no  ...       0         0    25.757          645   \n",
       "34       0       0     no  ...       0         0     0.409           13   \n",
       "35       0       0     no  ...       0         0    11.223          512   \n",
       "36       0       0     no  ...       0         0     3.778           98   \n",
       "37       0       0     no  ...       0         2     1.493           35   \n",
       "38       0       0     no  ...       0         8    10.613          225   \n",
       "39       0       0     no  ...       0         0     0.493           13   \n",
       "40       0       0     no  ...       0         0     4.415           61   \n",
       "41       0       0     no  ...       0         0    14.156          300   \n",
       "42       0       0     no  ...       0         0     9.491          233   \n",
       "43       0       0     no  ...       0         0    24.837          629   \n",
       "44       0       0     no  ...       0         0     0.684           17   \n",
       "45       0       0     no  ...       0         0    13.502          193   \n",
       "46       0       0     no  ...       0         0     2.789           44   \n",
       "47       0       0     no  ...       0         0     1.169           35   \n",
       "48       0       0     no  ...       0         0     8.937          211   \n",
       "49       0       0     no  ...       0         0    15.829          242   \n",
       "\n",
       "    format  re_subj  exclaim_subj  urgent_subj  exclaim_mess  number  \n",
       "0        1        1             0            0             8   small  \n",
       "1        1        0             0            0             1     big  \n",
       "2        0        0             0            0             2    none  \n",
       "3        0        0             0            0             1   small  \n",
       "4        1        0             0            0            43   small  \n",
       "5        0        0             0            0             0   small  \n",
       "6        0        0             0            0             0   small  \n",
       "7        1        1             0            0             2   small  \n",
       "8        1        1             1            0            22   small  \n",
       "9        1        0             0            0             3   small  \n",
       "10       1        0             0            0            13   small  \n",
       "11       1        0             0            0             1     big  \n",
       "12       1        0             0            0             2     big  \n",
       "13       0        0             0            0             2   small  \n",
       "14       1        0             0            0            21   small  \n",
       "15       1        1             0            0            10   small  \n",
       "16       1        1             0            0             0   small  \n",
       "17       0        0             0            0             0    none  \n",
       "18       1        0             0            0             2   small  \n",
       "19       1        1             0            0             4   small  \n",
       "20       1        0             0            0             0   small  \n",
       "21       1        0             0            0             3   small  \n",
       "22       0        0             1            0             0    none  \n",
       "23       1        1             0            0             0   small  \n",
       "24       1        0             1            0             7     big  \n",
       "25       1        0             0            0             1   small  \n",
       "26       1        1             0            0             8   small  \n",
       "27       0        1             0            0             1   small  \n",
       "28       1        1             0            0             6   small  \n",
       "29       1        0             0            0             4   small  \n",
       "30       1        0             0            0             2   small  \n",
       "31       1        0             0            0             2     big  \n",
       "32       1        0             0            0             1   small  \n",
       "33       1        0             0            0             1   small  \n",
       "34       0        0             0            0             1   small  \n",
       "35       1        0             0            0             9     big  \n",
       "36       1        0             0            0             0   small  \n",
       "37       0        0             0            0             1    none  \n",
       "38       1        0             0            0             9     big  \n",
       "39       1        0             0            0             0    none  \n",
       "40       0        0             0            0             1   small  \n",
       "41       1        1             0            0             0   small  \n",
       "42       1        1             0            0            18   small  \n",
       "43       1        0             0            0             1   small  \n",
       "44       1        0             0            0             1   small  \n",
       "45       0        0             0            0             1    none  \n",
       "46       0        0             0            0             0   small  \n",
       "47       1        1             0            0             0   small  \n",
       "48       1        1             0            0             2   small  \n",
       "49       1        0             0            0             4   small  \n",
       "\n",
       "[50 rows x 21 columns]"
      ]
     },
     "metadata": {},
     "output_type": "display_data"
    }
   ],
   "source": [
    "dbe = pd.read_csv('Data sets\\\\SP03\\\\email50.txt', encoding='utf-8', sep='\\t')\n",
    "display(dbe)\n",
    "#dbe = pd.read_csv('Data sets\\\\SP03\\\\email50.txt', delim_whitespace=True, index_col=0)\n",
    "#display(dbe)\n"
   ]
  },
  {
   "cell_type": "code",
   "execution_count": 92,
   "id": "94e623e0",
   "metadata": {},
   "outputs": [
    {
     "data": {
      "text/plain": [
       "(50, 21)"
      ]
     },
     "execution_count": 92,
     "metadata": {},
     "output_type": "execute_result"
    }
   ],
   "source": [
    "dbe.shape"
   ]
  },
  {
   "cell_type": "code",
   "execution_count": 93,
   "id": "b661458f",
   "metadata": {},
   "outputs": [
    {
     "data": {
      "text/html": [
       "<div>\n",
       "<style scoped>\n",
       "    .dataframe tbody tr th:only-of-type {\n",
       "        vertical-align: middle;\n",
       "    }\n",
       "\n",
       "    .dataframe tbody tr th {\n",
       "        vertical-align: top;\n",
       "    }\n",
       "\n",
       "    .dataframe thead th {\n",
       "        text-align: right;\n",
       "    }\n",
       "</style>\n",
       "<table border=\"1\" class=\"dataframe\">\n",
       "  <thead>\n",
       "    <tr style=\"text-align: right;\">\n",
       "      <th></th>\n",
       "      <th>spam</th>\n",
       "      <th>to_multiple</th>\n",
       "      <th>from</th>\n",
       "      <th>cc</th>\n",
       "      <th>sent_email</th>\n",
       "      <th>time</th>\n",
       "      <th>image</th>\n",
       "      <th>attach</th>\n",
       "      <th>dollar</th>\n",
       "      <th>winner</th>\n",
       "      <th>...</th>\n",
       "      <th>viagra</th>\n",
       "      <th>password</th>\n",
       "      <th>num_char</th>\n",
       "      <th>line_breaks</th>\n",
       "      <th>format</th>\n",
       "      <th>re_subj</th>\n",
       "      <th>exclaim_subj</th>\n",
       "      <th>urgent_subj</th>\n",
       "      <th>exclaim_mess</th>\n",
       "      <th>number</th>\n",
       "    </tr>\n",
       "  </thead>\n",
       "  <tbody>\n",
       "    <tr>\n",
       "      <th>0</th>\n",
       "      <td>0</td>\n",
       "      <td>0</td>\n",
       "      <td>1</td>\n",
       "      <td>0</td>\n",
       "      <td>1</td>\n",
       "      <td>2012-01-04 05:19:16</td>\n",
       "      <td>0</td>\n",
       "      <td>0</td>\n",
       "      <td>0</td>\n",
       "      <td>no</td>\n",
       "      <td>...</td>\n",
       "      <td>0</td>\n",
       "      <td>0</td>\n",
       "      <td>21.705</td>\n",
       "      <td>551</td>\n",
       "      <td>1</td>\n",
       "      <td>1</td>\n",
       "      <td>0</td>\n",
       "      <td>0</td>\n",
       "      <td>8</td>\n",
       "      <td>small</td>\n",
       "    </tr>\n",
       "    <tr>\n",
       "      <th>1</th>\n",
       "      <td>0</td>\n",
       "      <td>0</td>\n",
       "      <td>1</td>\n",
       "      <td>0</td>\n",
       "      <td>0</td>\n",
       "      <td>2012-02-16 12:10:06</td>\n",
       "      <td>0</td>\n",
       "      <td>0</td>\n",
       "      <td>0</td>\n",
       "      <td>no</td>\n",
       "      <td>...</td>\n",
       "      <td>0</td>\n",
       "      <td>0</td>\n",
       "      <td>7.011</td>\n",
       "      <td>183</td>\n",
       "      <td>1</td>\n",
       "      <td>0</td>\n",
       "      <td>0</td>\n",
       "      <td>0</td>\n",
       "      <td>1</td>\n",
       "      <td>big</td>\n",
       "    </tr>\n",
       "    <tr>\n",
       "      <th>2</th>\n",
       "      <td>1</td>\n",
       "      <td>0</td>\n",
       "      <td>1</td>\n",
       "      <td>4</td>\n",
       "      <td>0</td>\n",
       "      <td>2012-01-04 07:36:23</td>\n",
       "      <td>0</td>\n",
       "      <td>2</td>\n",
       "      <td>0</td>\n",
       "      <td>no</td>\n",
       "      <td>...</td>\n",
       "      <td>0</td>\n",
       "      <td>0</td>\n",
       "      <td>0.631</td>\n",
       "      <td>28</td>\n",
       "      <td>0</td>\n",
       "      <td>0</td>\n",
       "      <td>0</td>\n",
       "      <td>0</td>\n",
       "      <td>2</td>\n",
       "      <td>none</td>\n",
       "    </tr>\n",
       "    <tr>\n",
       "      <th>3</th>\n",
       "      <td>0</td>\n",
       "      <td>0</td>\n",
       "      <td>1</td>\n",
       "      <td>0</td>\n",
       "      <td>0</td>\n",
       "      <td>2012-01-04 09:49:52</td>\n",
       "      <td>0</td>\n",
       "      <td>0</td>\n",
       "      <td>0</td>\n",
       "      <td>no</td>\n",
       "      <td>...</td>\n",
       "      <td>0</td>\n",
       "      <td>0</td>\n",
       "      <td>2.454</td>\n",
       "      <td>61</td>\n",
       "      <td>0</td>\n",
       "      <td>0</td>\n",
       "      <td>0</td>\n",
       "      <td>0</td>\n",
       "      <td>1</td>\n",
       "      <td>small</td>\n",
       "    </tr>\n",
       "    <tr>\n",
       "      <th>4</th>\n",
       "      <td>0</td>\n",
       "      <td>0</td>\n",
       "      <td>1</td>\n",
       "      <td>0</td>\n",
       "      <td>0</td>\n",
       "      <td>2012-01-27 01:34:45</td>\n",
       "      <td>0</td>\n",
       "      <td>0</td>\n",
       "      <td>9</td>\n",
       "      <td>no</td>\n",
       "      <td>...</td>\n",
       "      <td>0</td>\n",
       "      <td>1</td>\n",
       "      <td>41.623</td>\n",
       "      <td>1088</td>\n",
       "      <td>1</td>\n",
       "      <td>0</td>\n",
       "      <td>0</td>\n",
       "      <td>0</td>\n",
       "      <td>43</td>\n",
       "      <td>small</td>\n",
       "    </tr>\n",
       "  </tbody>\n",
       "</table>\n",
       "<p>5 rows × 21 columns</p>\n",
       "</div>"
      ],
      "text/plain": [
       "   spam  to_multiple  from  cc  sent_email                 time  image  \\\n",
       "0     0            0     1   0           1  2012-01-04 05:19:16      0   \n",
       "1     0            0     1   0           0  2012-02-16 12:10:06      0   \n",
       "2     1            0     1   4           0  2012-01-04 07:36:23      0   \n",
       "3     0            0     1   0           0  2012-01-04 09:49:52      0   \n",
       "4     0            0     1   0           0  2012-01-27 01:34:45      0   \n",
       "\n",
       "   attach  dollar winner  ...  viagra  password  num_char  line_breaks  \\\n",
       "0       0       0     no  ...       0         0    21.705          551   \n",
       "1       0       0     no  ...       0         0     7.011          183   \n",
       "2       2       0     no  ...       0         0     0.631           28   \n",
       "3       0       0     no  ...       0         0     2.454           61   \n",
       "4       0       9     no  ...       0         1    41.623         1088   \n",
       "\n",
       "   format  re_subj  exclaim_subj  urgent_subj  exclaim_mess  number  \n",
       "0       1        1             0            0             8   small  \n",
       "1       1        0             0            0             1     big  \n",
       "2       0        0             0            0             2    none  \n",
       "3       0        0             0            0             1   small  \n",
       "4       1        0             0            0            43   small  \n",
       "\n",
       "[5 rows x 21 columns]"
      ]
     },
     "execution_count": 93,
     "metadata": {},
     "output_type": "execute_result"
    }
   ],
   "source": [
    "dbe.head()"
   ]
  },
  {
   "cell_type": "code",
   "execution_count": 94,
   "id": "96258f26",
   "metadata": {
    "run_control": {
     "marked": false
    },
    "scrolled": true
   },
   "outputs": [
    {
     "data": {
      "image/png": "[encoded data removed]",
      "text/plain": [
       "<Figure size 432x288 with 1 Axes>"
      ]
     },
     "metadata": {
      "needs_background": "light"
     },
     "output_type": "display_data"
    }
   ],
   "source": [
    "\n",
    "# Create data\n",
    "x = dbe['num_char']#dbe.num_char\n",
    "y = dbe.line_breaks\n",
    "\n",
    "colors = \"Orange\"\n",
    "area = np.pi*20\n",
    "plt.axis([0, 70, 0, 1200])\n",
    "\n",
    "# Plot\n",
    "plt.scatter(x, y, s=area, c=colors, alpha=0.4, edgecolors='black')\n",
    "plt.title('Spam email - # Lines vs # Characters')\n",
    "plt.ylabel('Number of Lines')\n",
    "plt.xlabel('Number of Characters (in thousands)')\n",
    "plt.show()"
   ]
  },
  {
   "cell_type": "code",
   "execution_count": 95,
   "id": "2005a599",
   "metadata": {},
   "outputs": [
    {
     "data": {
      "image/png": "[encoded data removed]",
      "text/plain": [
       "<Figure size 224x216 with 1 Axes>"
      ]
     },
     "metadata": {
      "needs_background": "light"
     },
     "output_type": "display_data"
    }
   ],
   "source": [
    "# Call Function create a plot with Seaborn\n",
    "fig2 = plotSnsScatterplot (dbe, \n",
    "                          'line_breaks', \n",
    "                          'num_char',\n",
    "                          'Spam email - # Lines vs # Characters',\n",
    "                          'Number of Lines',\n",
    "                          'Number of Characters (in thousands)')"
   ]
  },
  {
   "cell_type": "markdown",
   "id": "8ecd0e27",
   "metadata": {
    "run_control": {
     "marked": true
    }
   },
   "source": [
    "To put the <span style=color:orange>number of characters</span> in perspective, this paragraph has \n",
    "<b>363</b> characters. Looking at <span style=color:orange>scatterplot</span>, it seems that some\n",
    "emails are incredibly verbose!. Upon further investigation, we would actually find that most of the\n",
    "long emails use the <b>HTML format</b>, which means most of the characters in those emails are used to <b>format the email</b> rather than <b>provide text</b>."
   ]
  },
  {
   "cell_type": "code",
   "execution_count": 96,
   "id": "e12e7622",
   "metadata": {},
   "outputs": [],
   "source": [
    "dbcars = pd.read_csv('Data sets\\\\SP03\\\\\\cars.txt',\n",
    "                encoding='utf-8', sep='\\t')\n",
    "                "
   ]
  },
  {
   "cell_type": "markdown",
   "id": "c35eb952",
   "metadata": {
    "run_control": {
     "marked": true
    }
   },
   "source": [
    "Let's consider a new dataset $cars$ of 54 $cars$ with 6 variables. Create scatterplot to examine how $vehicle$ $price$ and $weight$ are related.  \n",
    "\n",
    "What can be said about the relationship between these variables?"
   ]
  },
  {
   "cell_type": "code",
   "execution_count": 97,
   "id": "7af5a599",
   "metadata": {
    "ExecuteTime": {
     "end_time": "2021-01-20T17:00:30.396943Z",
     "start_time": "2021-01-20T17:00:30.390959Z"
    }
   },
   "outputs": [
    {
     "data": {
      "text/plain": [
       "(54, 6)"
      ]
     },
     "execution_count": 97,
     "metadata": {},
     "output_type": "execute_result"
    }
   ],
   "source": [
    "dbcars.shape"
   ]
  },
  {
   "cell_type": "code",
   "execution_count": 98,
   "id": "3780b95a",
   "metadata": {
    "ExecuteTime": {
     "end_time": "2021-01-20T17:00:33.918931Z",
     "start_time": "2021-01-20T17:00:33.902973Z"
    }
   },
   "outputs": [
    {
     "data": {
      "text/html": [
       "<div>\n",
       "<style scoped>\n",
       "    .dataframe tbody tr th:only-of-type {\n",
       "        vertical-align: middle;\n",
       "    }\n",
       "\n",
       "    .dataframe tbody tr th {\n",
       "        vertical-align: top;\n",
       "    }\n",
       "\n",
       "    .dataframe thead th {\n",
       "        text-align: right;\n",
       "    }\n",
       "</style>\n",
       "<table border=\"1\" class=\"dataframe\">\n",
       "  <thead>\n",
       "    <tr style=\"text-align: right;\">\n",
       "      <th></th>\n",
       "      <th>type</th>\n",
       "      <th>price</th>\n",
       "      <th>mpgCity</th>\n",
       "      <th>driveTrain</th>\n",
       "      <th>passengers</th>\n",
       "      <th>weight</th>\n",
       "    </tr>\n",
       "  </thead>\n",
       "  <tbody>\n",
       "    <tr>\n",
       "      <th>0</th>\n",
       "      <td>small</td>\n",
       "      <td>15.9</td>\n",
       "      <td>25</td>\n",
       "      <td>front</td>\n",
       "      <td>5</td>\n",
       "      <td>2705</td>\n",
       "    </tr>\n",
       "    <tr>\n",
       "      <th>1</th>\n",
       "      <td>midsize</td>\n",
       "      <td>33.9</td>\n",
       "      <td>18</td>\n",
       "      <td>front</td>\n",
       "      <td>5</td>\n",
       "      <td>3560</td>\n",
       "    </tr>\n",
       "    <tr>\n",
       "      <th>2</th>\n",
       "      <td>midsize</td>\n",
       "      <td>37.7</td>\n",
       "      <td>19</td>\n",
       "      <td>front</td>\n",
       "      <td>6</td>\n",
       "      <td>3405</td>\n",
       "    </tr>\n",
       "    <tr>\n",
       "      <th>3</th>\n",
       "      <td>midsize</td>\n",
       "      <td>30.0</td>\n",
       "      <td>22</td>\n",
       "      <td>rear</td>\n",
       "      <td>4</td>\n",
       "      <td>3640</td>\n",
       "    </tr>\n",
       "    <tr>\n",
       "      <th>4</th>\n",
       "      <td>midsize</td>\n",
       "      <td>15.7</td>\n",
       "      <td>22</td>\n",
       "      <td>front</td>\n",
       "      <td>6</td>\n",
       "      <td>2880</td>\n",
       "    </tr>\n",
       "  </tbody>\n",
       "</table>\n",
       "</div>"
      ],
      "text/plain": [
       "      type  price  mpgCity driveTrain  passengers  weight\n",
       "0    small   15.9       25      front           5    2705\n",
       "1  midsize   33.9       18      front           5    3560\n",
       "2  midsize   37.7       19      front           6    3405\n",
       "3  midsize   30.0       22       rear           4    3640\n",
       "4  midsize   15.7       22      front           6    2880"
      ]
     },
     "execution_count": 98,
     "metadata": {},
     "output_type": "execute_result"
    }
   ],
   "source": [
    "dbcars.head()"
   ]
  },
  {
   "cell_type": "code",
   "execution_count": 99,
   "id": "5f11fccf",
   "metadata": {},
   "outputs": [
    {
     "data": {
      "text/plain": [
       "type           object\n",
       "price         float64\n",
       "mpgCity         int64\n",
       "driveTrain     object\n",
       "passengers      int64\n",
       "weight          int64\n",
       "dtype: object"
      ]
     },
     "execution_count": 99,
     "metadata": {},
     "output_type": "execute_result"
    }
   ],
   "source": [
    "# Checking dataset variables\n",
    "dbcars.dtypes"
   ]
  },
  {
   "cell_type": "code",
   "execution_count": 100,
   "id": "8bea2d4a",
   "metadata": {
    "ExecuteTime": {
     "end_time": "2021-01-20T17:03:40.008163Z",
     "start_time": "2021-01-20T17:03:40.002179Z"
    },
    "run_control": {
     "marked": true
    }
   },
   "outputs": [
    {
     "data": {
      "text/plain": [
       "array(['small', 'midsize', 'large'], dtype=object)"
      ]
     },
     "execution_count": 100,
     "metadata": {},
     "output_type": "execute_result"
    }
   ],
   "source": [
    "# Categorical Variables\n",
    "dbcars.type.unique()"
   ]
  },
  {
   "cell_type": "code",
   "execution_count": 101,
   "id": "a5332fc2",
   "metadata": {
    "ExecuteTime": {
     "end_time": "2021-01-20T17:04:20.810857Z",
     "start_time": "2021-01-20T17:04:20.803365Z"
    }
   },
   "outputs": [
    {
     "data": {
      "text/html": [
       "<div>\n",
       "<style scoped>\n",
       "    .dataframe tbody tr th:only-of-type {\n",
       "        vertical-align: middle;\n",
       "    }\n",
       "\n",
       "    .dataframe tbody tr th {\n",
       "        vertical-align: top;\n",
       "    }\n",
       "\n",
       "    .dataframe thead th {\n",
       "        text-align: right;\n",
       "    }\n",
       "</style>\n",
       "<table border=\"1\" class=\"dataframe\">\n",
       "  <thead>\n",
       "    <tr style=\"text-align: right;\">\n",
       "      <th></th>\n",
       "      <th>price</th>\n",
       "      <th>mpgCity</th>\n",
       "      <th>passengers</th>\n",
       "      <th>weight</th>\n",
       "    </tr>\n",
       "  </thead>\n",
       "  <tbody>\n",
       "    <tr>\n",
       "      <th>count</th>\n",
       "      <td>54.000000</td>\n",
       "      <td>54.000000</td>\n",
       "      <td>54.000000</td>\n",
       "      <td>54.000000</td>\n",
       "    </tr>\n",
       "    <tr>\n",
       "      <th>mean</th>\n",
       "      <td>19.992593</td>\n",
       "      <td>23.314815</td>\n",
       "      <td>5.111111</td>\n",
       "      <td>3037.407407</td>\n",
       "    </tr>\n",
       "    <tr>\n",
       "      <th>std</th>\n",
       "      <td>11.506452</td>\n",
       "      <td>6.624210</td>\n",
       "      <td>0.691366</td>\n",
       "      <td>657.664350</td>\n",
       "    </tr>\n",
       "    <tr>\n",
       "      <th>min</th>\n",
       "      <td>7.400000</td>\n",
       "      <td>16.000000</td>\n",
       "      <td>4.000000</td>\n",
       "      <td>1695.000000</td>\n",
       "    </tr>\n",
       "    <tr>\n",
       "      <th>25%</th>\n",
       "      <td>10.950000</td>\n",
       "      <td>19.000000</td>\n",
       "      <td>5.000000</td>\n",
       "      <td>2452.500000</td>\n",
       "    </tr>\n",
       "    <tr>\n",
       "      <th>50%</th>\n",
       "      <td>17.250000</td>\n",
       "      <td>21.000000</td>\n",
       "      <td>5.000000</td>\n",
       "      <td>3197.500000</td>\n",
       "    </tr>\n",
       "    <tr>\n",
       "      <th>75%</th>\n",
       "      <td>26.250000</td>\n",
       "      <td>28.000000</td>\n",
       "      <td>6.000000</td>\n",
       "      <td>3522.500000</td>\n",
       "    </tr>\n",
       "    <tr>\n",
       "      <th>max</th>\n",
       "      <td>61.900000</td>\n",
       "      <td>46.000000</td>\n",
       "      <td>6.000000</td>\n",
       "      <td>4105.000000</td>\n",
       "    </tr>\n",
       "  </tbody>\n",
       "</table>\n",
       "</div>"
      ],
      "text/plain": [
       "           price    mpgCity  passengers       weight\n",
       "count  54.000000  54.000000   54.000000    54.000000\n",
       "mean   19.992593  23.314815    5.111111  3037.407407\n",
       "std    11.506452   6.624210    0.691366   657.664350\n",
       "min     7.400000  16.000000    4.000000  1695.000000\n",
       "25%    10.950000  19.000000    5.000000  2452.500000\n",
       "50%    17.250000  21.000000    5.000000  3197.500000\n",
       "75%    26.250000  28.000000    6.000000  3522.500000\n",
       "max    61.900000  46.000000    6.000000  4105.000000"
      ]
     },
     "execution_count": 101,
     "metadata": {},
     "output_type": "execute_result"
    }
   ],
   "source": [
    "dbcars.describe()"
   ]
  },
  {
   "cell_type": "code",
   "execution_count": 102,
   "id": "f38f7e90",
   "metadata": {
    "ExecuteTime": {
     "end_time": "2021-01-20T17:03:40.008163Z",
     "start_time": "2021-01-20T17:03:40.002179Z"
    }
   },
   "outputs": [
    {
     "data": {
      "text/plain": [
       "array(['small', 'midsize', 'large'], dtype=object)"
      ]
     },
     "execution_count": 102,
     "metadata": {},
     "output_type": "execute_result"
    }
   ],
   "source": [
    "# Categorical Variables\n",
    "dbcars.type.unique()"
   ]
  },
  {
   "cell_type": "code",
   "execution_count": 103,
   "id": "6b931eda",
   "metadata": {
    "ExecuteTime": {
     "end_time": "2021-01-20T17:04:20.810857Z",
     "start_time": "2021-01-20T17:04:20.803365Z"
    }
   },
   "outputs": [
    {
     "data": {
      "text/plain": [
       "array(['front', 'rear', '4WD'], dtype=object)"
      ]
     },
     "execution_count": 103,
     "metadata": {},
     "output_type": "execute_result"
    }
   ],
   "source": [
    "# Categorical Variables\n",
    "dbcars.driveTrain.unique()"
   ]
  },
  {
   "cell_type": "code",
   "execution_count": 104,
   "id": "ae15ff88",
   "metadata": {},
   "outputs": [
    {
     "data": {
      "text/plain": [
       "Text(0.5, 0, 'Weight (Pounds)')"
      ]
     },
     "execution_count": 104,
     "metadata": {},
     "output_type": "execute_result"
    },
    {
     "data": {
      "image/png": "[encoded data removed]",
      "text/plain": [
       "<Figure size 432x288 with 1 Axes>"
      ]
     },
     "metadata": {
      "needs_background": "light"
     },
     "output_type": "display_data"
    }
   ],
   "source": [
    "# Create data\n",
    "x = dbcars.weight\n",
    "y = dbcars.price\n",
    "\n",
    "colors = \"Blue\"\n",
    "area = np.pi*15\n",
    "\n",
    "# Plot\n",
    "plt.scatter(x, y, s=area, c=colors, alpha=0.4, edgecolors='black')\n",
    "plt.title('Cars - Price vs Weight')\n",
    "plt.ylabel('Price ($1000s)')\n",
    "plt.xlabel('Weight (Pounds)')"
   ]
  },
  {
   "cell_type": "code",
   "execution_count": 105,
   "id": "c4bc486c",
   "metadata": {
    "code_folding": [],
    "run_control": {
     "marked": false
    }
   },
   "outputs": [
    {
     "data": {
      "image/png": "[encoded data removed]",
      "text/plain": [
       "<Figure size 224x216 with 1 Axes>"
      ]
     },
     "metadata": {
      "needs_background": "light"
     },
     "output_type": "display_data"
    }
   ],
   "source": [
    "# Call Function create a plot with Seaborn\n",
    "fig3 = plotSnsScatterplot (dbcars, \n",
    "                          'weight', \n",
    "                          'price',\n",
    "                          'Cars - Price vs Weight',\n",
    "                          'Price ($1000s)',\n",
    "                          'Weight (Pounds)')"
   ]
  },
  {
   "cell_type": "markdown",
   "id": "a633f2b3",
   "metadata": {},
   "source": [
    "The relationship is <span style=color:orange>evidently nonlinear</span>."
   ]
  },
  {
   "cell_type": "code",
   "execution_count": 106,
   "id": "2005b02e",
   "metadata": {},
   "outputs": [
    {
     "data": {
      "image/png": "[encoded data removed]",
      "text/plain": [
       "<Figure size 1080x288 with 3 Axes>"
      ]
     },
     "metadata": {
      "needs_background": "light"
     },
     "output_type": "display_data"
    }
   ],
   "source": [
    "fig = plt.figure(figsize=(15,4))\n",
    "\n",
    "ax1 = fig.add_subplot(1, 3, 1)\n",
    "\n",
    "# Create data\n",
    "x = tips.total_bill  #total_bill\n",
    "y = tips.tip\n",
    "colors = 'darkOrange'\n",
    "area = np.pi*5\n",
    "\n",
    "plt.axis([0, 100, 0, 60])\n",
    "\n",
    "# Plot\n",
    "ax1.scatter(x, y, s=area, c=colors, alpha=0.4, edgecolors='black')\n",
    "\n",
    "plt.title('Tips vs Total Bill')\n",
    "plt.ylabel('Quantity of Tip')\n",
    "plt.xlabel('Total Bill')\n",
    "\n",
    "ax2 = fig.add_subplot(1, 3, 2)\n",
    "# Create data\n",
    "x = dbe.num_char\n",
    "y = dbe.line_breaks\n",
    "\n",
    "colors = \"Red\"\n",
    "area = np.pi*20\n",
    "plt.axis([0, 70, 0, 1200])\n",
    "\n",
    "# Plot\n",
    "ax2.scatter(x, y, s=area, c=colors, alpha=0.4, edgecolors='black')\n",
    "plt.title('Spam email Dataset')\n",
    "plt.ylabel('# of Lines')\n",
    "plt.xlabel('# of Characters (in thousands)')\n",
    "\n",
    "ax3 = fig.add_subplot(1, 3, 3)\n",
    "# Create data\n",
    "x = dbcars.weight\n",
    "y = dbcars.price\n",
    "\n",
    "colors = \"Orange\"\n",
    "area = np.pi*30\n",
    "plt.axis([1500, 4300, 0, 65])\n",
    "\n",
    "# Plot\n",
    "ax3.scatter(x, y, s=area, c=colors, alpha=0.4, edgecolors='green')\n",
    "plt.title('Cars Dataset')\n",
    "plt.ylabel('Price ($1000s)')\n",
    "plt.xlabel('Weight (Pounds)')\n",
    "\n",
    "# plt.tight_layout(pad=0.4, w_pad=0.5, h_pad=1.0)\n",
    "plt.tight_layout()"
   ]
  },
  {
   "cell_type": "markdown",
   "id": "7d3ae0d9",
   "metadata": {},
   "source": [
    "### <span style=color:orange>MATRIX PLOTS</span>"
   ]
  },
  {
   "cell_type": "code",
   "execution_count": 107,
   "id": "ae0eddd2",
   "metadata": {},
   "outputs": [
    {
     "data": {
      "text/plain": [
       "<seaborn.axisgrid.PairGrid at 0x1ca7c3cf9d0>"
      ]
     },
     "execution_count": 107,
     "metadata": {},
     "output_type": "execute_result"
    },
    {
     "data": {
      "image/png": "[encoded data removed]",
      "text/plain": [
       "<Figure size 540x540 with 12 Axes>"
      ]
     },
     "metadata": {
      "needs_background": "light"
     },
     "output_type": "display_data"
    }
   ],
   "source": [
    "# Matrix Plot\n",
    "sns.pairplot(tips, diag_kind='hist', plot_kws={'alpha': 0.2})"
   ]
  },
  {
   "cell_type": "markdown",
   "id": "bbee0a46",
   "metadata": {},
   "source": [
    "## <span style=color:orange>HISTOGRAMS</span>"
   ]
  },
  {
   "cell_type": "markdown",
   "id": "711d1702",
   "metadata": {},
   "source": [
    "Dot plots, like in <span style=color:orange>scatterplot</span>, show the <span style=color:orange><b>exact value for each observation</b></span>. This is useful for <b><i>small datasets</i></b>, but they can become hard to read with <b>larger samples</b>. \n",
    "\n",
    "Rather than showing the <span style=color:orange><i>value of each observation</i></span>, we prefer to think of the value as belonging to a <span style=color:orange><b>bin</b></span>.   \n",
    "\n",
    "These <span style=color:orange><b>bins</span> - ***(counts)*** are plotted as <span style=color:orange><u>bars</u></span> into what is called a <span style=color:orange><b><u>Histogram</u></b></span>."
   ]
  },
  {
   "cell_type": "markdown",
   "id": "57067bc4",
   "metadata": {},
   "source": [
    "<span style=color:orange><b><u>Histogram</u></b></span> provide a view of the <span style=color:orange>data density</span>. Higher bars represent where the data are relatively more common.\n",
    "\n",
    "<span style=color:orange><b><u>Histogram</u></b></span> are especially convenient for describing the <span style=color:orange><i>shape of the data distribution</i></span>.\n",
    "\n",
    "- When data <b>trail off</b> to the right and have a longer right tail, the shape is said to be\n",
    "<span style=color:orange><b><u>Right Skewed</u></b></span> or also called <span style=color:orange><b><u>Skewed to the Positive End</u></b></span>.   \n",
    "$%$   \n",
    "- Contrary, data with the <b>reverse</b> characteristic – <i>a long, thin tail to the left</i> – are said to be <span style=color:orange><b><u>Left Skewed</u></b></span>. We also say that such a distribution has a <span style=color:orange>long left tail</span>.   \n",
    "$%$   \n",
    "- Data that show roughly <b>equal</b> trailing off in both directions are called <span style=color:orange><b><u>Symmetric</u></b></span>."
   ]
  },
  {
   "cell_type": "code",
   "execution_count": 108,
   "id": "b123b39c",
   "metadata": {},
   "outputs": [
    {
     "data": {
      "text/html": [
       "<div>\n",
       "<style scoped>\n",
       "    .dataframe tbody tr th:only-of-type {\n",
       "        vertical-align: middle;\n",
       "    }\n",
       "\n",
       "    .dataframe tbody tr th {\n",
       "        vertical-align: top;\n",
       "    }\n",
       "\n",
       "    .dataframe thead th {\n",
       "        text-align: right;\n",
       "    }\n",
       "</style>\n",
       "<table border=\"1\" class=\"dataframe\">\n",
       "  <thead>\n",
       "    <tr style=\"text-align: right;\">\n",
       "      <th></th>\n",
       "      <th>spam</th>\n",
       "      <th>to_multiple</th>\n",
       "      <th>from</th>\n",
       "      <th>cc</th>\n",
       "      <th>sent_email</th>\n",
       "      <th>image</th>\n",
       "      <th>attach</th>\n",
       "      <th>dollar</th>\n",
       "      <th>inherit</th>\n",
       "      <th>viagra</th>\n",
       "      <th>password</th>\n",
       "      <th>num_char</th>\n",
       "      <th>line_breaks</th>\n",
       "      <th>format</th>\n",
       "      <th>re_subj</th>\n",
       "      <th>exclaim_subj</th>\n",
       "      <th>urgent_subj</th>\n",
       "      <th>exclaim_mess</th>\n",
       "    </tr>\n",
       "  </thead>\n",
       "  <tbody>\n",
       "    <tr>\n",
       "      <th>count</th>\n",
       "      <td>50.000000</td>\n",
       "      <td>50.00000</td>\n",
       "      <td>50.0</td>\n",
       "      <td>50.000000</td>\n",
       "      <td>50.000000</td>\n",
       "      <td>50.0</td>\n",
       "      <td>50.000000</td>\n",
       "      <td>50.000000</td>\n",
       "      <td>50.0</td>\n",
       "      <td>50.0</td>\n",
       "      <td>50.000000</td>\n",
       "      <td>50.000000</td>\n",
       "      <td>50.00000</td>\n",
       "      <td>50.000000</td>\n",
       "      <td>50.000000</td>\n",
       "      <td>50.000000</td>\n",
       "      <td>50.0</td>\n",
       "      <td>50.000000</td>\n",
       "    </tr>\n",
       "    <tr>\n",
       "      <th>mean</th>\n",
       "      <td>0.100000</td>\n",
       "      <td>0.14000</td>\n",
       "      <td>1.0</td>\n",
       "      <td>0.380000</td>\n",
       "      <td>0.320000</td>\n",
       "      <td>0.0</td>\n",
       "      <td>0.100000</td>\n",
       "      <td>0.900000</td>\n",
       "      <td>0.0</td>\n",
       "      <td>0.0</td>\n",
       "      <td>0.460000</td>\n",
       "      <td>11.598220</td>\n",
       "      <td>267.30000</td>\n",
       "      <td>0.740000</td>\n",
       "      <td>0.280000</td>\n",
       "      <td>0.060000</td>\n",
       "      <td>0.0</td>\n",
       "      <td>4.420000</td>\n",
       "    </tr>\n",
       "    <tr>\n",
       "      <th>std</th>\n",
       "      <td>0.303046</td>\n",
       "      <td>0.35051</td>\n",
       "      <td>0.0</td>\n",
       "      <td>1.085902</td>\n",
       "      <td>0.471212</td>\n",
       "      <td>0.0</td>\n",
       "      <td>0.416497</td>\n",
       "      <td>3.518174</td>\n",
       "      <td>0.0</td>\n",
       "      <td>0.0</td>\n",
       "      <td>1.631451</td>\n",
       "      <td>13.125261</td>\n",
       "      <td>290.81983</td>\n",
       "      <td>0.443087</td>\n",
       "      <td>0.453557</td>\n",
       "      <td>0.239898</td>\n",
       "      <td>0.0</td>\n",
       "      <td>7.661433</td>\n",
       "    </tr>\n",
       "    <tr>\n",
       "      <th>min</th>\n",
       "      <td>0.000000</td>\n",
       "      <td>0.00000</td>\n",
       "      <td>1.0</td>\n",
       "      <td>0.000000</td>\n",
       "      <td>0.000000</td>\n",
       "      <td>0.0</td>\n",
       "      <td>0.000000</td>\n",
       "      <td>0.000000</td>\n",
       "      <td>0.0</td>\n",
       "      <td>0.0</td>\n",
       "      <td>0.000000</td>\n",
       "      <td>0.057000</td>\n",
       "      <td>5.00000</td>\n",
       "      <td>0.000000</td>\n",
       "      <td>0.000000</td>\n",
       "      <td>0.000000</td>\n",
       "      <td>0.0</td>\n",
       "      <td>0.000000</td>\n",
       "    </tr>\n",
       "    <tr>\n",
       "      <th>25%</th>\n",
       "      <td>0.000000</td>\n",
       "      <td>0.00000</td>\n",
       "      <td>1.0</td>\n",
       "      <td>0.000000</td>\n",
       "      <td>0.000000</td>\n",
       "      <td>0.0</td>\n",
       "      <td>0.000000</td>\n",
       "      <td>0.000000</td>\n",
       "      <td>0.0</td>\n",
       "      <td>0.0</td>\n",
       "      <td>0.000000</td>\n",
       "      <td>2.535500</td>\n",
       "      <td>60.25000</td>\n",
       "      <td>0.250000</td>\n",
       "      <td>0.000000</td>\n",
       "      <td>0.000000</td>\n",
       "      <td>0.0</td>\n",
       "      <td>1.000000</td>\n",
       "    </tr>\n",
       "    <tr>\n",
       "      <th>50%</th>\n",
       "      <td>0.000000</td>\n",
       "      <td>0.00000</td>\n",
       "      <td>1.0</td>\n",
       "      <td>0.000000</td>\n",
       "      <td>0.000000</td>\n",
       "      <td>0.0</td>\n",
       "      <td>0.000000</td>\n",
       "      <td>0.000000</td>\n",
       "      <td>0.0</td>\n",
       "      <td>0.0</td>\n",
       "      <td>0.000000</td>\n",
       "      <td>6.889500</td>\n",
       "      <td>162.50000</td>\n",
       "      <td>1.000000</td>\n",
       "      <td>0.000000</td>\n",
       "      <td>0.000000</td>\n",
       "      <td>0.0</td>\n",
       "      <td>1.500000</td>\n",
       "    </tr>\n",
       "    <tr>\n",
       "      <th>75%</th>\n",
       "      <td>0.000000</td>\n",
       "      <td>0.00000</td>\n",
       "      <td>1.0</td>\n",
       "      <td>0.000000</td>\n",
       "      <td>1.000000</td>\n",
       "      <td>0.0</td>\n",
       "      <td>0.000000</td>\n",
       "      <td>0.000000</td>\n",
       "      <td>0.0</td>\n",
       "      <td>0.0</td>\n",
       "      <td>0.000000</td>\n",
       "      <td>15.410750</td>\n",
       "      <td>459.00000</td>\n",
       "      <td>1.000000</td>\n",
       "      <td>1.000000</td>\n",
       "      <td>0.000000</td>\n",
       "      <td>0.0</td>\n",
       "      <td>4.000000</td>\n",
       "    </tr>\n",
       "    <tr>\n",
       "      <th>max</th>\n",
       "      <td>1.000000</td>\n",
       "      <td>1.00000</td>\n",
       "      <td>1.0</td>\n",
       "      <td>5.000000</td>\n",
       "      <td>1.000000</td>\n",
       "      <td>0.0</td>\n",
       "      <td>2.000000</td>\n",
       "      <td>23.000000</td>\n",
       "      <td>0.0</td>\n",
       "      <td>0.0</td>\n",
       "      <td>8.000000</td>\n",
       "      <td>64.401000</td>\n",
       "      <td>1167.00000</td>\n",
       "      <td>1.000000</td>\n",
       "      <td>1.000000</td>\n",
       "      <td>1.000000</td>\n",
       "      <td>0.0</td>\n",
       "      <td>43.000000</td>\n",
       "    </tr>\n",
       "  </tbody>\n",
       "</table>\n",
       "</div>"
      ],
      "text/plain": [
       "            spam  to_multiple  from         cc  sent_email  image     attach  \\\n",
       "count  50.000000     50.00000  50.0  50.000000   50.000000   50.0  50.000000   \n",
       "mean    0.100000      0.14000   1.0   0.380000    0.320000    0.0   0.100000   \n",
       "std     0.303046      0.35051   0.0   1.085902    0.471212    0.0   0.416497   \n",
       "min     0.000000      0.00000   1.0   0.000000    0.000000    0.0   0.000000   \n",
       "25%     0.000000      0.00000   1.0   0.000000    0.000000    0.0   0.000000   \n",
       "50%     0.000000      0.00000   1.0   0.000000    0.000000    0.0   0.000000   \n",
       "75%     0.000000      0.00000   1.0   0.000000    1.000000    0.0   0.000000   \n",
       "max     1.000000      1.00000   1.0   5.000000    1.000000    0.0   2.000000   \n",
       "\n",
       "          dollar  inherit  viagra   password   num_char  line_breaks  \\\n",
       "count  50.000000     50.0    50.0  50.000000  50.000000     50.00000   \n",
       "mean    0.900000      0.0     0.0   0.460000  11.598220    267.30000   \n",
       "std     3.518174      0.0     0.0   1.631451  13.125261    290.81983   \n",
       "min     0.000000      0.0     0.0   0.000000   0.057000      5.00000   \n",
       "25%     0.000000      0.0     0.0   0.000000   2.535500     60.25000   \n",
       "50%     0.000000      0.0     0.0   0.000000   6.889500    162.50000   \n",
       "75%     0.000000      0.0     0.0   0.000000  15.410750    459.00000   \n",
       "max    23.000000      0.0     0.0   8.000000  64.401000   1167.00000   \n",
       "\n",
       "          format    re_subj  exclaim_subj  urgent_subj  exclaim_mess  \n",
       "count  50.000000  50.000000     50.000000         50.0     50.000000  \n",
       "mean    0.740000   0.280000      0.060000          0.0      4.420000  \n",
       "std     0.443087   0.453557      0.239898          0.0      7.661433  \n",
       "min     0.000000   0.000000      0.000000          0.0      0.000000  \n",
       "25%     0.250000   0.000000      0.000000          0.0      1.000000  \n",
       "50%     1.000000   0.000000      0.000000          0.0      1.500000  \n",
       "75%     1.000000   1.000000      0.000000          0.0      4.000000  \n",
       "max     1.000000   1.000000      1.000000          0.0     43.000000  "
      ]
     },
     "execution_count": 108,
     "metadata": {},
     "output_type": "execute_result"
    }
   ],
   "source": [
    "dbe.describe()"
   ]
  },
  {
   "cell_type": "code",
   "execution_count": 109,
   "id": "1145f0d1",
   "metadata": {},
   "outputs": [
    {
     "data": {
      "text/plain": [
       "Text(0.5, 0, '# Characters (in thousands)')"
      ]
     },
     "execution_count": 109,
     "metadata": {},
     "output_type": "execute_result"
    },
    {
     "data": {
      "image/png": "[encoded data removed]",
      "text/plain": [
       "<Figure size 432x288 with 1 Axes>"
      ]
     },
     "metadata": {
      "needs_background": "light"
     },
     "output_type": "display_data"
    }
   ],
   "source": [
    "dbe.hist(['num_char'], bins=14)\n",
    "plt.title('Spam email - # Characters')\n",
    "plt.ylabel('Frequency')\n",
    "plt.xlabel('# Characters (in thousands)')"
   ]
  },
  {
   "cell_type": "code",
   "execution_count": 111,
   "id": "c36d5dfd",
   "metadata": {},
   "outputs": [
    {
     "data": {
      "image/png": "[encoded data removed]",
      "text/plain": [
       "<Figure size 432x288 with 1 Axes>"
      ]
     },
     "metadata": {
      "needs_background": "light"
     },
     "output_type": "display_data"
    }
   ],
   "source": [
    "plot1 = plotSnsHistplot(tips, \n",
    "               'total_bill', \n",
    "               'tip',\n",
    "               'Tips vs Total Bill',\n",
    "               'Quantity of Tip',\n",
    "               'Total Bill',\n",
    "               30)"
   ]
  },
  {
   "cell_type": "markdown",
   "id": "1f230ed7",
   "metadata": {},
   "source": [
    "<div class=\"alert alert-warning alert-warning\"><b><u>Long tails to identify skew</u></b>\n",
    "\n",
    "When data trail off in one direction, the distribution has a <b>long tail</b>. If a distribution has a long left tail, it is <b>Left Skewed</b>. If a distribution has a long right tail, it is <b>Right Skewed</b>.\n",
    "</div>"
   ]
  },
  {
   "cell_type": "markdown",
   "id": "7a4bf600",
   "metadata": {},
   "source": [
    "### <span style=color:darkred>Modal Distribution</span>"
   ]
  },
  {
   "cell_type": "markdown",
   "id": "ee5caf32",
   "metadata": {},
   "source": [
    "In addition to looking at whether a distribution is <span style=color:orange>Skewed</span> or <span style=color:orange>Symmetric</span>, histograms can be used to identify <span style=color:orange><b>Modes</b></span>.   \n",
    "$%$   \n",
    "A <span style=color:orange><b>mode</b></span> is the <span style=color:orange><i>value with the <b>most occurrences</b></i></span>.   \n",
    "$%$   \n",
    "However, It is common to have <span style=color:red><b>no</b> observations</span> with the same value in a dataset, which makes, <span style=color:orange><b>mode</b></span>, <span style=color:red>useless</span> for many real datasets.\n",
    "\n",
    "A <span style=color:orange><b>mode</b></span> is represented by a prominent peak in the <span style=color:orange>distribution</span>. There is only one prominent peak in the histogram of <b>num_char</b>."
   ]
  },
  {
   "cell_type": "markdown",
   "id": "54032bc2",
   "metadata": {},
   "source": [
    "<span style=color:orange>Histogram</span> that have one, two, or three prominent peaks are called <span style=color:orange><b><u>Unimodal,$\\:$ Bimodal,$\\:$ and $\\:$ Multimodal,</u></b></span> respectively. \n",
    "\n",
    "Any <span style=color:orange>distribution</span> with more than 2 prominent peaks is called <span style=color:orange>Multimodal</span>. \n",
    "\n",
    "Notice that there was <b>one prominent peak</b> in the <span style=color:orange>Unimodal</span> distribution with a <b>second less prominent peak</b> that was <b><u>not counted</u></b> since it only differs from its neighboring <span style=color:orange><b>bins</b></span> by a few <span "
   ]
  },
  {
   "cell_type": "markdown",
   "id": "6afca467",
   "metadata": {
    "run_control": {
     "marked": true
    }
   },
   "source": [
    "![Images](Images/SP03.T02/Distribution_Small.png)"
   ]
  },
  {
   "cell_type": "markdown",
   "id": "31fafd3d",
   "metadata": {},
   "source": [
    "<div class=\"alert alert-warning alert-warning\"><b><u>Looking for modes</u></b>\n",
    "\n",
    "Looking for <b>modes</b> isn’t about finding a clear and correct answer about the number of <b>modes</b> in a <b>distribution</b>. \n",
    "\n",
    "The important part of this examination is to better understand your data and how it might be structured.</div>"
   ]
  },
  {
   "cell_type": "markdown",
   "id": "2a351c19",
   "metadata": {},
   "source": [
    "# <span style=color:darkorange>SUMMARY STATISTICS</span>"
   ]
  },
  {
   "cell_type": "markdown",
   "id": "1adab8ea",
   "metadata": {},
   "source": [
    "## <span style=color:darkgreen>Mean - Average</span>"
   ]
  },
  {
   "cell_type": "markdown",
   "id": "0774c5b8",
   "metadata": {},
   "source": [
    "The <span style=color:orange><b>mean</b></span>, sometimes called the <span style=color:orange><b>average</b></span>, is a common way to measure the <span style=color:orange><b>center of a distribution of data</b></span>. \n",
    "\n",
    "To find the <span style=color:orange><b>mean</b></span> <span style=color:orange>number of characters <b>(num_char)</b></span> in the <b>50</b> emails, we <b>add up</b> all the character counts and <b>divide</b> by the number of emails. \n",
    "\n",
    "For <b>computational convenience</b>, the number of characters is listed in the <b>thousands</b> and <b>rounded</b> to the first decimal."
   ]
  },
  {
   "cell_type": "markdown",
   "id": "3a0de3ac",
   "metadata": {},
   "source": [
    "\\begin{align*}\\bar{x}\\:=\\:\\frac{1.01+1.66\\:+\\:...\\:+\\:3.00}{244}\\:=\\: 3.0\\end{align*}"
   ]
  },
  {
   "cell_type": "code",
   "execution_count": 112,
   "id": "d370c54e",
   "metadata": {},
   "outputs": [
    {
     "name": "stdout",
     "output_type": "stream",
     "text": [
      "2.998\n"
     ]
    }
   ],
   "source": [
    "x = round(tips.tip.mean(),3)\n",
    "print (x)"
   ]
  },
  {
   "cell_type": "markdown",
   "id": "8d9d4f25",
   "metadata": {},
   "source": [
    "The <span style=color:orange><b>sample mean</b></span> is often labeled <span style=color:orange><b>$\\bar{x}$</b></span>. The tip <span style=color:orange><b>$x$</b></span> is being used as a <b>generic placeholder</b> for the variable of interest, $tip$, and the <b><i>bar over on the x</i></b> communicates that the <b>average</b> number of tips in the <b>245</b> bills is <b>3,0</b>. "
   ]
  },
  {
   "cell_type": "markdown",
   "id": "78bc93b8",
   "metadata": {},
   "source": [
    "<div class=\"alert alert-warning alert-warning\"><b><u>Mean</u></b>\n",
    "\n",
    "The <b><u>sample mean</u></b> <span style=color:orange><b>$\\bar{x}$</b></span> of a <em>numerical variable</em> is computed as the <b>sum</b> of all of the <em>observations</em> <b>divided</b> by the number of <em>observations</em>:   \n",
    "$%$   \n",
    "\\begin{align*}\\bar{x}\\:=\\:\\frac{x_1\\:+\\:x_2\\:+\\:· · ·\\:+\\:x_n}{n}\\end{align*}   \n",
    "$%$   \n",
    "where <b>$x_1$, $x_2$, . . . ,$x_n$</b> represent the <b>$n$</b> observed values.   \n",
    "$%$   \n",
    "<span style=color:darkred>It is useful to think of the <b>mean</b> as the <u>balancing point</u> of the <b>distribution</b>.</span>\n",
    "</div>"
   ]
  },
  {
   "cell_type": "markdown",
   "id": "67b899c8",
   "metadata": {},
   "source": [
    "<span style=color:red><b><u>EXERCISE - 3.1</u></b></span> \n",
    "\n",
    "Compare both Equations above. \n",
    "\n",
    "* What does $x_1$ correspond to ?,   \n",
    "* and **$x_2$** ?   \n",
    "* Can you infer a general meaning to what $x_i$ might represent?\n",
    "* What was $n$ in this sample of tips?"
   ]
  },
  {
   "cell_type": "markdown",
   "id": "458270ec",
   "metadata": {},
   "source": [
    "<span style=color:green><b><u>SOLUTION - 3.1</u></b></span> \n",
    "\n",
    "\n",
    "* $x_1$ corresponds to the quantity of tip in the first bill in the sample (1.01), \n",
    "* $x_2$ to the quanity fo tip in the second bill (1.66), and \n",
    "* $x_i$ corresponds to the number of tips in the $i^{th}$ bill in the dataset.\n",
    "* The sample size was $n$ = <b>245</b>."
   ]
  },
  {
   "cell_type": "markdown",
   "id": "b63446f7",
   "metadata": {},
   "source": [
    "<div class=\"alert alert-warning alert-warning\"><b><u>Population Mean</u></b>\n",
    "\n",
    "The <span style=color:orange><b><u>Population mean</u></b></span> has a special label :  <span style=color:orange>$\\mu$</span>. The symbol <span style=color:orange>$\\mu$</span> is the $Greek$ letter <span style=color:orange>$mu$</span> and represents the <span style=color:orange>average/mean of all observations in the <b>Population</b></span>.   \n",
    "$%$   \n",
    "Sometimes a subscript, such as <span style=color:orange><b>$_x$</b></span>, is used to represent which variable the <span style=color:orange><b>population mean</b></span> refers to, e.g. <span style=color:orange><b>$\\mu_x$</b></span>\n",
    "</div>"
   ]
  },
  {
   "cell_type": "markdown",
   "id": "96b8fc44",
   "metadata": {},
   "source": [
    "<span style=color:red><b><u>EXERCISE - 3.2</u></b></span>\n",
    "\n",
    "The <span style=color:orange>average</span> number of tips across all bills (<span style=color:orange><b>population</b></span>) can be estimated using the <span style=color:orange><b>sample data</b></span>.   \n",
    "\n",
    "Based on the <span style=color:orange>sample</span> of <b>245</b> $bills$, what would be a reasonable estimate of <span style=color:orange><b>$\\mu_x$</b></span>, the <span style=color:orange><b>mean</b></span> tip in all bills in the tips dataset? (Recall that $tips 245$ is a sample from $tips$.)"
   ]
  },
  {
   "cell_type": "markdown",
   "id": "034d9bf9",
   "metadata": {},
   "source": [
    "<span style=color:green><b><u>SOLUTION - 3.2</u></b></span>\n",
    "\n",
    "\n",
    "The <span style=color:orange>sample mean</span>, <b>3,0</b>, may provide a reasonable estimate of <span style=color:orange>$\\mu_x$</span>.   \n",
    "\n",
    "While this number will not be perfect, it provides a <span style=color:orange><em><b>point estimate</b></em></span> of the <span style=color:orange>population mean</span>."
   ]
  },
  {
   "cell_type": "markdown",
   "id": "4ecc49ec",
   "metadata": {},
   "source": [
    "## <span style=color:darkgreen>Variance and Standard Deviation</span>"
   ]
  },
  {
   "cell_type": "code",
   "execution_count": 113,
   "id": "2016a1fc",
   "metadata": {},
   "outputs": [
    {
     "data": {
      "text/plain": [
       "1.6146404995234076"
      ]
     },
     "execution_count": 113,
     "metadata": {},
     "output_type": "execute_result"
    }
   ],
   "source": [
    "tips.tip.mean()- tips.tip.std()"
   ]
  },
  {
   "cell_type": "markdown",
   "id": "443131a3",
   "metadata": {},
   "source": [
    "### <span style=color:darkred>Variance</span>"
   ]
  },
  {
   "cell_type": "markdown",
   "id": "ef596810",
   "metadata": {},
   "source": [
    "The <span style=color:orange><b>mean</b></span> was introduced as a method to describe the <span style=color:orange>center of a data set</span>, but the <span style=color:orange><b><u>variability in the data</u></b></span> is also <b>important</b>.   \n",
    "\n",
    "We introduce <span style=color:orange><b><u>two measures of variability</u></b></span>: the <span style=color:orange><b><u>Variance</u></b></span> and the <span style=color:orange><b><u>Standard Deviation</u></b></span>. Both are very useful in data analysis.   \n",
    "\n",
    "The <span style=color:orange><b>Standard Deviation</b></span> describes <b>how far away</b> the typical <b>observation</b> is from the <span style=color:orange>mean</span>."
   ]
  },
  {
   "cell_type": "markdown",
   "id": "0cf6e66f",
   "metadata": {},
   "source": [
    "We call the <span style=color:orange><em>distance of an observation from its mean</em></span> its <span style=color:orange><b><u>Deviation</u></b></span>. \n",
    "\n",
    "Below are the <b>deviations</b> for the 1st, 2nd, 3rd, and 245th observations in the <b>tip</b> variable. For computational convenience, the number of tips is listed in the thousands and rounded to the first decimal."
   ]
  },
  {
   "cell_type": "code",
   "execution_count": 114,
   "id": "4168bc50",
   "metadata": {},
   "outputs": [
    {
     "data": {
      "text/plain": [
       "1    1.66\n",
       "Name: tip, dtype: float64"
      ]
     },
     "execution_count": 114,
     "metadata": {},
     "output_type": "execute_result"
    }
   ],
   "source": [
    "tips.tip.iloc[[1], ]"
   ]
  },
  {
   "cell_type": "markdown",
   "id": "10bca087",
   "metadata": {},
   "source": [
    "\\begin{align*}x_1\\:−\\:\\bar{x} =1.01 − 3.0 = -1.99\\end{align*}\n",
    "\\begin{align*}x_2\\:−\\:\\bar{x} =\\hspace{2.5mm}1.66 − 3.0 = −1.34\\end{align*}\n",
    "\\begin{align*}x_3\\:−\\:\\bar{x} =\\hspace{2.5mm}3.5 − 3.0 = 0.5\\end{align*}\n",
    "\\begin{align*}.\\end{align*}\n",
    "\\begin{align*}.\\end{align*}\n",
    "\\begin{align*}.\\end{align*}\n",
    "\\begin{align*}x_{245} − \\bar{x} = 3.0 − 3.0 = 0.0\\end{align*}"
   ]
  },
  {
   "cell_type": "markdown",
   "id": "ca5c6865",
   "metadata": {},
   "source": [
    "If we **square** these <span style=color:orange><b>deviation</b></span> and then take an **average**, the result is about equal to the <span style=color:orange><b>sample variance</b></span>, denoted by <span style=color:orange><b>$s^2$</b></span>:"
   ]
  },
  {
   "cell_type": "code",
   "execution_count": 115,
   "id": "af8947ab",
   "metadata": {},
   "outputs": [
    {
     "data": {
      "text/plain": [
       "1.9144546380624725"
      ]
     },
     "execution_count": 115,
     "metadata": {},
     "output_type": "execute_result"
    }
   ],
   "source": [
    "tips.tip.var()"
   ]
  },
  {
   "cell_type": "markdown",
   "id": "94c71ca6",
   "metadata": {},
   "source": [
    "\\begin{align*}s^2\\:=\\:\\frac{(-1.99)^2 + (−1.34)^2 + 0.5^2 + · · · + 0.0^2}{245 − 1} = 1,91\\end{align*}"
   ]
  },
  {
   "cell_type": "markdown",
   "id": "efce3e3d",
   "metadata": {},
   "source": [
    "<div class=\"alert alert-warning alert-warning\"><b><u>Sample Variance $s^2$</u></b>   \n",
    "\n",
    "We divide by $n\\:−\\:1$, rather than dividing by $n$, when computing the <span style=color:blue><b>Variance</b></span>.   \n",
    "$%$   \n",
    "<span style=color:orange>squaring the deviations</span> does two things: \n",
    "\n",
    "- First, it <span style=color:orange>makes large values much larger</span>, seen by comparing $(-1.99)^2$, $(−134)^2$, $0.5^2$, and $0.0^2$. \n",
    "- Second, it <span style=color:orange>gets rid of any negative signs</span>.   \n",
    "$%$   \n",
    "The <b>variance</b> is roughly the <span style=color:orange>average squared distance</span> from the <b>mean</b>.\n",
    "</div>"
   ]
  },
  {
   "cell_type": "markdown",
   "id": "b04b0b30",
   "metadata": {},
   "source": [
    "### <span style=color:darkred>Standard Deviation</span>"
   ]
  },
  {
   "cell_type": "markdown",
   "id": "3505c8c3",
   "metadata": {},
   "source": [
    "<div class=\"alert alert-warning alert-warning\"><b><u>Standard Deviation</u></b>   \n",
    "\n",
    "The <b>Standard Deviation</b> is defined as the <b>square root</b> of the <span style=color:blue><b>Variance</b></span> :   \n",
    "$%$   \n",
    "\\begin{align*}s = \\sqrt{1.91} = 1.384\\end{align*}   \n",
    "$%$   \n",
    "The <b>Standard Deviation</b> is useful when considering how close the data are to the <b>Mean</b>.   \n",
    "$%$   \n",
    "Formulas and methods used to compute the <b>Variance</b> and <b>Standard Deviation</b> for a <b>Population</b> are similar to those used for a <b>sample</b><i> (The only difference is that the <b>Population Variance</b> has a division by $n$ instead of $n - 1$ )</i>.   \n",
    "$%$   \n",
    "However, like the <b>Mean</b>, the <b>Population</b> values have special symbols : \n",
    "- $\\sigma^2$ for the <b>Variance</b> and \n",
    "- $\\sigma$ for the <b>Standard Deviation</b>. \n",
    "\n",
    "The symbol $\\sigma$ is the $Greek$ letter $sigma$.\n",
    "</div>"
   ]
  },
  {
   "cell_type": "code",
   "execution_count": 116,
   "id": "2352c4e4",
   "metadata": {},
   "outputs": [
    {
     "data": {
      "text/plain": [
       "1.384"
      ]
     },
     "execution_count": 116,
     "metadata": {},
     "output_type": "execute_result"
    }
   ],
   "source": [
    "round(tips.tip.std(),3)"
   ]
  },
  {
   "cell_type": "markdown",
   "id": "67691804",
   "metadata": {},
   "source": [
    "<span style=color:orange>Standard Deviation</span> describes <span style=color:orange>Variability</span>, so focus on the conceptual meaning of the <span style=color:orange>Standard Deviation</span> as a descriptor of <span style=color:orange>Variability</span> rather than the formulas. \n",
    "\n",
    "Usually <b>70%</b> of the data will be within <span style=color:orange>one standard deviation of the mean</span> and about <b>95%</b> will be within <span style=color:orange>two standard deviations</span> two standard deviations. However, these <b>percentages are not strict rules</b>."
   ]
  },
  {
   "cell_type": "markdown",
   "id": "e337d94d",
   "metadata": {},
   "source": [
    "<span style=color:red><b><u>EXERCISE - 3.6</u></b></span> \n",
    "\n",
    "A good <span style=color:orange>description of the shape of a distribution</span> should include <span style=color:orange>modality</span> and whether the <span style=color:orange>distribution</span> is <span style=color:orange>symmetric or skewed</span> to one side. \n",
    "\n",
    "Explore the figure as an example, explain why such a description is important :\n",
    "\n",
    "![Images](Images/SP03.T02/Std.png)"
   ]
  },
  {
   "cell_type": "markdown",
   "id": "fdb148e6",
   "metadata": {},
   "source": [
    "<span style=color:green><b><u>SOLUTION - 3.6</u></b></span> \n",
    "\n",
    "Figure shows three distributions that look quite different, but all have the same <b>Mean, Variance</b>, and <b>Standard Deviation</b>. \n",
    "\n",
    "Using <b>Modality</b>, we can distinguish between the first plot (<b>bimodal</b>) and the last two (<b>unimodal</b>). \n",
    "\n",
    "Using <b>Skewness</b>, we can distinguish between the last plot (<b>right skewed</b>) and the first two. \n",
    "\n",
    "While a picture, like a <b>histogram</b>, tells a more <b>complete</b> story, we can use <b>Modality</b> and shape (<b>Symmetry/Skew</b>) to characterize basic information about a <b>distribution</b>."
   ]
  },
  {
   "cell_type": "code",
   "execution_count": 117,
   "id": "681e810e",
   "metadata": {},
   "outputs": [
    {
     "data": {
      "text/plain": [
       "Text(0.5, 0, '# Characters (in thousands)')"
      ]
     },
     "execution_count": 117,
     "metadata": {},
     "output_type": "execute_result"
    },
    {
     "data": {
      "image/png": "[encoded data removed]",
      "text/plain": [
       "<Figure size 432x288 with 1 Axes>"
      ]
     },
     "metadata": {
      "needs_background": "light"
     },
     "output_type": "display_data"
    }
   ],
   "source": [
    "dbe.hist(['num_char'], bins=15)\n",
    "plt.title('Spam email - # Characters')\n",
    "plt.ylabel('Frequency')\n",
    "plt.xlabel('# Characters (in thousands)')"
   ]
  },
  {
   "cell_type": "code",
   "execution_count": 118,
   "id": "1f5603fa",
   "metadata": {
    "scrolled": true
   },
   "outputs": [
    {
     "data": {
      "image/png": "[encoded data removed]",
      "text/plain": [
       "<Figure size 432x288 with 1 Axes>"
      ]
     },
     "metadata": {
      "needs_background": "light"
     },
     "output_type": "display_data"
    }
   ],
   "source": [
    "# Call Function create plot with Seaborn\n",
    "fig1 = plotSnsHistplot (tips, \n",
    "                          'tip', \n",
    "                          'total_bill',\n",
    "                          'Tips vs Total Bill',\n",
    "                          '**Count**',\n",
    "                          '**Quantity of Tip**',\n",
    "                          40)\n"
   ]
  },
  {
   "cell_type": "markdown",
   "id": "8184970c",
   "metadata": {},
   "source": [
    "<span style=color:red><b><u>EXERCISE - 3.7</u></b></span> \n",
    "\n",
    "Describe the <b>distribution</b> of the <b>tip</b> variable using the histogram display above. \n",
    "\n",
    "The description should incorporate the center, variability, and shape of the distribution, and it should also be placed in context: the <b>quantity of tip</b> in one bill. Also note any especially <b>unusual cases</b>."
   ]
  },
  {
   "cell_type": "markdown",
   "id": "849daea3",
   "metadata": {},
   "source": [
    "<span style=color:green><b><u>SOLUTION - 3.7</u></b></span> \n",
    "\n",
    "The distribution of tips counts is <b>unimodal</b>.The majority of tips left in the 245 bills analyzed are between 1 € and 5 €. The histogram also indicates that there is no one who has not left a tip. We also observe that the tip that is left with many difference is the one of 2 €, and the second more left is the mean vlaue at 3 €.\n",
    "There are some exceptional tips of more than 7€."
   ]
  },
  {
   "cell_type": "code",
   "execution_count": 119,
   "id": "bca5ecb4",
   "metadata": {},
   "outputs": [
    {
     "data": {
      "text/plain": [
       "1.38"
      ]
     },
     "execution_count": 119,
     "metadata": {},
     "output_type": "execute_result"
    }
   ],
   "source": [
    "round(tips.tip.std(),2)"
   ]
  },
  {
   "cell_type": "markdown",
   "id": "6bb90b5c",
   "metadata": {},
   "source": [
    "We will use the <span style=color:orange><b>Variance</b></span> and <span style=color:orange><b>Standard Deviation</b></span> to <b>assess how close</b> the <span style=color:orange>Sample Mean ($\\bar{x}$)</span> is to the <span style=color:orange>Population Mean ($\\mu$)</span>."
   ]
  },
  {
   "cell_type": "markdown",
   "id": "bfd0dae2",
   "metadata": {},
   "source": [
    "## <span style=color:darkgreen>BOX PLOTS</span>"
   ]
  },
  {
   "cell_type": "markdown",
   "id": "50968a62",
   "metadata": {},
   "source": [
    "A <span style=color:orange>Box Plot</span> summarizes a dataset using <span style=color:orange><b><i>five statistics</i></b></span> while also plotting <span style=color:orange>unusual observations - <b>Anomalies or Outliers</b></span>."
   ]
  },
  {
   "cell_type": "markdown",
   "id": "7bbf0566",
   "metadata": {},
   "source": [
    "### <span style=color:darkred>Quartiles, and the Median</span>"
   ]
  },
  {
   "cell_type": "code",
   "execution_count": 120,
   "id": "71fce78d",
   "metadata": {},
   "outputs": [
    {
     "data": {
      "text/plain": [
       "(244, 7)"
      ]
     },
     "execution_count": 120,
     "metadata": {},
     "output_type": "execute_result"
    }
   ],
   "source": [
    "tips.shape"
   ]
  },
  {
   "cell_type": "code",
   "execution_count": 121,
   "id": "244cb710",
   "metadata": {},
   "outputs": [
    {
     "data": {
      "text/html": [
       "<div>\n",
       "<style scoped>\n",
       "    .dataframe tbody tr th:only-of-type {\n",
       "        vertical-align: middle;\n",
       "    }\n",
       "\n",
       "    .dataframe tbody tr th {\n",
       "        vertical-align: top;\n",
       "    }\n",
       "\n",
       "    .dataframe thead th {\n",
       "        text-align: right;\n",
       "    }\n",
       "</style>\n",
       "<table border=\"1\" class=\"dataframe\">\n",
       "  <thead>\n",
       "    <tr style=\"text-align: right;\">\n",
       "      <th></th>\n",
       "      <th>total_bill</th>\n",
       "      <th>tip</th>\n",
       "      <th>size</th>\n",
       "    </tr>\n",
       "  </thead>\n",
       "  <tbody>\n",
       "    <tr>\n",
       "      <th>count</th>\n",
       "      <td>244.000000</td>\n",
       "      <td>244.000000</td>\n",
       "      <td>244.000000</td>\n",
       "    </tr>\n",
       "    <tr>\n",
       "      <th>mean</th>\n",
       "      <td>19.785943</td>\n",
       "      <td>2.998279</td>\n",
       "      <td>2.569672</td>\n",
       "    </tr>\n",
       "    <tr>\n",
       "      <th>std</th>\n",
       "      <td>8.902412</td>\n",
       "      <td>1.383638</td>\n",
       "      <td>0.951100</td>\n",
       "    </tr>\n",
       "    <tr>\n",
       "      <th>min</th>\n",
       "      <td>3.070000</td>\n",
       "      <td>1.000000</td>\n",
       "      <td>1.000000</td>\n",
       "    </tr>\n",
       "    <tr>\n",
       "      <th>25%</th>\n",
       "      <td>13.347500</td>\n",
       "      <td>2.000000</td>\n",
       "      <td>2.000000</td>\n",
       "    </tr>\n",
       "    <tr>\n",
       "      <th>50%</th>\n",
       "      <td>17.795000</td>\n",
       "      <td>2.900000</td>\n",
       "      <td>2.000000</td>\n",
       "    </tr>\n",
       "    <tr>\n",
       "      <th>75%</th>\n",
       "      <td>24.127500</td>\n",
       "      <td>3.562500</td>\n",
       "      <td>3.000000</td>\n",
       "    </tr>\n",
       "    <tr>\n",
       "      <th>max</th>\n",
       "      <td>50.810000</td>\n",
       "      <td>10.000000</td>\n",
       "      <td>6.000000</td>\n",
       "    </tr>\n",
       "  </tbody>\n",
       "</table>\n",
       "</div>"
      ],
      "text/plain": [
       "       total_bill         tip        size\n",
       "count  244.000000  244.000000  244.000000\n",
       "mean    19.785943    2.998279    2.569672\n",
       "std      8.902412    1.383638    0.951100\n",
       "min      3.070000    1.000000    1.000000\n",
       "25%     13.347500    2.000000    2.000000\n",
       "50%     17.795000    2.900000    2.000000\n",
       "75%     24.127500    3.562500    3.000000\n",
       "max     50.810000   10.000000    6.000000"
      ]
     },
     "execution_count": 121,
     "metadata": {},
     "output_type": "execute_result"
    }
   ],
   "source": [
    "tips.describe()"
   ]
  },
  {
   "cell_type": "code",
   "execution_count": 122,
   "id": "1b9872f6",
   "metadata": {},
   "outputs": [
    {
     "data": {
      "text/plain": [
       "count    244.000000\n",
       "mean       2.998279\n",
       "std        1.383638\n",
       "min        1.000000\n",
       "25%        2.000000\n",
       "50%        2.900000\n",
       "75%        3.562500\n",
       "max       10.000000\n",
       "Name: tip, dtype: float64"
      ]
     },
     "execution_count": 122,
     "metadata": {},
     "output_type": "execute_result"
    }
   ],
   "source": [
    "(tips['tip']).describe()"
   ]
  },
  {
   "cell_type": "code",
   "execution_count": 123,
   "id": "f8d04161",
   "metadata": {},
   "outputs": [
    {
     "data": {
      "text/html": [
       "<div>\n",
       "<style scoped>\n",
       "    .dataframe tbody tr th:only-of-type {\n",
       "        vertical-align: middle;\n",
       "    }\n",
       "\n",
       "    .dataframe tbody tr th {\n",
       "        vertical-align: top;\n",
       "    }\n",
       "\n",
       "    .dataframe thead th {\n",
       "        text-align: right;\n",
       "    }\n",
       "</style>\n",
       "<table border=\"1\" class=\"dataframe\">\n",
       "  <thead>\n",
       "    <tr style=\"text-align: right;\">\n",
       "      <th></th>\n",
       "      <th>spam</th>\n",
       "      <th>to_multiple</th>\n",
       "      <th>from</th>\n",
       "      <th>cc</th>\n",
       "      <th>sent_email</th>\n",
       "      <th>image</th>\n",
       "      <th>attach</th>\n",
       "      <th>dollar</th>\n",
       "      <th>inherit</th>\n",
       "      <th>viagra</th>\n",
       "      <th>password</th>\n",
       "      <th>num_char</th>\n",
       "      <th>line_breaks</th>\n",
       "      <th>format</th>\n",
       "      <th>re_subj</th>\n",
       "      <th>exclaim_subj</th>\n",
       "      <th>urgent_subj</th>\n",
       "      <th>exclaim_mess</th>\n",
       "    </tr>\n",
       "  </thead>\n",
       "  <tbody>\n",
       "    <tr>\n",
       "      <th>count</th>\n",
       "      <td>50.000000</td>\n",
       "      <td>50.00000</td>\n",
       "      <td>50.0</td>\n",
       "      <td>50.000000</td>\n",
       "      <td>50.000000</td>\n",
       "      <td>50.0</td>\n",
       "      <td>50.000000</td>\n",
       "      <td>50.000000</td>\n",
       "      <td>50.0</td>\n",
       "      <td>50.0</td>\n",
       "      <td>50.000000</td>\n",
       "      <td>50.000000</td>\n",
       "      <td>50.00000</td>\n",
       "      <td>50.000000</td>\n",
       "      <td>50.000000</td>\n",
       "      <td>50.000000</td>\n",
       "      <td>50.0</td>\n",
       "      <td>50.000000</td>\n",
       "    </tr>\n",
       "    <tr>\n",
       "      <th>mean</th>\n",
       "      <td>0.100000</td>\n",
       "      <td>0.14000</td>\n",
       "      <td>1.0</td>\n",
       "      <td>0.380000</td>\n",
       "      <td>0.320000</td>\n",
       "      <td>0.0</td>\n",
       "      <td>0.100000</td>\n",
       "      <td>0.900000</td>\n",
       "      <td>0.0</td>\n",
       "      <td>0.0</td>\n",
       "      <td>0.460000</td>\n",
       "      <td>11.598220</td>\n",
       "      <td>267.30000</td>\n",
       "      <td>0.740000</td>\n",
       "      <td>0.280000</td>\n",
       "      <td>0.060000</td>\n",
       "      <td>0.0</td>\n",
       "      <td>4.420000</td>\n",
       "    </tr>\n",
       "    <tr>\n",
       "      <th>std</th>\n",
       "      <td>0.303046</td>\n",
       "      <td>0.35051</td>\n",
       "      <td>0.0</td>\n",
       "      <td>1.085902</td>\n",
       "      <td>0.471212</td>\n",
       "      <td>0.0</td>\n",
       "      <td>0.416497</td>\n",
       "      <td>3.518174</td>\n",
       "      <td>0.0</td>\n",
       "      <td>0.0</td>\n",
       "      <td>1.631451</td>\n",
       "      <td>13.125261</td>\n",
       "      <td>290.81983</td>\n",
       "      <td>0.443087</td>\n",
       "      <td>0.453557</td>\n",
       "      <td>0.239898</td>\n",
       "      <td>0.0</td>\n",
       "      <td>7.661433</td>\n",
       "    </tr>\n",
       "    <tr>\n",
       "      <th>min</th>\n",
       "      <td>0.000000</td>\n",
       "      <td>0.00000</td>\n",
       "      <td>1.0</td>\n",
       "      <td>0.000000</td>\n",
       "      <td>0.000000</td>\n",
       "      <td>0.0</td>\n",
       "      <td>0.000000</td>\n",
       "      <td>0.000000</td>\n",
       "      <td>0.0</td>\n",
       "      <td>0.0</td>\n",
       "      <td>0.000000</td>\n",
       "      <td>0.057000</td>\n",
       "      <td>5.00000</td>\n",
       "      <td>0.000000</td>\n",
       "      <td>0.000000</td>\n",
       "      <td>0.000000</td>\n",
       "      <td>0.0</td>\n",
       "      <td>0.000000</td>\n",
       "    </tr>\n",
       "    <tr>\n",
       "      <th>25%</th>\n",
       "      <td>0.000000</td>\n",
       "      <td>0.00000</td>\n",
       "      <td>1.0</td>\n",
       "      <td>0.000000</td>\n",
       "      <td>0.000000</td>\n",
       "      <td>0.0</td>\n",
       "      <td>0.000000</td>\n",
       "      <td>0.000000</td>\n",
       "      <td>0.0</td>\n",
       "      <td>0.0</td>\n",
       "      <td>0.000000</td>\n",
       "      <td>2.535500</td>\n",
       "      <td>60.25000</td>\n",
       "      <td>0.250000</td>\n",
       "      <td>0.000000</td>\n",
       "      <td>0.000000</td>\n",
       "      <td>0.0</td>\n",
       "      <td>1.000000</td>\n",
       "    </tr>\n",
       "    <tr>\n",
       "      <th>50%</th>\n",
       "      <td>0.000000</td>\n",
       "      <td>0.00000</td>\n",
       "      <td>1.0</td>\n",
       "      <td>0.000000</td>\n",
       "      <td>0.000000</td>\n",
       "      <td>0.0</td>\n",
       "      <td>0.000000</td>\n",
       "      <td>0.000000</td>\n",
       "      <td>0.0</td>\n",
       "      <td>0.0</td>\n",
       "      <td>0.000000</td>\n",
       "      <td>6.889500</td>\n",
       "      <td>162.50000</td>\n",
       "      <td>1.000000</td>\n",
       "      <td>0.000000</td>\n",
       "      <td>0.000000</td>\n",
       "      <td>0.0</td>\n",
       "      <td>1.500000</td>\n",
       "    </tr>\n",
       "    <tr>\n",
       "      <th>75%</th>\n",
       "      <td>0.000000</td>\n",
       "      <td>0.00000</td>\n",
       "      <td>1.0</td>\n",
       "      <td>0.000000</td>\n",
       "      <td>1.000000</td>\n",
       "      <td>0.0</td>\n",
       "      <td>0.000000</td>\n",
       "      <td>0.000000</td>\n",
       "      <td>0.0</td>\n",
       "      <td>0.0</td>\n",
       "      <td>0.000000</td>\n",
       "      <td>15.410750</td>\n",
       "      <td>459.00000</td>\n",
       "      <td>1.000000</td>\n",
       "      <td>1.000000</td>\n",
       "      <td>0.000000</td>\n",
       "      <td>0.0</td>\n",
       "      <td>4.000000</td>\n",
       "    </tr>\n",
       "    <tr>\n",
       "      <th>max</th>\n",
       "      <td>1.000000</td>\n",
       "      <td>1.00000</td>\n",
       "      <td>1.0</td>\n",
       "      <td>5.000000</td>\n",
       "      <td>1.000000</td>\n",
       "      <td>0.0</td>\n",
       "      <td>2.000000</td>\n",
       "      <td>23.000000</td>\n",
       "      <td>0.0</td>\n",
       "      <td>0.0</td>\n",
       "      <td>8.000000</td>\n",
       "      <td>64.401000</td>\n",
       "      <td>1167.00000</td>\n",
       "      <td>1.000000</td>\n",
       "      <td>1.000000</td>\n",
       "      <td>1.000000</td>\n",
       "      <td>0.0</td>\n",
       "      <td>43.000000</td>\n",
       "    </tr>\n",
       "  </tbody>\n",
       "</table>\n",
       "</div>"
      ],
      "text/plain": [
       "            spam  to_multiple  from         cc  sent_email  image     attach  \\\n",
       "count  50.000000     50.00000  50.0  50.000000   50.000000   50.0  50.000000   \n",
       "mean    0.100000      0.14000   1.0   0.380000    0.320000    0.0   0.100000   \n",
       "std     0.303046      0.35051   0.0   1.085902    0.471212    0.0   0.416497   \n",
       "min     0.000000      0.00000   1.0   0.000000    0.000000    0.0   0.000000   \n",
       "25%     0.000000      0.00000   1.0   0.000000    0.000000    0.0   0.000000   \n",
       "50%     0.000000      0.00000   1.0   0.000000    0.000000    0.0   0.000000   \n",
       "75%     0.000000      0.00000   1.0   0.000000    1.000000    0.0   0.000000   \n",
       "max     1.000000      1.00000   1.0   5.000000    1.000000    0.0   2.000000   \n",
       "\n",
       "          dollar  inherit  viagra   password   num_char  line_breaks  \\\n",
       "count  50.000000     50.0    50.0  50.000000  50.000000     50.00000   \n",
       "mean    0.900000      0.0     0.0   0.460000  11.598220    267.30000   \n",
       "std     3.518174      0.0     0.0   1.631451  13.125261    290.81983   \n",
       "min     0.000000      0.0     0.0   0.000000   0.057000      5.00000   \n",
       "25%     0.000000      0.0     0.0   0.000000   2.535500     60.25000   \n",
       "50%     0.000000      0.0     0.0   0.000000   6.889500    162.50000   \n",
       "75%     0.000000      0.0     0.0   0.000000  15.410750    459.00000   \n",
       "max    23.000000      0.0     0.0   8.000000  64.401000   1167.00000   \n",
       "\n",
       "          format    re_subj  exclaim_subj  urgent_subj  exclaim_mess  \n",
       "count  50.000000  50.000000     50.000000         50.0     50.000000  \n",
       "mean    0.740000   0.280000      0.060000          0.0      4.420000  \n",
       "std     0.443087   0.453557      0.239898          0.0      7.661433  \n",
       "min     0.000000   0.000000      0.000000          0.0      0.000000  \n",
       "25%     0.250000   0.000000      0.000000          0.0      1.000000  \n",
       "50%     1.000000   0.000000      0.000000          0.0      1.500000  \n",
       "75%     1.000000   1.000000      0.000000          0.0      4.000000  \n",
       "max     1.000000   1.000000      1.000000          0.0     43.000000  "
      ]
     },
     "execution_count": 123,
     "metadata": {},
     "output_type": "execute_result"
    }
   ],
   "source": [
    "dbe.describe()"
   ]
  },
  {
   "cell_type": "code",
   "execution_count": 124,
   "id": "b3ef3ade",
   "metadata": {},
   "outputs": [
    {
     "data": {
      "text/plain": [
       "count    50.000000\n",
       "mean     11.598220\n",
       "std      13.125261\n",
       "min       0.057000\n",
       "25%       2.535500\n",
       "50%       6.889500\n",
       "75%      15.410750\n",
       "max      64.401000\n",
       "Name: num_char, dtype: float64"
      ]
     },
     "execution_count": 124,
     "metadata": {},
     "output_type": "execute_result"
    }
   ],
   "source": [
    "(dbe['num_char']).describe()"
   ]
  },
  {
   "cell_type": "markdown",
   "id": "51e423d7",
   "metadata": {},
   "source": [
    "The median (2,998), splits the data into the bottom 50% and the top 50%, marked in the dot plot by horizontal dashes and open circles, respectively."
   ]
  },
  {
   "cell_type": "markdown",
   "id": "60a122cb",
   "metadata": {},
   "source": [
    "The first step in building a <span style=color:orange><b>box plot</b></span> is drawing a dark line denoting the <span style=color:orange><b>median</b></span>, which <b>splits</b> the data in half. <b>50%</b> of the data falling below the <span style=color:orange><b>median</b></span> and other <b>50%</b> falling above the <span style=color:orange><b>median</b></span>.\n",
    "\n",
    "There are $244$ character counts in the **dataset** (an even number) so the data are perfectly split into two groups of $122$.\n",
    "We take the <span style=color:orange><b>median</b></span> in this case to be the <span style=color:orange><b>average</b></span> of the two observations closest to the 50th percentile:   \n",
    "\n",
    "$(6,768+7,012)/2 = 2,998$. \n",
    "\n",
    "When there are an odd number of observations, there will be exactly one observation that splits the data into two halves, and in such a case that observation is the <span style=color:orange><b>median</b></span> (no average needed)."
   ]
  },
  {
   "cell_type": "code",
   "execution_count": 126,
   "id": "f375bae1",
   "metadata": {},
   "outputs": [
    {
     "data": {
      "image/png": "[encoded data removed]",
      "text/plain": [
       "<Figure size 432x288 with 1 Axes>"
      ]
     },
     "metadata": {},
     "output_type": "display_data"
    }
   ],
   "source": [
    "sns.set(style=\"whitegrid\")\n",
    "ax = sns.boxplot(x=dbe[\"num_char\"], color='lightblue', fliersize=5,  orient='v', linewidth=1 , width=0.3)"
   ]
  },
  {
   "cell_type": "code",
   "execution_count": 127,
   "id": "473ced1d",
   "metadata": {},
   "outputs": [
    {
     "data": {
      "image/png": "[encoded data removed]",
      "text/plain": [
       "<Figure size 432x288 with 1 Axes>"
      ]
     },
     "metadata": {},
     "output_type": "display_data"
    }
   ],
   "source": [
    "sns.set(style=\"whitegrid\")\n",
    "ax = sns.boxplot(x=tips[\"tip\"], color='lightblue', fliersize=5,  orient='v', linewidth=1 , width=0.3)"
   ]
  },
  {
   "cell_type": "markdown",
   "id": "36826a62",
   "metadata": {},
   "source": [
    "<div class=\"alert alert-warning alert-warning\"><b><u>Median</u></b>\n",
    "\n",
    "If the data are <b>ordered from smallest to largest</b>, the <b>median</b> is the <b><u>observation</u></b> right in the <b>middle</b>.\n",
    "\n",
    "If there are an even number of observations, there will be two values in the middle, and the <b>median</b> is taken as their average.</div>"
   ]
  },
  {
   "cell_type": "markdown",
   "id": "f1f16a81",
   "metadata": {},
   "source": [
    "The second step in building a box plot is drawing a rectangle to represent the middle $50%$ of the data. The total length of the box, is called the <span style=color:orange><b>interquartile range (IQR)</b></span>. It, like the <span style=color:orange><b>Standard Deviation</b></span>, is a measure of <b>Variability</b> in data. The <span style=color:red>more variable the data</span>, the larger the <span style=color:orange><b>Standard Deviation</b></span> and <span style=color:orange><b>IQR</b></span>.\n",
    "\n",
    "The <b>two boundaries</b> of the box are called the <span style=color:orange><b>first quartile</b></span> (the $25^{th}$ percentile),  i.e. $25%$ of the data fall below this value and the <span style=color:orange><b>third quartile</b></span> (the $75^{th}$ percentile), and these are often labeled $Q1$ and $Q3$, respectively."
   ]
  },
  {
   "cell_type": "markdown",
   "id": "4d444644",
   "metadata": {},
   "source": [
    "<div class=\"alert alert-warning alert-warning\"><b><u>Interquartile range (IQR)</u></b>\n",
    "\n",
    "The IQR is the length of the box in a box plot. It is computed as\n",
    "\n",
    "$$IQR = Q3 − Q1$$\n",
    "\n",
    "where $Q1$ and $Q3$ are the $25^{th}$ and $75^{th}$ percentiles.</div>"
   ]
  },
  {
   "cell_type": "code",
   "execution_count": 128,
   "id": "abc69d53",
   "metadata": {},
   "outputs": [
    {
     "data": {
      "text/plain": [
       "<AxesSubplot:xlabel='tip'>"
      ]
     },
     "execution_count": 128,
     "metadata": {},
     "output_type": "execute_result"
    },
    {
     "data": {
      "image/png": "[encoded data removed]",
      "text/plain": [
       "<Figure size 432x288 with 1 Axes>"
      ]
     },
     "metadata": {},
     "output_type": "display_data"
    }
   ],
   "source": [
    "sns.stripplot(x=tips[\"tip\"], orient='v', color='darkblue')"
   ]
  },
  {
   "cell_type": "code",
   "execution_count": 129,
   "id": "c4a29856",
   "metadata": {},
   "outputs": [
    {
     "data": {
      "image/png": "[encoded data removed]",
      "text/plain": [
       "<Figure size 432x288 with 1 Axes>"
      ]
     },
     "metadata": {},
     "output_type": "display_data"
    }
   ],
   "source": [
    "ax = sns.boxplot(y=\"tip\", data=tips,  color='lightblue', fliersize=5,  orient='v', linewidth=1 , width=0.3)\n",
    "ax = sns.stripplot(y=tips[\"tip\"], orient='v', color='darkblue')"
   ]
  },
  {
   "cell_type": "code",
   "execution_count": 130,
   "id": "a87490c6",
   "metadata": {},
   "outputs": [
    {
     "data": {
      "text/plain": [
       "0      1.01\n",
       "1      1.66\n",
       "2      3.50\n",
       "3      3.31\n",
       "4      3.61\n",
       "       ... \n",
       "239    5.92\n",
       "240    2.00\n",
       "241    2.00\n",
       "242    1.75\n",
       "243    3.00\n",
       "Name: tip, Length: 244, dtype: float64"
      ]
     },
     "execution_count": 130,
     "metadata": {},
     "output_type": "execute_result"
    }
   ],
   "source": [
    "tips.tip"
   ]
  },
  {
   "cell_type": "code",
   "execution_count": 131,
   "id": "2a2d447f",
   "metadata": {},
   "outputs": [
    {
     "data": {
      "image/png": "[encoded data removed]",
      "text/plain": [
       "<Figure size 432x288 with 1 Axes>"
      ]
     },
     "metadata": {},
     "output_type": "display_data"
    }
   ],
   "source": [
    "sns.set(style=\"whitegrid\")\n",
    "ax = sns.boxplot(x=tips[\"tip\"], color='lightblue', fliersize=5,  orient='v', linewidth=1 , width=0.3)"
   ]
  },
  {
   "cell_type": "code",
   "execution_count": 132,
   "id": "be5f4532",
   "metadata": {},
   "outputs": [
    {
     "data": {
      "text/plain": [
       "<AxesSubplot:xlabel='tip'>"
      ]
     },
     "execution_count": 132,
     "metadata": {},
     "output_type": "execute_result"
    },
    {
     "data": {
      "image/png": "[encoded data removed]",
      "text/plain": [
       "<Figure size 432x288 with 1 Axes>"
      ]
     },
     "metadata": {},
     "output_type": "display_data"
    }
   ],
   "source": [
    "sns.swarmplot(x=tips[\"tip\"], orient='v', color='darkblue')"
   ]
  },
  {
   "cell_type": "code",
   "execution_count": 133,
   "id": "7aca5640",
   "metadata": {},
   "outputs": [
    {
     "data": {
      "image/png": "[encoded data removed]",
      "text/plain": [
       "<Figure size 432x288 with 1 Axes>"
      ]
     },
     "metadata": {},
     "output_type": "display_data"
    }
   ],
   "source": [
    "ax = sns.boxplot(y=\"tip\", data=tips,  color='lightblue', fliersize=5,  orient='v', linewidth=1 , width=0.3)\n",
    "ax = sns.swarmplot(y=\"tip\", data=tips, color=\"darkblue\", orient=\"v\", size=4)"
   ]
  },
  {
   "cell_type": "markdown",
   "id": "09a12844",
   "metadata": {},
   "source": [
    "<span style=color:red><b><u>EXERCISE - 3.8</u></b></span> \n",
    "\n",
    "1. What percent of the data fall between Q1 and the median?\n",
    "2. What percent is between the median and Q3?"
   ]
  },
  {
   "cell_type": "markdown",
   "id": "44b1b8b5",
   "metadata": {},
   "source": [
    "<span style=color:green><b><u>SOLUTION - 3.8</u></b></span> \n",
    "\n",
    "1. Since $Q1$ and $Q3$ capture the middle **50%** of the data and the <span style=color:orange>\n",
    "median</span> splits the data in the <span style=color:orange>middle</span>,\n",
    "2. **25%** of the data fall between $Q1$ and the <span style=color:orange>\n",
    "median</span>, and another **25%** falls between the <span style=color:orange>\n",
    "median</span> and $Q3$."
   ]
  },
  {
   "cell_type": "markdown",
   "id": "38d1fb84",
   "metadata": {},
   "source": [
    "Extending out from the box, the <span style=color:orange>whiskers</span> attempt to capture the data outside of the box, however, their reach is never allowed to be more than <span style=color:orange><b>$1.5\\hspace{2mm}x\\hspace{2mm}IQR$</b></span>"
   ]
  },
  {
   "cell_type": "markdown",
   "id": "662ac735",
   "metadata": {},
   "source": [
    "They capture everything within this reach. The <span style=color:orange><b><u>upper whisker</u></b></span> does not extend to the last three points, which is beyond $Q3\\hspace{2mm}+\\hspace{2mm}1.5\\hspace{2mm}x\\hspace{2mm}IQR$, and so it extends only to the last point below this limit. \n",
    "\n",
    "The <span style=color:orange><b><u>lower whisker</u></b></span> stops at the lowest value, **33**, since there is no additional data to reach; the <span style=color:orange><b><u>lower whisker’s limit</u></b></span> is not shown in the figure because the plot does not extend down to $Q1\\hspace{2mm}-\\hspace{2mm}1.5\\hspace{2mm}x\\hspace{2mm}IQR$. In a sense, the box is like the body of the box plot and the <span style=color:orange>whiskers</span> are like its arms trying to reach the rest of the data."
   ]
  },
  {
   "cell_type": "code",
   "execution_count": 134,
   "id": "b24462a8",
   "metadata": {},
   "outputs": [
    {
     "name": "stdout",
     "output_type": "stream",
     "text": [
      "7.58\n",
      "10.0\n",
      "9.0\n"
     ]
    }
   ],
   "source": [
    "#Search de values\n",
    "for i in range(len(tips.tip)): \n",
    "    if tips.tip[i]>7:\n",
    "        print (tips.tip[i])"
   ]
  },
  {
   "cell_type": "markdown",
   "id": "a4227fce",
   "metadata": {},
   "source": [
    "Any observation that lies beyond the <span style=color:orange>whiskers</span> is labeled with a <span style=color:orange>dot</span>. The purpose of labeling these points – instead of just extending the whiskers to the minimum and maximum observed values – is to help identify any observations that appear to be <span style=color:orange>unusually</span> distant from the rest of the data. <span style=color:orange>Unusually</span> distant observations are called <span style=color:orange><b><u>Outliers</u></b></span>. \n",
    "\n",
    "In this case, it would be reasonable to classify the bills with tips counts of 7,58, 10,00, and 9,00 as <span style=color:orange>outliers</span> since they are numerically distant from most of the data."
   ]
  },
  {
   "cell_type": "markdown",
   "id": "0dcd667b",
   "metadata": {},
   "source": [
    "<div class=\"alert alert-warning alert-warning\"><b><u>Outlier</u></b>\n",
    "\n",
    "An **outlier** is an *observation* that appears **extreme** relative to the rest of the **data**.   \n",
    "\n",
    "$%$\n",
    "\n",
    "<b><u>Why it is important to look for outliers</u></b>\n",
    "\n",
    "Examination of data for possible **outliers** serves many useful purposes, including :\n",
    "\n",
    "1. Identifying strong **skew** in the distribution.\n",
    "2. Identifying data collection or **entry errors**. For instance, we re-examined the \n",
    "    bill purported to have 10,00 € from tip to ensure this value was accurate.\n",
    "3. Providing **insight** into interesting **properties** of the **data**."
   ]
  },
  {
   "cell_type": "markdown",
   "id": "9b44e1dc",
   "metadata": {},
   "source": [
    "<span style=color:red><b><u>EXERCISE - 3.9</u></b></span> \n",
    "\n",
    "estimate the following values for **tip** in the $tips$ dataset: \n",
    "\n",
    "a).- $Q1$,   \n",
    "b).- $Q3$, and    \n",
    "c).- $IQR$"
   ]
  },
  {
   "cell_type": "markdown",
   "id": "fe45e5e1",
   "metadata": {},
   "source": [
    "<span style=color:green><b><u>SOLUTION - 3.9</u></b></span> \n",
    "\n",
    "These visual estimates will vary a little from one person to the next: Q1 = 2,000, Q3 = 3,000, IQR = Q3 - Q1 = 1,000. \n",
    "\n",
    "(The true values: Q1 = 2,000, Q3 = 3,562, IQR = 1,562.)"
   ]
  },
  {
   "cell_type": "code",
   "execution_count": 135,
   "id": "5302dc64",
   "metadata": {},
   "outputs": [
    {
     "data": {
      "text/plain": [
       "3.0"
      ]
     },
     "execution_count": 135,
     "metadata": {},
     "output_type": "execute_result"
    }
   ],
   "source": [
    "tips.tip[i]"
   ]
  },
  {
   "cell_type": "code",
   "execution_count": 136,
   "id": "b36e5195",
   "metadata": {},
   "outputs": [
    {
     "data": {
      "text/plain": [
       "total_bill    float64\n",
       "tip           float64\n",
       "sex            object\n",
       "smoker         object\n",
       "day            object\n",
       "time           object\n",
       "size            int64\n",
       "dtype: object"
      ]
     },
     "execution_count": 136,
     "metadata": {},
     "output_type": "execute_result"
    }
   ],
   "source": [
    "tips.dtypes"
   ]
  },
  {
   "cell_type": "code",
   "execution_count": 137,
   "id": "612c10ea",
   "metadata": {},
   "outputs": [
    {
     "data": {
      "text/html": [
       "<div>\n",
       "<style scoped>\n",
       "    .dataframe tbody tr th:only-of-type {\n",
       "        vertical-align: middle;\n",
       "    }\n",
       "\n",
       "    .dataframe tbody tr th {\n",
       "        vertical-align: top;\n",
       "    }\n",
       "\n",
       "    .dataframe thead th {\n",
       "        text-align: right;\n",
       "    }\n",
       "</style>\n",
       "<table border=\"1\" class=\"dataframe\">\n",
       "  <thead>\n",
       "    <tr style=\"text-align: right;\">\n",
       "      <th></th>\n",
       "      <th>total_bill</th>\n",
       "      <th>tip</th>\n",
       "      <th>sex</th>\n",
       "      <th>smoker</th>\n",
       "      <th>day</th>\n",
       "      <th>time</th>\n",
       "      <th>size</th>\n",
       "      <th>tip_pct</th>\n",
       "    </tr>\n",
       "  </thead>\n",
       "  <tbody>\n",
       "    <tr>\n",
       "      <th>0</th>\n",
       "      <td>16.99</td>\n",
       "      <td>1.01</td>\n",
       "      <td>Female</td>\n",
       "      <td>No</td>\n",
       "      <td>Sun</td>\n",
       "      <td>Dinner</td>\n",
       "      <td>2</td>\n",
       "      <td>6.32</td>\n",
       "    </tr>\n",
       "    <tr>\n",
       "      <th>1</th>\n",
       "      <td>10.34</td>\n",
       "      <td>1.66</td>\n",
       "      <td>Male</td>\n",
       "      <td>No</td>\n",
       "      <td>Sun</td>\n",
       "      <td>Dinner</td>\n",
       "      <td>3</td>\n",
       "      <td>19.12</td>\n",
       "    </tr>\n",
       "    <tr>\n",
       "      <th>2</th>\n",
       "      <td>21.01</td>\n",
       "      <td>3.50</td>\n",
       "      <td>Male</td>\n",
       "      <td>No</td>\n",
       "      <td>Sun</td>\n",
       "      <td>Dinner</td>\n",
       "      <td>3</td>\n",
       "      <td>19.99</td>\n",
       "    </tr>\n",
       "    <tr>\n",
       "      <th>3</th>\n",
       "      <td>23.68</td>\n",
       "      <td>3.31</td>\n",
       "      <td>Male</td>\n",
       "      <td>No</td>\n",
       "      <td>Sun</td>\n",
       "      <td>Dinner</td>\n",
       "      <td>2</td>\n",
       "      <td>16.25</td>\n",
       "    </tr>\n",
       "    <tr>\n",
       "      <th>4</th>\n",
       "      <td>24.59</td>\n",
       "      <td>3.61</td>\n",
       "      <td>Female</td>\n",
       "      <td>No</td>\n",
       "      <td>Sun</td>\n",
       "      <td>Dinner</td>\n",
       "      <td>4</td>\n",
       "      <td>17.21</td>\n",
       "    </tr>\n",
       "  </tbody>\n",
       "</table>\n",
       "</div>"
      ],
      "text/plain": [
       "   total_bill   tip     sex smoker  day    time  size  tip_pct\n",
       "0       16.99  1.01  Female     No  Sun  Dinner     2     6.32\n",
       "1       10.34  1.66    Male     No  Sun  Dinner     3    19.12\n",
       "2       21.01  3.50    Male     No  Sun  Dinner     3    19.99\n",
       "3       23.68  3.31    Male     No  Sun  Dinner     2    16.25\n",
       "4       24.59  3.61  Female     No  Sun  Dinner     4    17.21"
      ]
     },
     "execution_count": 137,
     "metadata": {},
     "output_type": "execute_result"
    }
   ],
   "source": [
    "tips['tip_pct'] = round((tips['tip'] / (tips['total_bill'] - tips['tip']))*100, 2)\n",
    "tips.head()"
   ]
  },
  {
   "cell_type": "code",
   "execution_count": 138,
   "id": "e8284811",
   "metadata": {},
   "outputs": [
    {
     "data": {
      "image/png": "[encoded data removed]",
      "text/plain": [
       "<Figure size 432x288 with 1 Axes>"
      ]
     },
     "metadata": {},
     "output_type": "display_data"
    }
   ],
   "source": [
    "sns.barplot(x='tip_pct', y='day', data=tips, orient=\"h\")\n",
    "plt.show()"
   ]
  },
  {
   "cell_type": "code",
   "execution_count": 139,
   "id": "a6e168f5",
   "metadata": {},
   "outputs": [
    {
     "data": {
      "image/png": "[encoded data removed]",
      "text/plain": [
       "<Figure size 432x288 with 1 Axes>"
      ]
     },
     "metadata": {},
     "output_type": "display_data"
    }
   ],
   "source": [
    "sns.barplot(x='tip_pct', y='day', hue='time', data=tips, orient='h')\n",
    "plt.show()\n",
    "sns.set(style=\"darkgrid\")"
   ]
  },
  {
   "cell_type": "code",
   "execution_count": 140,
   "id": "e8e51d4b",
   "metadata": {},
   "outputs": [
    {
     "data": {
      "text/html": [
       "<div>\n",
       "<style scoped>\n",
       "    .dataframe tbody tr th:only-of-type {\n",
       "        vertical-align: middle;\n",
       "    }\n",
       "\n",
       "    .dataframe tbody tr th {\n",
       "        vertical-align: top;\n",
       "    }\n",
       "\n",
       "    .dataframe thead th {\n",
       "        text-align: right;\n",
       "    }\n",
       "</style>\n",
       "<table border=\"1\" class=\"dataframe\">\n",
       "  <thead>\n",
       "    <tr style=\"text-align: right;\">\n",
       "      <th></th>\n",
       "      <th>total_bill</th>\n",
       "      <th>tip</th>\n",
       "      <th>size</th>\n",
       "      <th>tip_pct</th>\n",
       "    </tr>\n",
       "  </thead>\n",
       "  <tbody>\n",
       "    <tr>\n",
       "      <th>count</th>\n",
       "      <td>244.000000</td>\n",
       "      <td>244.000000</td>\n",
       "      <td>244.000000</td>\n",
       "      <td>244.000000</td>\n",
       "    </tr>\n",
       "    <tr>\n",
       "      <th>mean</th>\n",
       "      <td>19.785943</td>\n",
       "      <td>2.998279</td>\n",
       "      <td>2.569672</td>\n",
       "      <td>20.212418</td>\n",
       "    </tr>\n",
       "    <tr>\n",
       "      <th>std</th>\n",
       "      <td>8.902412</td>\n",
       "      <td>1.383638</td>\n",
       "      <td>0.951100</td>\n",
       "      <td>16.338588</td>\n",
       "    </tr>\n",
       "    <tr>\n",
       "      <th>min</th>\n",
       "      <td>3.070000</td>\n",
       "      <td>1.000000</td>\n",
       "      <td>1.000000</td>\n",
       "      <td>3.700000</td>\n",
       "    </tr>\n",
       "    <tr>\n",
       "      <th>25%</th>\n",
       "      <td>13.347500</td>\n",
       "      <td>2.000000</td>\n",
       "      <td>2.000000</td>\n",
       "      <td>14.830000</td>\n",
       "    </tr>\n",
       "    <tr>\n",
       "      <th>50%</th>\n",
       "      <td>17.795000</td>\n",
       "      <td>2.900000</td>\n",
       "      <td>2.000000</td>\n",
       "      <td>18.310000</td>\n",
       "    </tr>\n",
       "    <tr>\n",
       "      <th>75%</th>\n",
       "      <td>24.127500</td>\n",
       "      <td>3.562500</td>\n",
       "      <td>3.000000</td>\n",
       "      <td>23.682500</td>\n",
       "    </tr>\n",
       "    <tr>\n",
       "      <th>max</th>\n",
       "      <td>50.810000</td>\n",
       "      <td>10.000000</td>\n",
       "      <td>6.000000</td>\n",
       "      <td>245.240000</td>\n",
       "    </tr>\n",
       "  </tbody>\n",
       "</table>\n",
       "</div>"
      ],
      "text/plain": [
       "       total_bill         tip        size     tip_pct\n",
       "count  244.000000  244.000000  244.000000  244.000000\n",
       "mean    19.785943    2.998279    2.569672   20.212418\n",
       "std      8.902412    1.383638    0.951100   16.338588\n",
       "min      3.070000    1.000000    1.000000    3.700000\n",
       "25%     13.347500    2.000000    2.000000   14.830000\n",
       "50%     17.795000    2.900000    2.000000   18.310000\n",
       "75%     24.127500    3.562500    3.000000   23.682500\n",
       "max     50.810000   10.000000    6.000000  245.240000"
      ]
     },
     "execution_count": 140,
     "metadata": {},
     "output_type": "execute_result"
    }
   ],
   "source": [
    "tips.describe()"
   ]
  },
  {
   "cell_type": "code",
   "execution_count": 141,
   "id": "8f3137db",
   "metadata": {},
   "outputs": [
    {
     "data": {
      "text/html": [
       "<div>\n",
       "<style scoped>\n",
       "    .dataframe tbody tr th:only-of-type {\n",
       "        vertical-align: middle;\n",
       "    }\n",
       "\n",
       "    .dataframe tbody tr th {\n",
       "        vertical-align: top;\n",
       "    }\n",
       "\n",
       "    .dataframe thead th {\n",
       "        text-align: right;\n",
       "    }\n",
       "</style>\n",
       "<table border=\"1\" class=\"dataframe\">\n",
       "  <thead>\n",
       "    <tr style=\"text-align: right;\">\n",
       "      <th></th>\n",
       "      <th>total_bill</th>\n",
       "      <th>tip</th>\n",
       "      <th>sex</th>\n",
       "      <th>smoker</th>\n",
       "      <th>day</th>\n",
       "      <th>time</th>\n",
       "      <th>size</th>\n",
       "      <th>tip_pct</th>\n",
       "    </tr>\n",
       "  </thead>\n",
       "  <tbody>\n",
       "    <tr>\n",
       "      <th>count</th>\n",
       "      <td>244.000</td>\n",
       "      <td>244.000</td>\n",
       "      <td>244</td>\n",
       "      <td>244</td>\n",
       "      <td>244</td>\n",
       "      <td>244</td>\n",
       "      <td>244.000</td>\n",
       "      <td>244.000</td>\n",
       "    </tr>\n",
       "    <tr>\n",
       "      <th>unique</th>\n",
       "      <td>NaN</td>\n",
       "      <td>NaN</td>\n",
       "      <td>2</td>\n",
       "      <td>2</td>\n",
       "      <td>4</td>\n",
       "      <td>2</td>\n",
       "      <td>NaN</td>\n",
       "      <td>NaN</td>\n",
       "    </tr>\n",
       "    <tr>\n",
       "      <th>top</th>\n",
       "      <td>NaN</td>\n",
       "      <td>NaN</td>\n",
       "      <td>Male</td>\n",
       "      <td>No</td>\n",
       "      <td>Sat</td>\n",
       "      <td>Dinner</td>\n",
       "      <td>NaN</td>\n",
       "      <td>NaN</td>\n",
       "    </tr>\n",
       "    <tr>\n",
       "      <th>freq</th>\n",
       "      <td>NaN</td>\n",
       "      <td>NaN</td>\n",
       "      <td>157</td>\n",
       "      <td>151</td>\n",
       "      <td>87</td>\n",
       "      <td>176</td>\n",
       "      <td>NaN</td>\n",
       "      <td>NaN</td>\n",
       "    </tr>\n",
       "    <tr>\n",
       "      <th>mean</th>\n",
       "      <td>19.786</td>\n",
       "      <td>2.998</td>\n",
       "      <td>NaN</td>\n",
       "      <td>NaN</td>\n",
       "      <td>NaN</td>\n",
       "      <td>NaN</td>\n",
       "      <td>2.570</td>\n",
       "      <td>20.212</td>\n",
       "    </tr>\n",
       "    <tr>\n",
       "      <th>std</th>\n",
       "      <td>8.902</td>\n",
       "      <td>1.384</td>\n",
       "      <td>NaN</td>\n",
       "      <td>NaN</td>\n",
       "      <td>NaN</td>\n",
       "      <td>NaN</td>\n",
       "      <td>0.951</td>\n",
       "      <td>16.339</td>\n",
       "    </tr>\n",
       "    <tr>\n",
       "      <th>min</th>\n",
       "      <td>3.070</td>\n",
       "      <td>1.000</td>\n",
       "      <td>NaN</td>\n",
       "      <td>NaN</td>\n",
       "      <td>NaN</td>\n",
       "      <td>NaN</td>\n",
       "      <td>1.000</td>\n",
       "      <td>3.700</td>\n",
       "    </tr>\n",
       "    <tr>\n",
       "      <th>25%</th>\n",
       "      <td>13.348</td>\n",
       "      <td>2.000</td>\n",
       "      <td>NaN</td>\n",
       "      <td>NaN</td>\n",
       "      <td>NaN</td>\n",
       "      <td>NaN</td>\n",
       "      <td>2.000</td>\n",
       "      <td>14.830</td>\n",
       "    </tr>\n",
       "    <tr>\n",
       "      <th>50%</th>\n",
       "      <td>17.795</td>\n",
       "      <td>2.900</td>\n",
       "      <td>NaN</td>\n",
       "      <td>NaN</td>\n",
       "      <td>NaN</td>\n",
       "      <td>NaN</td>\n",
       "      <td>2.000</td>\n",
       "      <td>18.310</td>\n",
       "    </tr>\n",
       "    <tr>\n",
       "      <th>75%</th>\n",
       "      <td>24.127</td>\n",
       "      <td>3.562</td>\n",
       "      <td>NaN</td>\n",
       "      <td>NaN</td>\n",
       "      <td>NaN</td>\n",
       "      <td>NaN</td>\n",
       "      <td>3.000</td>\n",
       "      <td>23.682</td>\n",
       "    </tr>\n",
       "    <tr>\n",
       "      <th>max</th>\n",
       "      <td>50.810</td>\n",
       "      <td>10.000</td>\n",
       "      <td>NaN</td>\n",
       "      <td>NaN</td>\n",
       "      <td>NaN</td>\n",
       "      <td>NaN</td>\n",
       "      <td>6.000</td>\n",
       "      <td>245.240</td>\n",
       "    </tr>\n",
       "  </tbody>\n",
       "</table>\n",
       "</div>"
      ],
      "text/plain": [
       "        total_bill      tip   sex smoker  day    time     size  tip_pct\n",
       "count      244.000  244.000   244    244  244     244  244.000  244.000\n",
       "unique         NaN      NaN     2      2    4       2      NaN      NaN\n",
       "top            NaN      NaN  Male     No  Sat  Dinner      NaN      NaN\n",
       "freq           NaN      NaN   157    151   87     176      NaN      NaN\n",
       "mean        19.786    2.998   NaN    NaN  NaN     NaN    2.570   20.212\n",
       "std          8.902    1.384   NaN    NaN  NaN     NaN    0.951   16.339\n",
       "min          3.070    1.000   NaN    NaN  NaN     NaN    1.000    3.700\n",
       "25%         13.348    2.000   NaN    NaN  NaN     NaN    2.000   14.830\n",
       "50%         17.795    2.900   NaN    NaN  NaN     NaN    2.000   18.310\n",
       "75%         24.127    3.562   NaN    NaN  NaN     NaN    3.000   23.682\n",
       "max         50.810   10.000   NaN    NaN  NaN     NaN    6.000  245.240"
      ]
     },
     "execution_count": 141,
     "metadata": {},
     "output_type": "execute_result"
    }
   ],
   "source": [
    "round(tips.describe(include='all'), 3)"
   ]
  },
  {
   "cell_type": "code",
   "execution_count": 142,
   "id": "631868e8",
   "metadata": {},
   "outputs": [
    {
     "data": {
      "text/plain": [
       "total_bill    0.0\n",
       "tip           0.0\n",
       "sex           0.0\n",
       "smoker        0.0\n",
       "day           0.0\n",
       "time          0.0\n",
       "size          0.0\n",
       "tip_pct       0.0\n",
       "dtype: float64"
      ]
     },
     "execution_count": 142,
     "metadata": {},
     "output_type": "execute_result"
    }
   ],
   "source": [
    "tips.isnull().sum()/len(tips)"
   ]
  },
  {
   "cell_type": "code",
   "execution_count": 143,
   "id": "0963c22b",
   "metadata": {},
   "outputs": [
    {
     "data": {
      "text/plain": [
       "count    244.000\n",
       "mean       2.998\n",
       "std        1.384\n",
       "min        1.000\n",
       "25%        2.000\n",
       "50%        2.900\n",
       "75%        3.562\n",
       "max       10.000\n",
       "Name: tip, dtype: float64"
      ]
     },
     "execution_count": 143,
     "metadata": {},
     "output_type": "execute_result"
    }
   ],
   "source": [
    "round((tips['tip']).describe(), 3)"
   ]
  },
  {
   "cell_type": "code",
   "execution_count": 144,
   "id": "4adfaaea",
   "metadata": {},
   "outputs": [
    {
     "data": {
      "text/plain": [
       "2.9"
      ]
     },
     "execution_count": 144,
     "metadata": {},
     "output_type": "execute_result"
    }
   ],
   "source": [
    "round(tips.tip.median(),3)"
   ]
  },
  {
   "cell_type": "code",
   "execution_count": 145,
   "id": "7a75f11d",
   "metadata": {},
   "outputs": [
    {
     "data": {
      "image/png": "[encoded data removed]",
      "text/plain": [
       "<Figure size 432x288 with 1 Axes>"
      ]
     },
     "metadata": {},
     "output_type": "display_data"
    }
   ],
   "source": [
    "sns.set(style=\"whitegrid\")\n",
    "ax = sns.boxplot(x = tips['tip'], color='lightblue', fliersize=5, orient='v', linewidth=1, width=0.3)"
   ]
  },
  {
   "cell_type": "code",
   "execution_count": 146,
   "id": "4a9ed442",
   "metadata": {},
   "outputs": [
    {
     "data": {
      "image/png": "[encoded data removed]",
      "text/plain": [
       "<Figure size 432x288 with 1 Axes>"
      ]
     },
     "metadata": {},
     "output_type": "display_data"
    }
   ],
   "source": [
    "ax = sns.boxplot(y=\"tip\", data=tips,  color='lightblue', fliersize=5,  orient='v', linewidth=1 , width=0.3)\n",
    "ax = sns.stripplot(y=tips[\"tip\"], orient='v', color='darkblue', alpha= 0.5)"
   ]
  },
  {
   "cell_type": "markdown",
   "id": "7235d9b1",
   "metadata": {},
   "source": [
    "<span style=color:orange><font size=4><b><u>Una Variable</u></b>: 1 Numérica = 'tip_pct'</font></span>"
   ]
  },
  {
   "cell_type": "code",
   "execution_count": 147,
   "id": "dda0b876",
   "metadata": {},
   "outputs": [
    {
     "data": {
      "text/plain": [
       "total_bill    float64\n",
       "tip           float64\n",
       "sex            object\n",
       "smoker         object\n",
       "day            object\n",
       "time           object\n",
       "size            int64\n",
       "tip_pct       float64\n",
       "dtype: object"
      ]
     },
     "execution_count": 147,
     "metadata": {},
     "output_type": "execute_result"
    }
   ],
   "source": [
    "tips.dtypes"
   ]
  },
  {
   "cell_type": "code",
   "execution_count": 148,
   "id": "ceff9cdd",
   "metadata": {},
   "outputs": [
    {
     "data": {
      "image/png": "[encoded data removed]",
      "text/plain": [
       "<Figure size 432x288 with 1 Axes>"
      ]
     },
     "metadata": {},
     "output_type": "display_data"
    }
   ],
   "source": [
    "sns.boxplot(y=\"tip_pct\", data=tips[tips.tip < 10],  color='lightblue', fliersize=5,  orient='v', linewidth=1 , width=0.3);"
   ]
  },
  {
   "cell_type": "markdown",
   "id": "085dc2a1",
   "metadata": {},
   "source": [
    "<span style=color:orange><font size=4><b><u>Dos Variables</u></b>: 1 Categórica = 'day', 1 Numérica = 'tip_pct'</font></span>"
   ]
  },
  {
   "cell_type": "code",
   "execution_count": 149,
   "id": "79df111c",
   "metadata": {},
   "outputs": [
    {
     "data": {
      "image/png": "[encoded data removed]",
      "text/plain": [
       "<Figure size 360x360 with 1 Axes>"
      ]
     },
     "metadata": {},
     "output_type": "display_data"
    }
   ],
   "source": [
    "## añadimos variable categorica 'day' en x:\n",
    "ax = sns.catplot(x='day', y='tip_pct', kind='box',\n",
    "                 data=tips[tips.tip_pct < 245]);"
   ]
  },
  {
   "cell_type": "code",
   "execution_count": 150,
   "id": "b0e1fb15",
   "metadata": {},
   "outputs": [
    {
     "data": {
      "image/png": "[encoded data removed]",
      "text/plain": [
       "<Figure size 360x360 with 1 Axes>"
      ]
     },
     "metadata": {},
     "output_type": "display_data"
    }
   ],
   "source": [
    "## añadimos variable categorica 'day' en x:\n",
    "ax = sns.catplot(x='day', y='tip_pct', kind='box',\n",
    "                 data=tips[tips.tip_pct < 245]);\n",
    "\n",
    "ax = sns.stripplot(x='day', y='tip_pct', data=tips[tips.tip_pct < 245], orient='v', color='darkblue', alpha= 0.4);"
   ]
  },
  {
   "cell_type": "markdown",
   "id": "2c52b986",
   "metadata": {},
   "source": [
    "<span style=color:orange><font size=4><b><u>Tres Variables</u></b> : 2 Categóricas = ('day', 'time'), 1 Numérica = 'tip_pct'</font></span>"
   ]
  },
  {
   "cell_type": "code",
   "execution_count": 151,
   "id": "c60de06e",
   "metadata": {},
   "outputs": [
    {
     "data": {
      "image/png": "[encoded data removed]",
      "text/plain": [
       "<Figure size 432x288 with 1 Axes>"
      ]
     },
     "metadata": {},
     "output_type": "display_data"
    }
   ],
   "source": [
    "sns.boxplot(x='day', y='tip_pct', hue='time', \n",
    "               data=tips[tips.tip_pct < 245]);"
   ]
  },
  {
   "cell_type": "code",
   "execution_count": 152,
   "id": "6276a8fa",
   "metadata": {},
   "outputs": [
    {
     "data": {
      "image/png": "[encoded data removed]",
      "text/plain": [
       "<Figure size 432x288 with 1 Axes>"
      ]
     },
     "metadata": {},
     "output_type": "display_data"
    }
   ],
   "source": [
    "sns.boxplot(x='day', y='tip_pct', hue = 'time',\n",
    "               data=tips[tips.tip_pct < 245]);\n",
    "ax = sns.stripplot(x='day', y='tip_pct', hue='time', data=tips[tips.tip_pct < 245], orient='v', color='darkblue', alpha= 0.4);"
   ]
  },
  {
   "cell_type": "markdown",
   "id": "d0cfca88",
   "metadata": {},
   "source": [
    "## <span style=color:orange>Facet Grids y Categorical DataFrame</span>"
   ]
  },
  {
   "cell_type": "markdown",
   "id": "39c19ed8",
   "metadata": {},
   "source": [
    "Nos permite profundizar todavía más en el analysis, añadiendo una variable categórica adicional. \n",
    "\n",
    "Usando el método <span style=color:darkred><b>factorplot( )</b></span> de <span style=color:darkred>\"Facet Grid\"</span> :"
   ]
  },
  {
   "cell_type": "markdown",
   "id": "afa86c6a",
   "metadata": {},
   "source": [
    "<span style=color:orange><font size=4><b><u>Cuatro Variables</u></b> : 3 Categoricas = ('day', 'time', 'smoker'), 1 Numérica = 'tip_pct'</font></span>"
   ]
  },
  {
   "cell_type": "code",
   "execution_count": 153,
   "id": "c5853568",
   "metadata": {},
   "outputs": [
    {
     "data": {
      "image/png": "[encoded data removed]",
      "text/plain": [
       "<Figure size 792.225x360 with 2 Axes>"
      ]
     },
     "metadata": {},
     "output_type": "display_data"
    }
   ],
   "source": [
    "sns.catplot(x='day', y='tip_pct', hue='time', col='smoker',\n",
    "               kind='box', data=tips[tips.tip_pct < 245]);"
   ]
  },
  {
   "cell_type": "code",
   "execution_count": 154,
   "id": "b41cd434",
   "metadata": {},
   "outputs": [
    {
     "data": {
      "image/png": "[encoded data removed]",
      "text/plain": [
       "<Figure size 792.225x360 with 2 Axes>"
      ]
     },
     "metadata": {},
     "output_type": "display_data"
    }
   ],
   "source": [
    "sns.catplot(x='day', y='tip_pct', hue='time', col='smoker',\n",
    "               kind='box', data=tips[tips.tip_pct < 245]);"
   ]
  },
  {
   "cell_type": "code",
   "execution_count": null,
   "id": "fa1146c9",
   "metadata": {},
   "outputs": [],
   "source": []
  },
  {
   "cell_type": "code",
   "execution_count": null,
   "id": "0d1abb5e",
   "metadata": {},
   "outputs": [],
   "source": []
  },
  {
   "cell_type": "code",
   "execution_count": null,
   "id": "1aaef6d3",
   "metadata": {},
   "outputs": [],
   "source": []
  },
  {
   "cell_type": "code",
   "execution_count": null,
   "id": "bc9ea230",
   "metadata": {},
   "outputs": [],
   "source": []
  },
  {
   "cell_type": "code",
   "execution_count": null,
   "id": "d273370d",
   "metadata": {},
   "outputs": [],
   "source": []
  },
  {
   "cell_type": "code",
   "execution_count": null,
   "id": "54d6e6c1",
   "metadata": {},
   "outputs": [],
   "source": []
  },
  {
   "cell_type": "code",
   "execution_count": null,
   "id": "7c3439a3",
   "metadata": {},
   "outputs": [],
   "source": []
  }
 ],
 "metadata": {
  "hide_input": false,
  "kernelspec": {
   "display_name": "Python 3 (ipykernel)",
   "language": "python",
   "name": "python3"
  },
  "language_info": {
   "codemirror_mode": {
    "name": "ipython",
    "version": 3
   },
   "file_extension": ".py",
   "mimetype": "text/x-python",
   "name": "python",
   "nbconvert_exporter": "python",
   "pygments_lexer": "ipython3",
   "version": "3.9.7"
  },
  "nbTranslate": {
   "displayLangs": [
    "*"
   ],
   "hotkey": "alt-t",
   "langInMainMenu": true,
   "sourceLang": "en",
   "targetLang": "fr",
   "useGoogleTranslate": true
  },
  "toc": {
   "base_numbering": 1,
   "nav_menu": {},
   "number_sections": true,
   "sideBar": true,
   "skip_h1_title": false,
   "title_cell": "Table of Contents",
   "title_sidebar": "Contents",
   "toc_cell": false,
   "toc_position": {},
   "toc_section_display": true,
   "toc_window_display": false
  },
  "varInspector": {
   "cols": {
    "lenName": 16,
    "lenType": 16,
    "lenVar": 40
   },
   "kernels_config": {
    "python": {
     "delete_cmd_postfix": "",
     "delete_cmd_prefix": "del ",
     "library": "var_list.py",
     "varRefreshCmd": "print(var_dic_list())"
    },
    "r": {
     "delete_cmd_postfix": ") ",
     "delete_cmd_prefix": "rm(",
     "library": "var_list.r",
     "varRefreshCmd": "cat(var_dic_list()) "
    }
   },
   "types_to_exclude": [
    "module",
    "function",
    "builtin_function_or_method",
    "instance",
    "_Feature"
   ],
   "window_display": false
  }
 },
 "nbformat": 4,
 "nbformat_minor": 5
}
