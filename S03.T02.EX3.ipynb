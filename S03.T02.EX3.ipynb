{
 "cells": [
  {
   "cell_type": "markdown",
   "id": "fdb0a3ee",
   "metadata": {},
   "source": [
    "![Images](Images/ITAcademy.png)\n",
    "# DATA SCIENCE: S03.T02.EXERCICI 3\n",
    "#### Created by: Dani Planas Montserrat\n"
   ]
  },
  {
   "cell_type": "code",
   "execution_count": 37,
   "id": "beb6ddc4",
   "metadata": {
    "code_folding": [],
    "run_control": {
     "marked": true
    },
    "scrolled": false
   },
   "outputs": [],
   "source": [
    "##########################################################################\n",
    "##           DATA SCIENCE: S03.T02: Nivell 3 Exercici 3                 ##\n",
    "##########################################################################\n",
    "# Exericic 3: En aquest exercici no us donarem gaires indicacions perquè \n",
    "# volem que ens mostreu la vostra creativitat. Sorprèn-me amb gràfiques i \n",
    "# interpretacions del dataset \"movies.dat\" del exercici anterior.\n",
    "\n",
    "# importing libraries\n",
    "import numpy as np\n",
    "import pandas as pd\n",
    "import matplotlib.pyplot as plt\n",
    "import seaborn as sns\n",
    "import warnings\n",
    "\n",
    "warnings.filterwarnings('ignore')\n",
    "\n",
    "\n"
   ]
  },
  {
   "cell_type": "code",
   "execution_count": 101,
   "id": "638e8ab1",
   "metadata": {
    "code_folding": [
     4,
     23,
     41,
     58,
     75,
     91
    ],
    "run_control": {
     "marked": true
    }
   },
   "outputs": [],
   "source": [
    "#************************************************************************************\n",
    "#******************************      PLOT Functions     *****************************\n",
    "#************************************************************************************\n",
    "#Function plot, type Histogram (one categoric value)\n",
    "def plotHistogram(df):\n",
    "    \n",
    "    # create a dataset\n",
    "    height = df\n",
    "    bars = df.index\n",
    "    x_pos = np.arange(len(bars))\n",
    "\n",
    "    # Create bars with different colors\n",
    "    #plt.bar(x_pos, height, color=['black', 'red', 'green', 'blue', 'cyan'])\n",
    "    plt.bar(x_pos, height, color=['green'])\n",
    "    # Create names on the x-axis\n",
    "    plt.xticks(x_pos,bars)\n",
    "\n",
    "    # Show graphic\n",
    "    fig = plt.gcf()\n",
    "    plt.show()\n",
    "\n",
    "    return fig\n",
    "\n",
    "def plotDensityPlot(df):\n",
    "    # library & dataset\n",
    "    import seaborn as sns\n",
    "    \n",
    "    # set a grey background (use sns.set_theme() if seaborn version 0.11.0 or above) \n",
    "    sns.set(style=\"darkgrid\")\n",
    "\n",
    "    # plotting both distibutions on the same figure\n",
    "    fig = sns.kdeplot(df, shade=True, color=\"r\")\n",
    "    #fig = sns.kdeplot(df[paramNum2], shade=True, color=\"b\")\n",
    "\n",
    "    # Show graphic\n",
    "    fig = plt.gcf()\n",
    "    plt.show()\n",
    "\n",
    "    return fig\n",
    "\n",
    "#Function plot, with Seaborn Library and type ScatterPlot\n",
    "def plotSnsScatterplot(df, paramNum1, paramNum2, title, ylabel, xlabel):\n",
    "\n",
    "    g = sns.FacetGrid(df)\n",
    "    g.map(sns.scatterplot, paramNum1, paramNum2, alpha=.7)\n",
    "    g.add_legend()\n",
    "\n",
    "    plt.title(title)\n",
    "    plt.ylabel(ylabel)\n",
    "    plt.xlabel(xlabel)\n",
    "    \n",
    "    # Show graphic\n",
    "    fig = plt.gcf()\n",
    "    plt.show()\n",
    "\n",
    "    return fig\n",
    "\n",
    "#Function plot, with Seaborn Library and type LinePlot\n",
    "def plotSnsLineplot(df, paramNum1, paramNum2, title, ylabel, xlabel):\n",
    "\n",
    "    g = sns.FacetGrid(df)\n",
    "    g.map(sns.lineplot, paramNum1, paramNum2, alpha=.7)\n",
    "    g.add_legend()\n",
    "    \n",
    "    plt.title(title)\n",
    "    plt.ylabel(ylabel)\n",
    "    plt.xlabel(xlabel)\n",
    "    \n",
    "    # Show graphic\n",
    "    fig = plt.gcf()\n",
    "    plt.show()\n",
    "\n",
    "    return fig\n",
    "\n",
    "#Function plot, with Seaborn Library and type HistPlot\n",
    "def plotSnsHistplot(df, paramNum1, title, ylabel, xlabel, binsNum):\n",
    "  \n",
    "    sns.histplot(data=df, x=paramNum1, bins=binsNum, kde=True)\n",
    "    #g.add_legend()\n",
    "    \n",
    "    plt.title(title)\n",
    "    plt.ylabel(ylabel)\n",
    "    plt.xlabel(xlabel)\n",
    "    \n",
    "    # Show graphic\n",
    "    fig = plt.gcf()\n",
    "    plt.show()\n",
    "\n",
    "    return fig\n",
    "\n",
    "#Function plot, type Stacked Area Chart (with 3 numeric values and 1 categoric value)   \n",
    "def plotBarplotMultiple(df, paramNum1, paramNum2, paramNum3, Sel3):\n",
    "        # libraries\n",
    "        import numpy as np\n",
    "        import matplotlib.pyplot as plt\n",
    "\n",
    "        # width of the bars\n",
    "        barWidth = 0.3\n",
    "        \n",
    "        # Choose the height of the blue bars\n",
    "        bars1 = df\n",
    "\n",
    "        if (Sel3 == 2):\n",
    "            # Choose the height of the cyan bars\n",
    "            bars2 = df[paramNum2] \n",
    "\n",
    "        if (Sel3 == 3):\n",
    "            # Choose the height of the cyan bars\n",
    "            bars3 = df[paramNum3] \n",
    "        \n",
    "        # Choose the height of the error bars (bars1)\n",
    "        yer1 = np.arange(len(bars1))\n",
    "\n",
    "        # Choose the height of the error bars (bars2)\n",
    "        yer2 = np.arange(len(bars1))\n",
    "        \n",
    "        #print(title) by groups of bars\n",
    "        title = df.index \n",
    "        \n",
    "        # The x position of bars\n",
    "        r1 = np.arange(len(bars1))\n",
    "        r2 = [x + barWidth for x in r1]\n",
    "        r3 = [x + barWidth for x in r2]\n",
    "\n",
    "        # Create blue bars\n",
    "        plt.bar(r1, bars1, width = barWidth, color = 'yellow', edgecolor = 'black', yerr=yer1, capsize=5, label=paramNum1)\n",
    "        \n",
    "        if (Sel3 == 2):\n",
    "            # Create cyan bars\n",
    "            plt.bar(r2, bars2, width = barWidth, color = 'yellow', edgecolor = 'black', yerr=yer2, capsize=7, label=paramNum2)\n",
    "\n",
    "        if (Sel3 == 3):\n",
    "             # Create cyan bars\n",
    "             plt.bar(r3, bars3, width = barWidth, color = 'green', edgecolor = 'black', yerr=yer2, capsize=7, label=paramNum3)\n",
    "   \n",
    "        # general layout\n",
    "        plt.xticks([r + barWidth for r in range(len(bars1))], title)\n",
    "        plt.ylabel('height')\n",
    "        #plt.legend()\n",
    "\n",
    "        # Show graphic\n",
    "        fig = plt.gcf()\n",
    "        plt.show()\n",
    "\n",
    "        return fig\n",
    "\n",
    "    "
   ]
  },
  {
   "cell_type": "code",
   "execution_count": 102,
   "id": "f4ef513b",
   "metadata": {
    "code_folding": [],
    "run_control": {
     "marked": false
    }
   },
   "outputs": [
    {
     "name": "stdout",
     "output_type": "stream",
     "text": [
      "Taula de dades MOVIES: \n"
     ]
    },
    {
     "data": {
      "text/html": [
       "<div>\n",
       "<style scoped>\n",
       "    .dataframe tbody tr th:only-of-type {\n",
       "        vertical-align: middle;\n",
       "    }\n",
       "\n",
       "    .dataframe tbody tr th {\n",
       "        vertical-align: top;\n",
       "    }\n",
       "\n",
       "    .dataframe thead th {\n",
       "        text-align: right;\n",
       "    }\n",
       "</style>\n",
       "<table border=\"1\" class=\"dataframe\">\n",
       "  <thead>\n",
       "    <tr style=\"text-align: right;\">\n",
       "      <th></th>\n",
       "      <th>TitleYear</th>\n",
       "      <th>Genres</th>\n",
       "    </tr>\n",
       "  </thead>\n",
       "  <tbody>\n",
       "    <tr>\n",
       "      <th>1</th>\n",
       "      <td>Toy Story (1995)</td>\n",
       "      <td>Animation|Children's|Comedy</td>\n",
       "    </tr>\n",
       "    <tr>\n",
       "      <th>2</th>\n",
       "      <td>Jumanji (1995)</td>\n",
       "      <td>Adventure|Children's|Fantasy</td>\n",
       "    </tr>\n",
       "    <tr>\n",
       "      <th>3</th>\n",
       "      <td>Grumpier Old Men (1995)</td>\n",
       "      <td>Comedy|Romance</td>\n",
       "    </tr>\n",
       "    <tr>\n",
       "      <th>4</th>\n",
       "      <td>Waiting to Exhale (1995)</td>\n",
       "      <td>Comedy|Drama</td>\n",
       "    </tr>\n",
       "    <tr>\n",
       "      <th>5</th>\n",
       "      <td>Father of the Bride Part II (1995)</td>\n",
       "      <td>Comedy</td>\n",
       "    </tr>\n",
       "    <tr>\n",
       "      <th>...</th>\n",
       "      <td>...</td>\n",
       "      <td>...</td>\n",
       "    </tr>\n",
       "    <tr>\n",
       "      <th>3948</th>\n",
       "      <td>Meet the Parents (2000)</td>\n",
       "      <td>Comedy</td>\n",
       "    </tr>\n",
       "    <tr>\n",
       "      <th>3949</th>\n",
       "      <td>Requiem for a Dream (2000)</td>\n",
       "      <td>Drama</td>\n",
       "    </tr>\n",
       "    <tr>\n",
       "      <th>3950</th>\n",
       "      <td>Tigerland (2000)</td>\n",
       "      <td>Drama</td>\n",
       "    </tr>\n",
       "    <tr>\n",
       "      <th>3951</th>\n",
       "      <td>Two Family House (2000)</td>\n",
       "      <td>Drama</td>\n",
       "    </tr>\n",
       "    <tr>\n",
       "      <th>3952</th>\n",
       "      <td>Contender, The (2000)</td>\n",
       "      <td>Drama|Thriller</td>\n",
       "    </tr>\n",
       "  </tbody>\n",
       "</table>\n",
       "<p>3883 rows × 2 columns</p>\n",
       "</div>"
      ],
      "text/plain": [
       "                               TitleYear                        Genres\n",
       "1                       Toy Story (1995)   Animation|Children's|Comedy\n",
       "2                         Jumanji (1995)  Adventure|Children's|Fantasy\n",
       "3                Grumpier Old Men (1995)                Comedy|Romance\n",
       "4               Waiting to Exhale (1995)                  Comedy|Drama\n",
       "5     Father of the Bride Part II (1995)                        Comedy\n",
       "...                                  ...                           ...\n",
       "3948             Meet the Parents (2000)                        Comedy\n",
       "3949          Requiem for a Dream (2000)                         Drama\n",
       "3950                    Tigerland (2000)                         Drama\n",
       "3951             Two Family House (2000)                         Drama\n",
       "3952               Contender, The (2000)                Drama|Thriller\n",
       "\n",
       "[3883 rows x 2 columns]"
      ]
     },
     "metadata": {},
     "output_type": "display_data"
    },
    {
     "name": "stdout",
     "output_type": "stream",
     "text": [
      "Versió de Panda:  1.3.4\n",
      "Taula de dades MOVIES: \n"
     ]
    },
    {
     "data": {
      "text/html": [
       "<div>\n",
       "<style scoped>\n",
       "    .dataframe tbody tr th:only-of-type {\n",
       "        vertical-align: middle;\n",
       "    }\n",
       "\n",
       "    .dataframe tbody tr th {\n",
       "        vertical-align: top;\n",
       "    }\n",
       "\n",
       "    .dataframe thead th {\n",
       "        text-align: right;\n",
       "    }\n",
       "</style>\n",
       "<table border=\"1\" class=\"dataframe\">\n",
       "  <thead>\n",
       "    <tr style=\"text-align: right;\">\n",
       "      <th></th>\n",
       "      <th>TitleYear</th>\n",
       "    </tr>\n",
       "    <tr>\n",
       "      <th>Genres</th>\n",
       "      <th></th>\n",
       "    </tr>\n",
       "  </thead>\n",
       "  <tbody>\n",
       "    <tr>\n",
       "      <th>Action</th>\n",
       "      <td>65</td>\n",
       "    </tr>\n",
       "    <tr>\n",
       "      <th>Action|Adventure</th>\n",
       "      <td>25</td>\n",
       "    </tr>\n",
       "    <tr>\n",
       "      <th>Action|Adventure|Animation</th>\n",
       "      <td>1</td>\n",
       "    </tr>\n",
       "    <tr>\n",
       "      <th>Action|Adventure|Animation|Children's|Fantasy</th>\n",
       "      <td>1</td>\n",
       "    </tr>\n",
       "    <tr>\n",
       "      <th>Action|Adventure|Animation|Horror|Sci-Fi</th>\n",
       "      <td>1</td>\n",
       "    </tr>\n",
       "    <tr>\n",
       "      <th>...</th>\n",
       "      <td>...</td>\n",
       "    </tr>\n",
       "    <tr>\n",
       "      <th>Sci-Fi|Thriller|War</th>\n",
       "      <td>1</td>\n",
       "    </tr>\n",
       "    <tr>\n",
       "      <th>Sci-Fi|War</th>\n",
       "      <td>1</td>\n",
       "    </tr>\n",
       "    <tr>\n",
       "      <th>Thriller</th>\n",
       "      <td>101</td>\n",
       "    </tr>\n",
       "    <tr>\n",
       "      <th>War</th>\n",
       "      <td>12</td>\n",
       "    </tr>\n",
       "    <tr>\n",
       "      <th>Western</th>\n",
       "      <td>33</td>\n",
       "    </tr>\n",
       "  </tbody>\n",
       "</table>\n",
       "<p>301 rows × 1 columns</p>\n",
       "</div>"
      ],
      "text/plain": [
       "                                               TitleYear\n",
       "Genres                                                  \n",
       "Action                                                65\n",
       "Action|Adventure                                      25\n",
       "Action|Adventure|Animation                             1\n",
       "Action|Adventure|Animation|Children's|Fantasy          1\n",
       "Action|Adventure|Animation|Horror|Sci-Fi               1\n",
       "...                                                  ...\n",
       "Sci-Fi|Thriller|War                                    1\n",
       "Sci-Fi|War                                             1\n",
       "Thriller                                             101\n",
       "War                                                   12\n",
       "Western                                               33\n",
       "\n",
       "[301 rows x 1 columns]"
      ]
     },
     "metadata": {},
     "output_type": "display_data"
    },
    {
     "data": {
      "text/plain": [
       "array(['TitleYear'], dtype=object)"
      ]
     },
     "metadata": {},
     "output_type": "display_data"
    },
    {
     "data": {
      "text/plain": [
       "Genres\n",
       "Action                                            65\n",
       "Action|Adventure                                  25\n",
       "Action|Adventure|Animation                         1\n",
       "Action|Adventure|Animation|Children's|Fantasy      1\n",
       "Action|Adventure|Animation|Horror|Sci-Fi           1\n",
       "                                                ... \n",
       "Sci-Fi|Thriller|War                                1\n",
       "Sci-Fi|War                                         1\n",
       "Thriller                                         101\n",
       "War                                               12\n",
       "Western                                           33\n",
       "Name: TitleYear, Length: 301, dtype: int64"
      ]
     },
     "metadata": {},
     "output_type": "display_data"
    }
   ],
   "source": [
    "#************************************************************************************\n",
    "#********************************         Main       ********************************\n",
    "#************************************************************************************\n",
    "# Read *.csv file (Import Data)\n",
    "movies = pd.read_csv(\"https://raw.githubusercontent.com/IT-Academy-BCN/Data-Science/main/Pre-processing-data/movies.dat\",\n",
    "sep='::', encoding = 'ISO-8859-1', index_col=0, names=['TitleYear','Genres'], engine='python')\n",
    "\n",
    "print (\"Taula de dades MOVIES: \")                                 #Print Message\n",
    "display(movies)                                                   #Print Dataframe\n",
    "print (\"Versió de Panda: \", pd.__version__)                     #Print version of PANDA\n",
    "\n",
    "print (\"Taula de dades MOVIES: \")                                 #Print Message\n",
    "moviesG = movies.groupby([\"Genres\"]).count()\n",
    "\n",
    "display(moviesG)\n",
    "\n",
    "\n",
    "display(moviesG.columns.values)\n",
    "display(moviesG.TitleYear)"
   ]
  },
  {
   "cell_type": "code",
   "execution_count": 40,
   "id": "3d7f11c5",
   "metadata": {},
   "outputs": [
    {
     "data": {
      "text/plain": [
       "Drama                                  843\n",
       "Comedy                                 521\n",
       "Horror                                 178\n",
       "Comedy|Drama                           162\n",
       "Comedy|Romance                         142\n",
       "                                      ... \n",
       "Action|Comedy|Crime|Horror|Thriller      1\n",
       "Action|Drama|Thriller|War                1\n",
       "Action|Adventure|Children's              1\n",
       "Action|Adventure|Children's|Fantasy      1\n",
       "Adventure|Crime|Sci-Fi|Thriller          1\n",
       "Name: Genres, Length: 301, dtype: int64"
      ]
     },
     "metadata": {},
     "output_type": "display_data"
    },
    {
     "data": {
      "image/png": "[encoded data removed]",
      "text/plain": [
       "<Figure size 432x288 with 1 Axes>"
      ]
     },
     "metadata": {
      "needs_background": "light"
     },
     "output_type": "display_data"
    }
   ],
   "source": [
    "    \n",
    "# (1) Create a dataframe by calculate Result (1)\n",
    "df3 = movies['Genres'].value_counts() \n",
    "display(df3)\n",
    "\n",
    "# Print Result (1)\n",
    "#print (\"(1) Gràfica amb una variable categòrica (UniqueCarrier):\")          #Print message\n",
    "fig1 = plotHistogram(df3)                                                   #Call Function create plot\n",
    "\n"
   ]
  },
  {
   "cell_type": "code",
   "execution_count": 41,
   "id": "f2f98ba4",
   "metadata": {},
   "outputs": [
    {
     "data": {
      "image/png": "[encoded data removed]",
      "text/plain": [
       "<Figure size 432x288 with 1 Axes>"
      ]
     },
     "metadata": {
      "needs_background": "light"
     },
     "output_type": "display_data"
    }
   ],
   "source": [
    "plot1 = plotSnsHistplot(df3, \n",
    "                df3, \n",
    "               'Histograma (Movies by Genres)',\n",
    "               'Frecuency',\n",
    "               'Groups of Genres',\n",
    "               80)"
   ]
  },
  {
   "cell_type": "code",
   "execution_count": 43,
   "id": "e932624f",
   "metadata": {},
   "outputs": [
    {
     "data": {
      "text/plain": [
       "<AxesSubplot:xlabel='Genres', ylabel='Count'>"
      ]
     },
     "execution_count": 43,
     "metadata": {},
     "output_type": "execute_result"
    },
    {
     "data": {
      "image/png": "[encoded data removed]",
      "text/plain": [
       "<Figure size 432x288 with 1 Axes>"
      ]
     },
     "metadata": {
      "needs_background": "light"
     },
     "output_type": "display_data"
    }
   ],
   "source": [
    "sns.histplot(data=movies, x=\"Genres\", hue=\"Genres\", shrink=.8, alpha=.8, legend=False)"
   ]
  },
  {
   "cell_type": "markdown",
   "id": "9e0e19a3",
   "metadata": {},
   "source": [
    "<span style=color:green><b><u>ANÀLISIS HISTOGRAMA</u></b></span> \n",
    "\n",
    "En les gràfiques anteriors podem Observar que la majoria de gèneres tenen unes produccions aproximades entre 15 - 50 películes."
   ]
  },
  {
   "cell_type": "code",
   "execution_count": 53,
   "id": "a8c5250b",
   "metadata": {},
   "outputs": [
    {
     "data": {
      "image/png": "[encoded data removed]",
      "text/plain": [
       "<Figure size 432x288 with 1 Axes>"
      ]
     },
     "metadata": {},
     "output_type": "display_data"
    }
   ],
   "source": [
    "fig1 = plotDensityPlot (df3)"
   ]
  },
  {
   "cell_type": "markdown",
   "id": "25912f42",
   "metadata": {},
   "source": [
    "<span style=color:green><b><u>ANÀLISIS: </u></b></span> \n",
    "\n",
    "En aquesta gràfica observem que la major densitat en la producció de películes està compresa entre les 0 i 50 produccions."
   ]
  },
  {
   "cell_type": "code",
   "execution_count": 97,
   "id": "fc8de15f",
   "metadata": {},
   "outputs": [
    {
     "name": "stdout",
     "output_type": "stream",
     "text": [
      "Taula amb 3 companyies amb més retrassos: \n",
      "\n"
     ]
    },
    {
     "data": {
      "text/plain": [
       "Drama                      843\n",
       "Comedy                     521\n",
       "Horror                     178\n",
       "Comedy|Drama               162\n",
       "Comedy|Romance             142\n",
       "Drama|Romance              134\n",
       "Documentary                116\n",
       "Thriller                   101\n",
       "Action                      65\n",
       "Drama|Thriller              63\n",
       "Action|Thriller             48\n",
       "Children's|Comedy           47\n",
       "Crime|Drama                 44\n",
       "Drama|War                   43\n",
       "Romance                     40\n",
       "Action|Drama                39\n",
       "Animation|Children's        35\n",
       "Comedy|Drama|Romance        34\n",
       "Western                     33\n",
       "Horror|Sci-Fi               33\n",
       "Horror|Thriller             32\n",
       "Comedy|Horror               31\n",
       "Adventure|Children's        30\n",
       "Action|Sci-Fi               28\n",
       "Sci-Fi                      27\n",
       "Crime                       26\n",
       "Action|Adventure            25\n",
       "Action|Comedy               22\n",
       "Crime|Thriller              21\n",
       "Action|Adventure|Sci-Fi     21\n",
       "Name: Genres, dtype: int64"
      ]
     },
     "metadata": {},
     "output_type": "display_data"
    }
   ],
   "source": [
    "print(\"Taula amb 3 companyies amb més retrassos: \\n\") \n",
    "display(df3.head(n=30)) \n",
    "df4 = df3.head(n=30)"
   ]
  },
  {
   "cell_type": "code",
   "execution_count": 98,
   "id": "f69fe0dd",
   "metadata": {},
   "outputs": [
    {
     "data": {
      "image/png": "[encoded data removed]",
      "text/plain": [
       "<Figure size 432x288 with 1 Axes>"
      ]
     },
     "metadata": {},
     "output_type": "display_data"
    }
   ],
   "source": [
    "\n",
    "plot1 = plotSnsHistplot(df4, \n",
    "                df4, \n",
    "               'Histograma (Movies by Genres)',\n",
    "               'Frecuency',\n",
    "               'Groups of Genres',\n",
    "               50)"
   ]
  },
  {
   "cell_type": "markdown",
   "id": "dd4f8a08",
   "metadata": {},
   "source": [
    "<span style=color:green><b><u>ANÀLISIS: </u></b></span> \n",
    "\n",
    "Si seleccionem les 30 películes amb més reproduccions, encar podem veure amb més claredat el que comentàvem anteriorment, que la tendència més forta es realitzar una mitja entre 20 i 50 películes per gènere.\n",
    "\n",
    "Es veu també amb molta claredat que hi ha dos gèneres que predominen amb el nombre de produccions, aquets són el Drama i la Comèdia.\n",
    "\n",
    "Probablement aquesta tendència està vinculada a la demanada del públic per aquest tipus de gènere. Per tant , podríem dir que els gèneres que més visualitza l'espectador són de Drama i Comèdia.\n",
    "\n"
   ]
  },
  {
   "cell_type": "code",
   "execution_count": 103,
   "id": "d5d94097",
   "metadata": {},
   "outputs": [
    {
     "data": {
      "image/png": "[encoded data removed]",
      "text/plain": [
       "<Figure size 432x288 with 1 Axes>"
      ]
     },
     "metadata": {},
     "output_type": "display_data"
    }
   ],
   "source": [
    "fig1 = plotBarplotMultiple(df4, df4, df4, df4, 1)"
   ]
  },
  {
   "cell_type": "code",
   "execution_count": 105,
   "id": "44c1afd9",
   "metadata": {},
   "outputs": [
    {
     "data": {
      "text/plain": [
       "<seaborn.axisgrid.FacetGrid at 0x23cd8a13220>"
      ]
     },
     "execution_count": 105,
     "metadata": {},
     "output_type": "execute_result"
    },
    {
     "data": {
      "image/png": "[encoded data removed]",
      "text/plain": [
       "<Figure size 489.975x432 with 1 Axes>"
      ]
     },
     "metadata": {},
     "output_type": "display_data"
    }
   ],
   "source": [
    "# Plot miles per gallon against horsepower with other semantics\n",
    "sns.relplot(x=df4, y=df4, size=df4,\n",
    "            sizes=(40, 400), alpha=.5, palette=\"muted\",\n",
    "            height=6, data=df4)"
   ]
  },
  {
   "cell_type": "code",
   "execution_count": null,
   "id": "cfb305cb",
   "metadata": {},
   "outputs": [],
   "source": []
  }
 ],
 "metadata": {
  "hide_input": false,
  "kernelspec": {
   "display_name": "Python 3 (ipykernel)",
   "language": "python",
   "name": "python3"
  },
  "language_info": {
   "codemirror_mode": {
    "name": "ipython",
    "version": 3
   },
   "file_extension": ".py",
   "mimetype": "text/x-python",
   "name": "python",
   "nbconvert_exporter": "python",
   "pygments_lexer": "ipython3",
   "version": "3.9.7"
  },
  "nbTranslate": {
   "displayLangs": [
    "*"
   ],
   "hotkey": "alt-t",
   "langInMainMenu": true,
   "sourceLang": "en",
   "targetLang": "fr",
   "useGoogleTranslate": true
  },
  "toc": {
   "base_numbering": 1,
   "nav_menu": {},
   "number_sections": true,
   "sideBar": true,
   "skip_h1_title": false,
   "title_cell": "Table of Contents",
   "title_sidebar": "Contents",
   "toc_cell": false,
   "toc_position": {},
   "toc_section_display": true,
   "toc_window_display": false
  },
  "varInspector": {
   "cols": {
    "lenName": 16,
    "lenType": 16,
    "lenVar": 40
   },
   "kernels_config": {
    "python": {
     "delete_cmd_postfix": "",
     "delete_cmd_prefix": "del ",
     "library": "var_list.py",
     "varRefreshCmd": "print(var_dic_list())"
    },
    "r": {
     "delete_cmd_postfix": ") ",
     "delete_cmd_prefix": "rm(",
     "library": "var_list.r",
     "varRefreshCmd": "cat(var_dic_list()) "
    }
   },
   "types_to_exclude": [
    "module",
    "function",
    "builtin_function_or_method",
    "instance",
    "_Feature"
   ],
   "window_display": false
  }
 },
 "nbformat": 4,
 "nbformat_minor": 5
}
